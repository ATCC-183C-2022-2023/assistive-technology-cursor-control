{
 "cells": [
  {
   "cell_type": "code",
   "execution_count": 1,
   "metadata": {},
   "outputs": [],
   "source": [
    "import numpy as np\n",
    "import pandas as pd\n",
    "import tensorflow as tf\n",
    "import json\n",
    "import cv2\n",
    "import sklearn\n",
    "from tensorflow.keras import regularizers\n",
    "from tensorflow.keras import layers\n",
    "import os"
   ]
  },
  {
   "cell_type": "code",
   "execution_count": 2,
   "metadata": {},
   "outputs": [],
   "source": [
    "GESTURE_TYPES = 11\n",
    "LABEL_DICT = {k:i for i,k in enumerate([21, 24, 25, 26, 27, 28, 29, 30, 31, 32, 33])}\n",
    "CONNECTION_LABELS = [\n",
    "    (0, 1), (1, 2), (2, 3), (3, 4),\n",
    "    (5, 6), (6, 7), (7, 8),\n",
    "    (9, 10), (10, 11), (11, 12),\n",
    "    (13, 14), (14, 15), (15, 16),\n",
    "    (17, 18), (18, 19), (19, 20),\n",
    "    (0, 5), (5, 9), (9, 13), (13, 17), (0, 17)\n",
    "]"
   ]
  },
  {
   "cell_type": "code",
   "execution_count": 3,
   "metadata": {
    "tags": []
   },
   "outputs": [
    {
     "name": "stdout",
     "output_type": "stream",
     "text": [
      "(60587, 15, 21, 3) (60587,)\n"
     ]
    }
   ],
   "source": [
    "def load_keypoint_sequences(data_path='gesture_recognition/Fall 2020/data_30', sequence_length=15):\n",
    "    keypoints = []\n",
    "    labels = []\n",
    "    for subjectName in os.listdir(data_path):\n",
    "        if not (subjectName.startswith(\"Subject\") or subjectName.startswith(\"subject\")): continue\n",
    "        # subjectNum = int(re.findall(r'(\\d+)', subjectName)[0])\n",
    "        for sceneName in os.listdir(os.path.join(data_path, subjectName)):\n",
    "            if not (sceneName.startswith(\"Scene\") or subjectName.startswith(\"scene\")): continue\n",
    "            for groupEntry in os.scandir(os.path.join(data_path, subjectName, sceneName)):\n",
    "                with open(groupEntry, 'r') as f:\n",
    "                    groupData = json.load(f)\n",
    "                    for gesture in groupData:\n",
    "                        # print(gesture['label'], gesture['keypoints'])\n",
    "                        for i in range(len(gesture['keypoints'])):\n",
    "                            if not gesture['keypoints'][i]:\n",
    "                                gesture['keypoints'][i] = [[np.nan, np.nan, np.nan] for _ in range(21)]\n",
    "                        for start_frame in range(len(gesture['keypoints']) - sequence_length + 1):\n",
    "                            keypoints.append(gesture['keypoints'][start_frame: start_frame + sequence_length])\n",
    "                            labels.append(LABEL_DICT[gesture['label']])\n",
    "    keypoints = np.array(keypoints)\n",
    "    labels = np.array(labels)\n",
    "    return keypoints, labels\n",
    "keypoints, labels = load_keypoint_sequences()\n",
    "print(keypoints.shape, labels.shape)"
   ]
  },
  {
   "cell_type": "code",
   "execution_count": 4,
   "metadata": {},
   "outputs": [
    {
     "name": "stdout",
     "output_type": "stream",
     "text": [
      "(60587, 15, 210)\n"
     ]
    }
   ],
   "source": [
    "def generate_connection_angles_from_sequences(keypoints, keypoints_num=21, keypoints_dimensions=3):\n",
    "    connections = []\n",
    "    for connection in CONNECTION_LABELS:\n",
    "        connections.append(keypoints[..., connection[1], :] - keypoints[..., connection[0], :])\n",
    "    connections = np.stack(connections, axis = -2)\n",
    "    tensor1 = connections[..., np.newaxis].repeat(keypoints_num, -1).transpose(0,1,2,4,3)\n",
    "    tensor2 = connections[..., np.newaxis].repeat(keypoints_num, -1).transpose(0,1,4,2,3)\n",
    "    angles = (tensor1*tensor2).sum(axis=-1)/np.linalg.norm(tensor1,axis=-1)/np.linalg.norm(tensor2,axis=-1)\n",
    "    angles = angles.transpose(2,3,0,1)[np.triu_indices(21, k = 1)].transpose(1,2,0)\n",
    "    return np.arccos(angles)\n",
    "angles = generate_connection_angles_from_sequences(keypoints)\n",
    "print(angles.shape)"
   ]
  },
  {
   "cell_type": "code",
   "execution_count": 5,
   "metadata": {},
   "outputs": [
    {
     "name": "stdout",
     "output_type": "stream",
     "text": [
      "(60587, 15, 210)\n"
     ]
    }
   ],
   "source": [
    "def generate_joint_distances_from_sequences(keypoints, keypoints_num=21, keypoints_dimensions=3):\n",
    "    connections = []\n",
    "    for connection in CONNECTION_LABELS:\n",
    "        connections.append(keypoints[..., connection[1], :] - keypoints[..., connection[0], :])\n",
    "    connections = np.stack(connections, axis = -2)\n",
    "    tensor1 = connections[..., np.newaxis].repeat(keypoints_num, -1).transpose(0,1,2,4,3)\n",
    "    tensor2 = connections[..., np.newaxis].repeat(keypoints_num, -1).transpose(0,1,4,2,3)\n",
    "    distances = np.linalg.norm(tensor1-tensor2,axis=-1).transpose(2,3,0,1)[np.triu_indices(21, k = 1)].transpose(1,2,0)\n",
    "    return distances\n",
    "distances = generate_joint_distances_from_sequences(keypoints)\n",
    "print(distances.shape)"
   ]
  },
  {
   "cell_type": "code",
   "execution_count": 6,
   "metadata": {},
   "outputs": [],
   "source": [
    "def visualize_keypoint_sequences(keypoints):\n",
    "    for sequence in keypoints:\n",
    "        for points in sequence:\n",
    "            img = np.zeros((480, 640, 3))\n",
    "            for point in points:\n",
    "                x, y, z = point\n",
    "                if np.isnan(x):\n",
    "                    continue\n",
    "                cv2.circle(img, (int(x), int(y)), 4, (255, 0, 0), 2)\n",
    "            for connection in CONNECTION_LABELS:\n",
    "                if np.isnan(points[connection[0]][0]):\n",
    "                    continue\n",
    "                x0, y0, z0 = points[connection[0]]\n",
    "                x1, y1, z1 = points[connection[1]]\n",
    "                cv2.line(img, (int(x0), int(y0)), (int(x1), int(y1)), (0, 255, 0), 2)\n",
    "            cv2.imshow(\"Key Points\", img)\n",
    "            key = cv2.waitKey(1)\n",
    "            if key == 27:\n",
    "                cv2.destroyAllWindows()\n",
    "                cv2.waitKey(1) # cannot close window on macOS without this line\n",
    "                return\n",
    "# visualize_keypoint_sequences(keypoints)"
   ]
  },
  {
   "cell_type": "code",
   "execution_count": 7,
   "metadata": {},
   "outputs": [
    {
     "name": "stdout",
     "output_type": "stream",
     "text": [
      "(60587, 15, 483)\n"
     ]
    }
   ],
   "source": [
    "def process_sequence_features(keypoints, angles, distances):\n",
    "    data_length = keypoints.shape[0]\n",
    "    sequence_length = keypoints.shape[1]\n",
    "    keypoints = keypoints.reshape(data_length*sequence_length, -1)\n",
    "    angles = angles.reshape(data_length*sequence_length, -1)\n",
    "    distances = distances.reshape(data_length*sequence_length, -1)\n",
    "    features = np.concatenate((keypoints, angles, distances), -1)\n",
    "    df = pd.DataFrame(features)\n",
    "    df = (df-df.mean())/df.std()\n",
    "    df = df.fillna(0)\n",
    "    features = df.to_numpy().reshape(data_length, sequence_length, -1)\n",
    "    return features\n",
    "X = process_sequence_features(keypoints, angles, distances)\n",
    "#normalizer = tf.keras.layers.experimental.preprocessing.Normalization()\n",
    "#normalizer.adapt(X)\n",
    "# X_train, X_val, y_train, y_val = train_test_split(processed_keypoints, labels, test_size=0.2, random_state=0)\n",
    "print(X.shape)"
   ]
  },
  {
   "cell_type": "markdown",
   "metadata": {},
   "source": [
    "## RNN Classification"
   ]
  },
  {
   "cell_type": "code",
   "execution_count": 9,
   "metadata": {},
   "outputs": [
    {
     "name": "stdout",
     "output_type": "stream",
     "text": [
      "Train on 48469 samples, validate on 12118 samples\n",
      "Epoch 1/20\n",
      "48469/48469 [==============================] - 71s 1ms/sample - loss: 0.5908 - accuracy: 0.8223 - val_loss: 0.6401 - val_accuracy: 0.8146\n",
      "Epoch 2/20\n",
      "48469/48469 [==============================] - 70s 1ms/sample - loss: 0.3040 - accuracy: 0.9047 - val_loss: 0.6520 - val_accuracy: 0.8204\n",
      "Epoch 3/20\n",
      "48469/48469 [==============================] - 71s 1ms/sample - loss: 0.2502 - accuracy: 0.9225 - val_loss: 0.6519 - val_accuracy: 0.8329\n",
      "Epoch 4/20\n",
      "48469/48469 [==============================] - 70s 1ms/sample - loss: 0.2150 - accuracy: 0.9352 - val_loss: 0.7150 - val_accuracy: 0.8263\n",
      "Epoch 5/20\n",
      "48469/48469 [==============================] - 70s 1ms/sample - loss: 0.1819 - accuracy: 0.9444 - val_loss: 0.7729 - val_accuracy: 0.8275\n",
      "Epoch 6/20\n",
      "48469/48469 [==============================] - 68s 1ms/sample - loss: 0.1677 - accuracy: 0.9473 - val_loss: 0.7251 - val_accuracy: 0.8316\n",
      "Epoch 7/20\n",
      "48469/48469 [==============================] - 69s 1ms/sample - loss: 0.1632 - accuracy: 0.9498 - val_loss: 0.8117 - val_accuracy: 0.8278\n",
      "Epoch 8/20\n",
      "48469/48469 [==============================] - 66s 1ms/sample - loss: 0.1398 - accuracy: 0.9572 - val_loss: 0.8330 - val_accuracy: 0.8270\n",
      "Epoch 9/20\n",
      "48469/48469 [==============================] - 65s 1ms/sample - loss: 0.1281 - accuracy: 0.9609 - val_loss: 0.8685 - val_accuracy: 0.8333\n",
      "Epoch 10/20\n",
      "48469/48469 [==============================] - 65s 1ms/sample - loss: 0.1330 - accuracy: 0.9600 - val_loss: 0.8160 - val_accuracy: 0.8360\n",
      "Epoch 11/20\n",
      "48469/48469 [==============================] - 65s 1ms/sample - loss: 0.1083 - accuracy: 0.9669 - val_loss: 0.7939 - val_accuracy: 0.8369\n",
      "Epoch 12/20\n",
      "48469/48469 [==============================] - 70s 1ms/sample - loss: 0.1664 - accuracy: 0.9552 - val_loss: 0.8130 - val_accuracy: 0.8389\n",
      "Epoch 13/20\n",
      "48469/48469 [==============================] - 65s 1ms/sample - loss: 0.1140 - accuracy: 0.9661 - val_loss: 0.8673 - val_accuracy: 0.8356\n",
      "Epoch 14/20\n",
      "48469/48469 [==============================] - 65s 1ms/sample - loss: 0.1073 - accuracy: 0.9673 - val_loss: 0.9072 - val_accuracy: 0.8307\n",
      "Epoch 15/20\n",
      "48469/48469 [==============================] - 67s 1ms/sample - loss: 0.0986 - accuracy: 0.9691 - val_loss: 0.9566 - val_accuracy: 0.8322\n",
      "Epoch 16/20\n",
      "48469/48469 [==============================] - 63s 1ms/sample - loss: 0.0975 - accuracy: 0.9707 - val_loss: 0.8609 - val_accuracy: 0.8408\n",
      "Epoch 17/20\n",
      "48469/48469 [==============================] - 64s 1ms/sample - loss: 0.1289 - accuracy: 0.9649 - val_loss: 0.8649 - val_accuracy: 0.8431\n",
      "Epoch 18/20\n",
      "48469/48469 [==============================] - 63s 1ms/sample - loss: 0.1158 - accuracy: 0.9684 - val_loss: 0.8637 - val_accuracy: 0.8428\n",
      "Epoch 19/20\n",
      "48469/48469 [==============================] - 63s 1ms/sample - loss: 0.0865 - accuracy: 0.9742 - val_loss: 1.1108 - val_accuracy: 0.8185\n",
      "Epoch 20/20\n",
      "48469/48469 [==============================] - 64s 1ms/sample - loss: 0.0913 - accuracy: 0.9723 - val_loss: 1.1203 - val_accuracy: 0.8175\n"
     ]
    }
   ],
   "source": [
    "model_lstm = tf.keras.Sequential([layers.Masking() ,layers.LSTM(GESTURE_TYPES, activation=None), layers.Activation('softmax')])\n",
    "model_lstm.compile(loss=tf.losses.SparseCategoricalCrossentropy(), optimizer=tf.optimizers.Adam(), metrics=['accuracy'])\n",
    "history = model_lstm.fit(X, labels, epochs=20, validation_split=0.2)"
   ]
  },
  {
   "cell_type": "code",
   "execution_count": 8,
   "metadata": {},
   "outputs": [
    {
     "name": "stdout",
     "output_type": "stream",
     "text": [
      "Train on 48469 samples, validate on 12118 samples\n",
      "Epoch 1/20\n",
      "48469/48469 [==============================] - 92s 2ms/sample - loss: 0.4011 - accuracy: 0.8700 - val_loss: 0.5307 - val_accuracy: 0.8280\n",
      "Epoch 2/20\n",
      "48469/48469 [==============================] - 56s 1ms/sample - loss: 0.2318 - accuracy: 0.9246 - val_loss: 0.6315 - val_accuracy: 0.8179\n",
      "Epoch 3/20\n",
      "48469/48469 [==============================] - 55s 1ms/sample - loss: 0.1886 - accuracy: 0.9400 - val_loss: 0.6900 - val_accuracy: 0.8179\n",
      "Epoch 4/20\n",
      "48469/48469 [==============================] - 54s 1ms/sample - loss: 0.1624 - accuracy: 0.9485 - val_loss: 0.6912 - val_accuracy: 0.8237\n",
      "Epoch 5/20\n",
      "48469/48469 [==============================] - 55s 1ms/sample - loss: 0.1495 - accuracy: 0.9518 - val_loss: 0.7715 - val_accuracy: 0.8209\n",
      "Epoch 6/20\n",
      "48469/48469 [==============================] - 54s 1ms/sample - loss: 0.1271 - accuracy: 0.9599 - val_loss: 0.7342 - val_accuracy: 0.8215\n",
      "Epoch 7/20\n",
      "48469/48469 [==============================] - 55s 1ms/sample - loss: 0.1255 - accuracy: 0.9607 - val_loss: 0.8029 - val_accuracy: 0.8219\n",
      "Epoch 8/20\n",
      "48469/48469 [==============================] - 58s 1ms/sample - loss: 0.1102 - accuracy: 0.9656 - val_loss: 0.8037 - val_accuracy: 0.8232\n",
      "Epoch 9/20\n",
      "48469/48469 [==============================] - 57s 1ms/sample - loss: 0.1003 - accuracy: 0.9686 - val_loss: 0.9059 - val_accuracy: 0.8159\n",
      "Epoch 10/20\n",
      "48469/48469 [==============================] - 58s 1ms/sample - loss: 0.0954 - accuracy: 0.9701 - val_loss: 0.9229 - val_accuracy: 0.8175\n",
      "Epoch 11/20\n",
      "48469/48469 [==============================] - 61s 1ms/sample - loss: 0.0946 - accuracy: 0.9707 - val_loss: 0.9677 - val_accuracy: 0.8113\n",
      "Epoch 12/20\n",
      "48469/48469 [==============================] - 59s 1ms/sample - loss: 0.0962 - accuracy: 0.9702 - val_loss: 0.8378 - val_accuracy: 0.8248\n",
      "Epoch 13/20\n",
      "48469/48469 [==============================] - 62s 1ms/sample - loss: 0.0808 - accuracy: 0.9739 - val_loss: 0.9658 - val_accuracy: 0.8203\n",
      "Epoch 14/20\n",
      "48469/48469 [==============================] - 61s 1ms/sample - loss: 0.0802 - accuracy: 0.9749 - val_loss: 1.0375 - val_accuracy: 0.8146\n",
      "Epoch 15/20\n",
      "48469/48469 [==============================] - 59s 1ms/sample - loss: 0.0800 - accuracy: 0.9747 - val_loss: 0.9813 - val_accuracy: 0.8214\n",
      "Epoch 16/20\n",
      "48469/48469 [==============================] - 61s 1ms/sample - loss: 0.0731 - accuracy: 0.9770 - val_loss: 0.9700 - val_accuracy: 0.8229\n",
      "Epoch 17/20\n",
      "48469/48469 [==============================] - 60s 1ms/sample - loss: 0.0696 - accuracy: 0.9784 - val_loss: 1.0066 - val_accuracy: 0.8190\n",
      "Epoch 18/20\n",
      "48469/48469 [==============================] - 61s 1ms/sample - loss: 0.0657 - accuracy: 0.9791 - val_loss: 1.0846 - val_accuracy: 0.8153\n",
      "Epoch 19/20\n",
      "48469/48469 [==============================] - 58s 1ms/sample - loss: 0.0817 - accuracy: 0.9756 - val_loss: 1.0662 - val_accuracy: 0.8197\n",
      "Epoch 20/20\n",
      "48469/48469 [==============================] - 59s 1ms/sample - loss: 0.0682 - accuracy: 0.9791 - val_loss: 1.1607 - val_accuracy: 0.8144\n"
     ]
    }
   ],
   "source": [
    "model_gru = tf.keras.Sequential([layers.Masking() ,layers.GRU(GESTURE_TYPES, activation=None), layers.Activation('softmax')])\n",
    "model_gru.compile(loss=tf.losses.SparseCategoricalCrossentropy(), optimizer=tf.optimizers.Adam(), metrics=['accuracy'])\n",
    "history = model_gru.fit(X, labels, epochs=20, validation_split=0.2)"
   ]
  },
  {
   "cell_type": "markdown",
   "metadata": {},
   "source": [
    "GRU cells sometimes work not as well as LSTM cells, but is cheaper in theory."
   ]
  },
  {
   "cell_type": "code",
   "execution_count": 10,
   "metadata": {},
   "outputs": [
    {
     "name": "stdout",
     "output_type": "stream",
     "text": [
      "Train on 48469 samples, validate on 12118 samples\n",
      "Epoch 1/20\n",
      "48469/48469 [==============================] - 112s 2ms/sample - loss: 0.6122 - accuracy: 0.8259 - val_loss: 0.5871 - val_accuracy: 0.8194\n",
      "Epoch 2/20\n",
      "48469/48469 [==============================] - 102s 2ms/sample - loss: 0.3400 - accuracy: 0.8997 - val_loss: 0.6354 - val_accuracy: 0.8277\n",
      "Epoch 3/20\n",
      "48469/48469 [==============================] - 103s 2ms/sample - loss: 0.2925 - accuracy: 0.9128 - val_loss: 0.6672 - val_accuracy: 0.8220\n",
      "Epoch 4/20\n",
      "48469/48469 [==============================] - 87s 2ms/sample - loss: 0.2513 - accuracy: 0.9253 - val_loss: 0.7424 - val_accuracy: 0.8193\n",
      "Epoch 5/20\n",
      "48469/48469 [==============================] - 87s 2ms/sample - loss: 0.3849 - accuracy: 0.9087 - val_loss: 0.7436 - val_accuracy: 0.8193\n",
      "Epoch 6/20\n",
      "48469/48469 [==============================] - 86s 2ms/sample - loss: 0.2694 - accuracy: 0.9232 - val_loss: 0.7694 - val_accuracy: 0.8227\n",
      "Epoch 7/20\n",
      "48469/48469 [==============================] - 87s 2ms/sample - loss: 0.3248 - accuracy: 0.9170 - val_loss: 0.8707 - val_accuracy: 0.8203\n",
      "Epoch 8/20\n",
      "48469/48469 [==============================] - 88s 2ms/sample - loss: 0.1973 - accuracy: 0.9411 - val_loss: 0.8135 - val_accuracy: 0.8203\n",
      "Epoch 9/20\n",
      "48469/48469 [==============================] - 85s 2ms/sample - loss: 0.1829 - accuracy: 0.9463 - val_loss: 0.8215 - val_accuracy: 0.8211\n",
      "Epoch 10/20\n",
      "48469/48469 [==============================] - 86s 2ms/sample - loss: 0.1826 - accuracy: 0.9458 - val_loss: 0.8002 - val_accuracy: 0.8312\n",
      "Epoch 11/20\n",
      "48469/48469 [==============================] - 88s 2ms/sample - loss: 0.1545 - accuracy: 0.9528 - val_loss: 0.9109 - val_accuracy: 0.8166\n",
      "Epoch 12/20\n",
      "48469/48469 [==============================] - 86s 2ms/sample - loss: 0.1673 - accuracy: 0.9516 - val_loss: 0.8136 - val_accuracy: 0.8329\n",
      "Epoch 13/20\n",
      "48469/48469 [==============================] - 95s 2ms/sample - loss: 0.1780 - accuracy: 0.9498 - val_loss: 0.9163 - val_accuracy: 0.8248\n",
      "Epoch 14/20\n",
      "48469/48469 [==============================] - 103s 2ms/sample - loss: 0.1350 - accuracy: 0.9596 - val_loss: 1.0694 - val_accuracy: 0.8243\n",
      "Epoch 15/20\n",
      "48469/48469 [==============================] - 90s 2ms/sample - loss: 0.1578 - accuracy: 0.9550 - val_loss: 1.0924 - val_accuracy: 0.8270\n",
      "Epoch 16/20\n",
      "48469/48469 [==============================] - 95s 2ms/sample - loss: 0.1343 - accuracy: 0.9603 - val_loss: 1.0097 - val_accuracy: 0.8263\n",
      "Epoch 17/20\n",
      "48469/48469 [==============================] - 102s 2ms/sample - loss: 0.1675 - accuracy: 0.9537 - val_loss: 1.0690 - val_accuracy: 0.8295\n",
      "Epoch 18/20\n",
      "48469/48469 [==============================] - 104s 2ms/sample - loss: 0.1351 - accuracy: 0.9592 - val_loss: 1.0477 - val_accuracy: 0.8250\n",
      "Epoch 19/20\n",
      "48469/48469 [==============================] - 146s 3ms/sample - loss: 0.1378 - accuracy: 0.9613 - val_loss: 1.1471 - val_accuracy: 0.8281\n",
      "Epoch 20/20\n",
      "48469/48469 [==============================] - 141s 3ms/sample - loss: 0.1212 - accuracy: 0.9642 - val_loss: 1.1196 - val_accuracy: 0.8256\n"
     ]
    }
   ],
   "source": [
    "model_bilstm = tf.keras.Sequential([layers.Masking(), tf.keras.layers.Bidirectional(tf.keras.layers.LSTM(GESTURE_TYPES, activation=None)), tf.keras.layers.Activation('softmax')])\n",
    "model_bilstm.compile(loss=tf.losses.SparseCategoricalCrossentropy(), optimizer=tf.optimizers.Adam(), metrics=['accuracy'])\n",
    "history = model_bilstm.fit(X, labels, epochs=20, validation_split=0.2)"
   ]
  },
  {
   "cell_type": "markdown",
   "metadata": {},
   "source": [
    "Making LSTM bidirectional does not improve the accuracy by a lot."
   ]
  },
  {
   "cell_type": "code",
   "execution_count": 11,
   "metadata": {},
   "outputs": [
    {
     "name": "stdout",
     "output_type": "stream",
     "text": [
      "Train on 48469 samples, validate on 12118 samples\n",
      "Epoch 1/20\n",
      "48469/48469 [==============================] - 57s 1ms/sample - loss: 1.0035 - accuracy: 0.7062 - val_loss: 0.9609 - val_accuracy: 0.7347\n",
      "Epoch 2/20\n",
      "48469/48469 [==============================] - 49s 1ms/sample - loss: 0.5405 - accuracy: 0.8302 - val_loss: 0.9544 - val_accuracy: 0.7820\n",
      "Epoch 3/20\n",
      "48469/48469 [==============================] - 46s 954us/sample - loss: 0.4549 - accuracy: 0.8566 - val_loss: 0.8428 - val_accuracy: 0.7762\n",
      "Epoch 4/20\n",
      "48469/48469 [==============================] - 45s 919us/sample - loss: 0.4230 - accuracy: 0.8643 - val_loss: 0.8053 - val_accuracy: 0.7876\n",
      "Epoch 5/20\n",
      "48469/48469 [==============================] - 53s 1ms/sample - loss: 0.4059 - accuracy: 0.8686 - val_loss: 0.7734 - val_accuracy: 0.7965\n",
      "Epoch 6/20\n",
      "48469/48469 [==============================] - 46s 941us/sample - loss: 0.3876 - accuracy: 0.8754 - val_loss: 0.8141 - val_accuracy: 0.8040\n",
      "Epoch 7/20\n",
      "48469/48469 [==============================] - 45s 935us/sample - loss: 0.3747 - accuracy: 0.8791 - val_loss: 0.7851 - val_accuracy: 0.8039\n",
      "Epoch 8/20\n",
      "48469/48469 [==============================] - 46s 954us/sample - loss: 0.3677 - accuracy: 0.8812 - val_loss: 0.8251 - val_accuracy: 0.7926\n",
      "Epoch 9/20\n",
      "48469/48469 [==============================] - 43s 881us/sample - loss: 0.3472 - accuracy: 0.8873 - val_loss: 0.8095 - val_accuracy: 0.8018\n",
      "Epoch 10/20\n",
      "48469/48469 [==============================] - 45s 922us/sample - loss: 0.3376 - accuracy: 0.8921 - val_loss: 0.7892 - val_accuracy: 0.8074\n",
      "Epoch 11/20\n",
      "48469/48469 [==============================] - 45s 934us/sample - loss: 0.3301 - accuracy: 0.8936 - val_loss: 0.7965 - val_accuracy: 0.8042\n",
      "Epoch 12/20\n",
      "48469/48469 [==============================] - 43s 882us/sample - loss: 0.3225 - accuracy: 0.8959 - val_loss: 0.8787 - val_accuracy: 0.7991\n",
      "Epoch 13/20\n",
      "48469/48469 [==============================] - 46s 942us/sample - loss: 0.3148 - accuracy: 0.8985 - val_loss: 0.8154 - val_accuracy: 0.8027\n",
      "Epoch 14/20\n",
      "48469/48469 [==============================] - 47s 963us/sample - loss: 0.3105 - accuracy: 0.8994 - val_loss: 0.8269 - val_accuracy: 0.8064\n",
      "Epoch 15/20\n",
      "48469/48469 [==============================] - 47s 962us/sample - loss: 0.3056 - accuracy: 0.9024 - val_loss: 0.8210 - val_accuracy: 0.8040\n",
      "Epoch 16/20\n",
      "48469/48469 [==============================] - 46s 939us/sample - loss: 0.2981 - accuracy: 0.9030 - val_loss: 0.8824 - val_accuracy: 0.7968\n",
      "Epoch 17/20\n",
      "48469/48469 [==============================] - 46s 951us/sample - loss: 0.2909 - accuracy: 0.9066 - val_loss: 0.9662 - val_accuracy: 0.8001\n",
      "Epoch 18/20\n",
      "48469/48469 [==============================] - 47s 965us/sample - loss: 0.2878 - accuracy: 0.9058 - val_loss: 0.9719 - val_accuracy: 0.7965\n",
      "Epoch 19/20\n",
      "48469/48469 [==============================] - 48s 980us/sample - loss: 0.2817 - accuracy: 0.9091 - val_loss: 1.0650 - val_accuracy: 0.7794\n",
      "Epoch 20/20\n",
      "48469/48469 [==============================] - 45s 933us/sample - loss: 0.2715 - accuracy: 0.9139 - val_loss: 0.9977 - val_accuracy: 0.7983\n"
     ]
    }
   ],
   "source": [
    "model_rnn = tf.keras.Sequential([layers.Masking() ,tf.keras.layers.SimpleRNN(GESTURE_TYPES, activation=None), tf.keras.layers.Activation('softmax')])\n",
    "model_rnn.compile(loss=tf.losses.SparseCategoricalCrossentropy(), optimizer=tf.optimizers.Adam(), metrics=['accuracy'])\n",
    "history = model_rnn.fit(X, labels, epochs=20, validation_split=0.2)"
   ]
  },
  {
   "cell_type": "markdown",
   "metadata": {},
   "source": [
    "Simple RNN gives a slightly worse performance."
   ]
  },
  {
   "cell_type": "code",
   "execution_count": 12,
   "metadata": {},
   "outputs": [
    {
     "name": "stdout",
     "output_type": "stream",
     "text": [
      "Train on 48469 samples, validate on 12118 samples\n",
      "Epoch 1/20\n",
      "48469/48469 [==============================] - 144s 3ms/sample - loss: 0.2658 - accuracy: 0.9189 - val_loss: 0.5949 - val_accuracy: 0.8339\n",
      "Epoch 2/20\n",
      "48469/48469 [==============================] - 133s 3ms/sample - loss: 0.0836 - accuracy: 0.9768 - val_loss: 0.6417 - val_accuracy: 0.8395\n",
      "Epoch 3/20\n",
      "48469/48469 [==============================] - 146s 3ms/sample - loss: 0.0388 - accuracy: 0.9907 - val_loss: 0.7743 - val_accuracy: 0.8158\n",
      "Epoch 4/20\n",
      "48469/48469 [==============================] - 146s 3ms/sample - loss: 0.0339 - accuracy: 0.9912 - val_loss: 0.7350 - val_accuracy: 0.8359\n",
      "Epoch 5/20\n",
      "48469/48469 [==============================] - 147s 3ms/sample - loss: 0.0233 - accuracy: 0.9945 - val_loss: 0.7939 - val_accuracy: 0.8310\n",
      "Epoch 6/20\n",
      "48469/48469 [==============================] - 132s 3ms/sample - loss: 0.0236 - accuracy: 0.9935 - val_loss: 0.8854 - val_accuracy: 0.8304\n",
      "Epoch 7/20\n",
      "48469/48469 [==============================] - 144s 3ms/sample - loss: 0.0211 - accuracy: 0.9939 - val_loss: 0.8594 - val_accuracy: 0.8268\n",
      "Epoch 8/20\n",
      "48469/48469 [==============================] - 136s 3ms/sample - loss: 0.0203 - accuracy: 0.9942 - val_loss: 0.8622 - val_accuracy: 0.8327\n",
      "Epoch 9/20\n",
      "48469/48469 [==============================] - 129s 3ms/sample - loss: 0.0140 - accuracy: 0.9965 - val_loss: 0.8583 - val_accuracy: 0.8401\n",
      "Epoch 10/20\n",
      "48469/48469 [==============================] - 124s 3ms/sample - loss: 0.0136 - accuracy: 0.9962 - val_loss: 0.9032 - val_accuracy: 0.8372\n",
      "Epoch 11/20\n",
      "48469/48469 [==============================] - 137s 3ms/sample - loss: 0.0148 - accuracy: 0.9960 - val_loss: 0.9289 - val_accuracy: 0.8184\n",
      "Epoch 12/20\n",
      "48469/48469 [==============================] - 130s 3ms/sample - loss: 0.0116 - accuracy: 0.9967 - val_loss: 0.9620 - val_accuracy: 0.8279\n",
      "Epoch 13/20\n",
      "48469/48469 [==============================] - 127s 3ms/sample - loss: 0.0107 - accuracy: 0.9973 - val_loss: 0.8790 - val_accuracy: 0.8339\n",
      "Epoch 14/20\n",
      "48469/48469 [==============================] - 131s 3ms/sample - loss: 0.0103 - accuracy: 0.9972 - val_loss: 1.0207 - val_accuracy: 0.8298\n",
      "Epoch 15/20\n",
      "48469/48469 [==============================] - 125s 3ms/sample - loss: 0.0118 - accuracy: 0.9967 - val_loss: 0.9876 - val_accuracy: 0.8284\n",
      "Epoch 16/20\n",
      "48469/48469 [==============================] - 126s 3ms/sample - loss: 0.0082 - accuracy: 0.9976 - val_loss: 1.0851 - val_accuracy: 0.8169\n",
      "Epoch 17/20\n",
      "48469/48469 [==============================] - 126s 3ms/sample - loss: 0.0075 - accuracy: 0.9978 - val_loss: 1.0574 - val_accuracy: 0.8289\n",
      "Epoch 18/20\n",
      "48469/48469 [==============================] - 137s 3ms/sample - loss: 0.0124 - accuracy: 0.9961 - val_loss: 1.0315 - val_accuracy: 0.8275\n",
      "Epoch 19/20\n",
      "48469/48469 [==============================] - 143s 3ms/sample - loss: 0.0085 - accuracy: 0.9977 - val_loss: 1.0534 - val_accuracy: 0.8256\n",
      "Epoch 20/20\n",
      "48469/48469 [==============================] - 144s 3ms/sample - loss: 0.0067 - accuracy: 0.9982 - val_loss: 0.9942 - val_accuracy: 0.8372\n"
     ]
    }
   ],
   "source": [
    "model_lstm4 = tf.keras.Sequential([layers.Masking(), tf.keras.layers.LSTM(128), layers.Dense(GESTURE_TYPES), layers.Activation('softmax')])\n",
    "model_lstm4.compile(loss=tf.losses.SparseCategoricalCrossentropy(), optimizer=tf.optimizers.Adam(), metrics=['accuracy'])\n",
    "history = model_lstm4.fit(X, labels, epochs=20, validation_split=0.2)"
   ]
  },
  {
   "cell_type": "markdown",
   "metadata": {},
   "source": [
    "Increasing depth may improve performance."
   ]
  },
  {
   "cell_type": "code",
   "execution_count": 14,
   "metadata": {},
   "outputs": [
    {
     "name": "stdout",
     "output_type": "stream",
     "text": [
      "Train on 48469 samples, validate on 12118 samples\n",
      "Epoch 1/20\n",
      "48469/48469 [==============================] - 342s 7ms/sample - loss: 0.2515 - accuracy: 0.9207 - val_loss: 0.6492 - val_accuracy: 0.8213\n",
      "Epoch 2/20\n",
      "48469/48469 [==============================] - 295s 6ms/sample - loss: 0.0731 - accuracy: 0.9774 - val_loss: 0.7139 - val_accuracy: 0.8298\n",
      "Epoch 3/20\n",
      "48469/48469 [==============================] - 221s 5ms/sample - loss: 0.0447 - accuracy: 0.9869 - val_loss: 0.8252 - val_accuracy: 0.8293\n",
      "Epoch 4/20\n",
      "48469/48469 [==============================] - 214s 4ms/sample - loss: 0.0330 - accuracy: 0.9906 - val_loss: 0.8619 - val_accuracy: 0.8308\n",
      "Epoch 5/20\n",
      "48469/48469 [==============================] - 214s 4ms/sample - loss: 0.0274 - accuracy: 0.9921 - val_loss: 0.9212 - val_accuracy: 0.8183\n",
      "Epoch 6/20\n",
      "48469/48469 [==============================] - 212s 4ms/sample - loss: 0.0256 - accuracy: 0.9925 - val_loss: 0.8031 - val_accuracy: 0.8227\n",
      "Epoch 7/20\n",
      "48469/48469 [==============================] - 203s 4ms/sample - loss: 0.0169 - accuracy: 0.9954 - val_loss: 0.9490 - val_accuracy: 0.8250\n",
      "Epoch 8/20\n",
      "48469/48469 [==============================] - 206s 4ms/sample - loss: 0.0218 - accuracy: 0.9941 - val_loss: 0.8924 - val_accuracy: 0.8313\n",
      "Epoch 9/20\n",
      "48469/48469 [==============================] - 205s 4ms/sample - loss: 0.0145 - accuracy: 0.9958 - val_loss: 0.8459 - val_accuracy: 0.8350\n",
      "Epoch 10/20\n",
      "48469/48469 [==============================] - 202s 4ms/sample - loss: 0.0145 - accuracy: 0.9958 - val_loss: 0.9220 - val_accuracy: 0.8307\n",
      "Epoch 11/20\n",
      "48469/48469 [==============================] - 213s 4ms/sample - loss: 0.0139 - accuracy: 0.9963 - val_loss: 0.9372 - val_accuracy: 0.8258\n",
      "Epoch 12/20\n",
      "48469/48469 [==============================] - 201s 4ms/sample - loss: 0.0105 - accuracy: 0.9974 - val_loss: 0.9721 - val_accuracy: 0.8236\n",
      "Epoch 13/20\n",
      "48469/48469 [==============================] - 192s 4ms/sample - loss: 0.0145 - accuracy: 0.9959 - val_loss: 0.9709 - val_accuracy: 0.8305\n",
      "Epoch 14/20\n",
      "48469/48469 [==============================] - 192s 4ms/sample - loss: 0.0108 - accuracy: 0.9970 - val_loss: 0.9261 - val_accuracy: 0.8280\n",
      "Epoch 15/20\n",
      "48469/48469 [==============================] - 183s 4ms/sample - loss: 0.0109 - accuracy: 0.9970 - val_loss: 0.9917 - val_accuracy: 0.8232\n",
      "Epoch 16/20\n",
      "48469/48469 [==============================] - 180s 4ms/sample - loss: 0.0104 - accuracy: 0.9969 - val_loss: 0.9619 - val_accuracy: 0.8304\n",
      "Epoch 17/20\n",
      "48469/48469 [==============================] - 176s 4ms/sample - loss: 0.0104 - accuracy: 0.9973 - val_loss: 0.9979 - val_accuracy: 0.8352\n",
      "Epoch 18/20\n",
      "48469/48469 [==============================] - 181s 4ms/sample - loss: 0.0083 - accuracy: 0.9977 - val_loss: 0.9499 - val_accuracy: 0.8319\n",
      "Epoch 19/20\n",
      "48469/48469 [==============================] - 197s 4ms/sample - loss: 0.0032 - accuracy: 0.9992 - val_loss: 1.0085 - val_accuracy: 0.8368\n",
      "Epoch 20/20\n",
      "48469/48469 [==============================] - 186s 4ms/sample - loss: 0.0144 - accuracy: 0.9959 - val_loss: 0.9859 - val_accuracy: 0.8323\n"
     ]
    }
   ],
   "source": [
    "model_lstm5 = tf.keras.Sequential([layers.Masking(), tf.keras.layers.LSTM(128,return_sequences=True),tf.keras.layers.LSTM(128), layers.Dense(GESTURE_TYPES), layers.Activation('softmax')])\n",
    "model_lstm5.compile(loss=tf.losses.SparseCategoricalCrossentropy(), optimizer=tf.optimizers.Adam(), metrics=['accuracy'])\n",
    "history = model_lstm5.fit(X, labels, epochs=20, validation_split=0.2)"
   ]
  },
  {
   "cell_type": "code",
   "execution_count": null,
   "metadata": {},
   "outputs": [],
   "source": []
  }
 ],
 "metadata": {
  "kernelspec": {
   "display_name": "Python 3",
   "language": "python",
   "name": "python3"
  },
  "language_info": {
   "codemirror_mode": {
    "name": "ipython",
    "version": 3
   },
   "file_extension": ".py",
   "mimetype": "text/x-python",
   "name": "python",
   "nbconvert_exporter": "python",
   "pygments_lexer": "ipython3",
   "version": "3.7.9"
  }
 },
 "nbformat": 4,
 "nbformat_minor": 2
}

{
 "cells": [
  {
   "cell_type": "code",
   "execution_count": 2,
   "metadata": {},
   "outputs": [],
   "source": [
    "import numpy as np\n",
    "import os\n",
    "import pandas as pd\n",
    "import tensorflow as tf\n",
    "import json\n",
    "import cv2\n",
    "import sklearn\n",
    "from tensorflow.keras import regularizers\n",
    "from tensorflow.keras import layers\n",
    "import os"
   ]
  },
  {
   "cell_type": "code",
   "execution_count": 3,
   "metadata": {},
   "outputs": [],
   "source": [
    "GESTURE_TYPES = 11\n",
    "LABEL_DICT = {k:i for i,k in enumerate([21, 24, 25, 26, 27, 28, 29, 30, 31, 32, 33])}\n",
    "CONNECTION_LABELS = [\n",
    "    (0, 1), (1, 2), (2, 3), (3, 4),\n",
    "    (5, 6), (6, 7), (7, 8),\n",
    "    (9, 10), (10, 11), (11, 12),\n",
    "    (13, 14), (14, 15), (15, 16),\n",
    "    (17, 18), (18, 19), (19, 20),\n",
    "    (0, 5), (5, 9), (9, 13), (13, 17), (0, 17)\n",
    "]"
   ]
  },
  {
   "cell_type": "code",
   "execution_count": 15,
   "metadata": {
    "tags": []
   },
   "outputs": [
    {
     "name": "stdout",
     "output_type": "stream",
     "text": [
      "(33448, 21, 3) (33448,)\n"
     ]
    }
   ],
   "source": [
    "def load_keypoints(data_path='gesture_recognition/Fall 2020/data'):\n",
    "    keypoints = []\n",
    "    labels = []\n",
    "    for subjectName in os.listdir(data_path):\n",
    "        if not (subjectName.startswith(\"Subject\") or subjectName.startswith(\"subject\")): continue\n",
    "        # subjectNum = int(re.findall(r'(\\d+)', subjectName)[0])\n",
    "        for sceneName in os.listdir(os.path.join(data_path, subjectName)):\n",
    "            if not (sceneName.startswith(\"Scene\") or subjectName.startswith(\"scene\")): continue\n",
    "            for groupEntry in os.scandir(os.path.join(data_path, subjectName, sceneName)):\n",
    "                with open(groupEntry, 'r') as f:\n",
    "                    groupData = json.load(f)\n",
    "                    for gesture in groupData:\n",
    "                        for i in range(len(gesture['keypoints'])):\n",
    "                            if not gesture['keypoints'][i]:\n",
    "                                continue\n",
    "                            keypoints.append(gesture['keypoints'][i])\n",
    "                            labels.append(LABEL_DICT[gesture['label']])\n",
    "    keypoints = np.array(keypoints)\n",
    "    labels = np.array(labels)\n",
    "    return keypoints, labels\n",
    "keypoints, labels = load_keypoints()\n",
    "print(keypoints.shape, labels.shape)"
   ]
  },
  {
   "cell_type": "code",
   "execution_count": 4,
   "metadata": {},
   "outputs": [
    {
     "name": "stdout",
     "output_type": "stream",
     "text": [
      "(15442, 21, 3) (15442,)\n"
     ]
    }
   ],
   "source": [
    "def normalize(keypoints):\n",
    "    for i in range(len(keypoints)):\n",
    "        keypoints[i] = 1 - keypoints[i]\n",
    "        keypoints[i] -= keypoints[i, 0]\n",
    "        keypoints[i] /= np.linalg.norm(keypoints[i, 0] - keypoints[i, 9])\n",
    "        theta = -np.arcsin(keypoints[i, 9, 0])\n",
    "        rotation = np.array([\n",
    "            [np.cos(theta), -np.sin(theta)],\n",
    "            [np.sin(theta), np.cos(theta)]\n",
    "        ])\n",
    "        keypoints[i, :, :2] = keypoints[i, :, :2] @ rotation\n",
    "\n",
    "        theta2 = np.arcsin(keypoints[i, 9, 2])\n",
    "        rotation2 = np.array([\n",
    "            [np.cos(theta2), -np.sin(theta2)],\n",
    "            [np.sin(theta2), np.cos(theta2)]\n",
    "        ])\n",
    "        keypoints[i, :, 1:3] = keypoints[i, :, 1:3] @ rotation2\n",
    "# normalize(keypoints)\n",
    "\n",
    "# print(keypoints.shape, labels.shape)"
   ]
  },
  {
   "cell_type": "code",
   "execution_count": 5,
   "metadata": {},
   "outputs": [
    {
     "name": "stdout",
     "output_type": "stream",
     "text": [
      "(15442, 210)\n"
     ]
    }
   ],
   "source": [
    "def generate_connection_angles(keypoints, keypoints_num=21, keypoints_dimensions=3):\n",
    "    connections = []\n",
    "    for connection in CONNECTION_LABELS:\n",
    "        connections.append(keypoints[..., connection[1], :] - keypoints[..., connection[0], :])\n",
    "    connections = np.stack(connections, axis = -2)\n",
    "    tensor1 = connections[..., np.newaxis].repeat(keypoints_num, -1).transpose(0,1,3,2)\n",
    "    tensor2 = connections[..., np.newaxis].repeat(keypoints_num, -1).transpose(0,3,1,2)\n",
    "    angles = (tensor1*tensor2).sum(axis=-1)/np.linalg.norm(tensor1,axis=-1)/np.linalg.norm(tensor2,axis=-1)\n",
    "    angles = angles.transpose(1,2,0)[np.triu_indices(21, k = 1)].transpose(1,0)\n",
    "    return np.arccos(angles)\n",
    "angles = generate_connection_angles(keypoints)\n",
    "print(angles.shape)"
   ]
  },
  {
   "cell_type": "code",
   "execution_count": 21,
   "metadata": {},
   "outputs": [],
   "source": [
    "def visualize_keypoints(keypoints):\n",
    "    for points in keypoints:\n",
    "        img = np.zeros((480, 640, 3))\n",
    "        for point in points:\n",
    "            x, y, z = point\n",
    "            if not x:\n",
    "                continue\n",
    "            cv2.circle(img, (int(x), int(y)), 4, (255, 0, 0), 2)\n",
    "        for connection in CONNECTION_LABELS:\n",
    "            if not points[connection[0]][0]:\n",
    "                continue\n",
    "            x0, y0, z0 = points[connection[0]]\n",
    "            x1, y1, z1 = points[connection[1]]\n",
    "            cv2.line(img, (int(x0), int(y0)), (int(x1), int(y1)), (0, 255, 0), 2)\n",
    "        cv2.imshow(\"Key Points\", img)\n",
    "        key = cv2.waitKey(1)\n",
    "        if key == 27:\n",
    "            cv2.destroyAllWindows()\n",
    "            cv2.waitKey(1) # cannot close window on macOS without this line\n",
    "            return\n",
    "# visualize_keypoints(keypoints)"
   ]
  },
  {
   "cell_type": "code",
   "execution_count": 7,
   "metadata": {},
   "outputs": [
    {
     "name": "stdout",
     "output_type": "stream",
     "text": [
      "(15442, 273)\n"
     ]
    }
   ],
   "source": [
    "def process_features(keypoints, angles):\n",
    "    data_length = keypoints.shape[0]\n",
    "    keypoints = keypoints.reshape(data_length, -1)\n",
    "    angles = angles.reshape(data_length, -1)\n",
    "    features = np.concatenate((keypoints, angles), -1)\n",
    "    return features\n",
    "X = process_features(keypoints, angles)\n",
    "#normalizer = tf.keras.layers.experimental.preprocessing.Normalization()\n",
    "#normalizer.adapt(X)\n",
    "# X_train, X_val, y_train, y_val = train_test_split(processed_keypoints, labels, test_size=0.2, random_state=0)\n",
    "print(X.shape)"
   ]
  },
  {
   "cell_type": "code",
   "execution_count": 8,
   "metadata": {},
   "outputs": [
    {
     "name": "stdout",
     "output_type": "stream",
     "text": [
      "Epoch 1/50\n",
      "387/387 [==============================] - 1s 2ms/step - loss: 1.3642 - accuracy: 0.6084 - val_loss: 0.6313 - val_accuracy: 0.8084\n",
      "Epoch 2/50\n",
      "387/387 [==============================] - 0s 1ms/step - loss: 0.5995 - accuracy: 0.8380 - val_loss: 0.5404 - val_accuracy: 0.8333\n",
      "Epoch 3/50\n",
      "387/387 [==============================] - 0s 1ms/step - loss: 0.5162 - accuracy: 0.8545 - val_loss: 0.5008 - val_accuracy: 0.8478\n",
      "Epoch 4/50\n",
      "387/387 [==============================] - 0s 1ms/step - loss: 0.4643 - accuracy: 0.8724 - val_loss: 0.5169 - val_accuracy: 0.8410\n",
      "Epoch 5/50\n",
      "387/387 [==============================] - 0s 1ms/step - loss: 0.4437 - accuracy: 0.8676 - val_loss: 0.4932 - val_accuracy: 0.8540\n",
      "Epoch 6/50\n",
      "387/387 [==============================] - 0s 1ms/step - loss: 0.4204 - accuracy: 0.8795 - val_loss: 0.4948 - val_accuracy: 0.8498\n",
      "Epoch 7/50\n",
      "387/387 [==============================] - 0s 1ms/step - loss: 0.4015 - accuracy: 0.8808 - val_loss: 0.4623 - val_accuracy: 0.8650\n",
      "Epoch 8/50\n",
      "387/387 [==============================] - 0s 1ms/step - loss: 0.4008 - accuracy: 0.8813 - val_loss: 0.4842 - val_accuracy: 0.8582\n",
      "Epoch 9/50\n",
      "387/387 [==============================] - 0s 1ms/step - loss: 0.3838 - accuracy: 0.8860 - val_loss: 0.4511 - val_accuracy: 0.8702\n",
      "Epoch 10/50\n",
      "387/387 [==============================] - 0s 1ms/step - loss: 0.3846 - accuracy: 0.8887 - val_loss: 0.4509 - val_accuracy: 0.8650\n",
      "Epoch 11/50\n",
      "387/387 [==============================] - 0s 1ms/step - loss: 0.3603 - accuracy: 0.8959 - val_loss: 0.4630 - val_accuracy: 0.8618\n",
      "Epoch 12/50\n",
      "387/387 [==============================] - 0s 1ms/step - loss: 0.3622 - accuracy: 0.8930 - val_loss: 0.4898 - val_accuracy: 0.8579\n",
      "Epoch 13/50\n",
      "387/387 [==============================] - 0s 1ms/step - loss: 0.3552 - accuracy: 0.8954 - val_loss: 0.4417 - val_accuracy: 0.8705\n",
      "Epoch 14/50\n",
      "387/387 [==============================] - 0s 1ms/step - loss: 0.3536 - accuracy: 0.8960 - val_loss: 0.4666 - val_accuracy: 0.8699\n",
      "Epoch 15/50\n",
      "387/387 [==============================] - 0s 1ms/step - loss: 0.3953 - accuracy: 0.8851 - val_loss: 0.4723 - val_accuracy: 0.8637\n",
      "Epoch 16/50\n",
      "387/387 [==============================] - 0s 1ms/step - loss: 0.3369 - accuracy: 0.9001 - val_loss: 0.4653 - val_accuracy: 0.8644\n",
      "Epoch 17/50\n",
      "387/387 [==============================] - 0s 1ms/step - loss: 0.3382 - accuracy: 0.8989 - val_loss: 0.4429 - val_accuracy: 0.8695\n",
      "Epoch 18/50\n",
      "387/387 [==============================] - 0s 1ms/step - loss: 0.3542 - accuracy: 0.8943 - val_loss: 0.4810 - val_accuracy: 0.8553\n",
      "Epoch 19/50\n",
      "387/387 [==============================] - 0s 1ms/step - loss: 0.3523 - accuracy: 0.8931 - val_loss: 0.4462 - val_accuracy: 0.8708\n",
      "Epoch 20/50\n",
      "387/387 [==============================] - 0s 1ms/step - loss: 0.3416 - accuracy: 0.8994 - val_loss: 0.4408 - val_accuracy: 0.8757\n",
      "Epoch 21/50\n",
      "387/387 [==============================] - 0s 1ms/step - loss: 0.3343 - accuracy: 0.8989 - val_loss: 0.4327 - val_accuracy: 0.8767\n",
      "Epoch 22/50\n",
      "387/387 [==============================] - 0s 1ms/step - loss: 0.3344 - accuracy: 0.9015 - val_loss: 0.4514 - val_accuracy: 0.8686\n",
      "Epoch 23/50\n",
      "387/387 [==============================] - 0s 1ms/step - loss: 0.3250 - accuracy: 0.9036 - val_loss: 0.4421 - val_accuracy: 0.8747\n",
      "Epoch 24/50\n",
      "387/387 [==============================] - 0s 1ms/step - loss: 0.3254 - accuracy: 0.9048 - val_loss: 0.4502 - val_accuracy: 0.8757\n",
      "Epoch 25/50\n",
      "387/387 [==============================] - 0s 1ms/step - loss: 0.3121 - accuracy: 0.9035 - val_loss: 0.4500 - val_accuracy: 0.8731\n",
      "Epoch 26/50\n",
      "387/387 [==============================] - 0s 1ms/step - loss: 0.3234 - accuracy: 0.9041 - val_loss: 0.4692 - val_accuracy: 0.8666\n",
      "Epoch 27/50\n",
      "387/387 [==============================] - 0s 1ms/step - loss: 0.3135 - accuracy: 0.9055 - val_loss: 0.4604 - val_accuracy: 0.8579\n",
      "Epoch 28/50\n",
      "387/387 [==============================] - 0s 1ms/step - loss: 0.3163 - accuracy: 0.9066 - val_loss: 0.4573 - val_accuracy: 0.8663\n",
      "Epoch 29/50\n",
      "387/387 [==============================] - 0s 1ms/step - loss: 0.3276 - accuracy: 0.9020 - val_loss: 0.4357 - val_accuracy: 0.8770\n",
      "Epoch 30/50\n",
      "387/387 [==============================] - 0s 1ms/step - loss: 0.3168 - accuracy: 0.9056 - val_loss: 0.4339 - val_accuracy: 0.8789\n",
      "Epoch 31/50\n",
      "387/387 [==============================] - 0s 1ms/step - loss: 0.3243 - accuracy: 0.9013 - val_loss: 0.4387 - val_accuracy: 0.8760\n",
      "Epoch 32/50\n",
      "387/387 [==============================] - 0s 1ms/step - loss: 0.3043 - accuracy: 0.9085 - val_loss: 0.4485 - val_accuracy: 0.8669\n",
      "Epoch 33/50\n",
      "387/387 [==============================] - 0s 1ms/step - loss: 0.3035 - accuracy: 0.9055 - val_loss: 0.4277 - val_accuracy: 0.8708\n",
      "Epoch 34/50\n",
      "387/387 [==============================] - 0s 1ms/step - loss: 0.3114 - accuracy: 0.9087 - val_loss: 0.4486 - val_accuracy: 0.8734\n",
      "Epoch 35/50\n",
      "387/387 [==============================] - 0s 1ms/step - loss: 0.2919 - accuracy: 0.9141 - val_loss: 0.4487 - val_accuracy: 0.8767\n",
      "Epoch 36/50\n",
      "387/387 [==============================] - 1s 1ms/step - loss: 0.3124 - accuracy: 0.9047 - val_loss: 0.4434 - val_accuracy: 0.8741\n",
      "Epoch 37/50\n",
      "387/387 [==============================] - 1s 1ms/step - loss: 0.2964 - accuracy: 0.9119 - val_loss: 0.4368 - val_accuracy: 0.8789\n",
      "Epoch 38/50\n",
      "387/387 [==============================] - 1s 1ms/step - loss: 0.2976 - accuracy: 0.9127 - val_loss: 0.4273 - val_accuracy: 0.8760\n",
      "Epoch 39/50\n",
      "387/387 [==============================] - 1s 2ms/step - loss: 0.2954 - accuracy: 0.9096 - val_loss: 0.4304 - val_accuracy: 0.8767\n",
      "Epoch 40/50\n",
      "387/387 [==============================] - 0s 1ms/step - loss: 0.2998 - accuracy: 0.9093 - val_loss: 0.4440 - val_accuracy: 0.8705\n",
      "Epoch 41/50\n",
      "387/387 [==============================] - 1s 1ms/step - loss: 0.2992 - accuracy: 0.9043 - val_loss: 0.4252 - val_accuracy: 0.8815\n",
      "Epoch 42/50\n",
      "387/387 [==============================] - 0s 1ms/step - loss: 0.3107 - accuracy: 0.9071 - val_loss: 0.4453 - val_accuracy: 0.8737\n",
      "Epoch 43/50\n",
      "387/387 [==============================] - 1s 1ms/step - loss: 0.2938 - accuracy: 0.9102 - val_loss: 0.4371 - val_accuracy: 0.8728\n",
      "Epoch 44/50\n",
      "387/387 [==============================] - 0s 1ms/step - loss: 0.2974 - accuracy: 0.9095 - val_loss: 0.4442 - val_accuracy: 0.8750\n",
      "Epoch 45/50\n",
      "387/387 [==============================] - 0s 1ms/step - loss: 0.2894 - accuracy: 0.9123 - val_loss: 0.4400 - val_accuracy: 0.8725\n",
      "Epoch 46/50\n",
      "387/387 [==============================] - 0s 1ms/step - loss: 0.3113 - accuracy: 0.9070 - val_loss: 0.4218 - val_accuracy: 0.8822\n",
      "Epoch 47/50\n",
      "387/387 [==============================] - 0s 1ms/step - loss: 0.2995 - accuracy: 0.9110 - val_loss: 0.4519 - val_accuracy: 0.8760\n",
      "Epoch 48/50\n",
      "387/387 [==============================] - 1s 2ms/step - loss: 0.2810 - accuracy: 0.9155 - val_loss: 0.4422 - val_accuracy: 0.8750\n",
      "Epoch 49/50\n",
      "387/387 [==============================] - 1s 1ms/step - loss: 0.2803 - accuracy: 0.9180 - val_loss: 0.4558 - val_accuracy: 0.8734\n",
      "Epoch 50/50\n",
      "387/387 [==============================] - 0s 1ms/step - loss: 0.2831 - accuracy: 0.9148 - val_loss: 0.4435 - val_accuracy: 0.8789\n"
     ]
    }
   ],
   "source": [
    "model_mlp = tf.keras.Sequential([\n",
    "    tf.keras.layers.Dense(GESTURE_TYPES, activation=None), \n",
    "    tf.keras.layers.Activation('softmax')])\n",
    "model_mlp.compile(loss=tf.losses.SparseCategoricalCrossentropy(), optimizer=tf.optimizers.Adam(), metrics=['accuracy'])\n",
    "history = model_mlp.fit(X, labels, epochs=50, validation_split=0.2)"
   ]
  },
  {
   "cell_type": "code",
   "execution_count": 24,
   "metadata": {},
   "outputs": [
    {
     "name": "stdout",
     "output_type": "stream",
     "text": [
      "Epoch 1/30\n",
      "387/387 [==============================] - 1s 3ms/step - loss: 2.8241 - accuracy: 0.5274 - val_loss: 0.6726 - val_accuracy: 0.8436\n",
      "Epoch 2/30\n",
      "387/387 [==============================] - 1s 3ms/step - loss: 0.5959 - accuracy: 0.8635 - val_loss: 0.5660 - val_accuracy: 0.8634\n",
      "Epoch 3/30\n",
      "387/387 [==============================] - 1s 3ms/step - loss: 0.4589 - accuracy: 0.8861 - val_loss: 0.5121 - val_accuracy: 0.8760\n",
      "Epoch 4/30\n",
      "387/387 [==============================] - 1s 3ms/step - loss: 0.4150 - accuracy: 0.8896 - val_loss: 0.4995 - val_accuracy: 0.8660\n",
      "Epoch 5/30\n",
      "387/387 [==============================] - 1s 3ms/step - loss: 0.3752 - accuracy: 0.8985 - val_loss: 0.4697 - val_accuracy: 0.8725\n",
      "Epoch 6/30\n",
      "387/387 [==============================] - 2s 4ms/step - loss: 0.3476 - accuracy: 0.9025 - val_loss: 0.4488 - val_accuracy: 0.8737\n",
      "Epoch 7/30\n",
      "387/387 [==============================] - 2s 4ms/step - loss: 0.3536 - accuracy: 0.8997 - val_loss: 0.4567 - val_accuracy: 0.8737\n",
      "Epoch 8/30\n",
      "387/387 [==============================] - 2s 4ms/step - loss: 0.3390 - accuracy: 0.9014 - val_loss: 0.4498 - val_accuracy: 0.8770\n",
      "Epoch 9/30\n",
      "387/387 [==============================] - 2s 5ms/step - loss: 0.3207 - accuracy: 0.9049 - val_loss: 0.4248 - val_accuracy: 0.8789\n",
      "Epoch 10/30\n",
      "387/387 [==============================] - 2s 5ms/step - loss: 0.3080 - accuracy: 0.9080 - val_loss: 0.4296 - val_accuracy: 0.8809\n",
      "Epoch 11/30\n",
      "387/387 [==============================] - 2s 5ms/step - loss: 0.3080 - accuracy: 0.9082 - val_loss: 0.4354 - val_accuracy: 0.8789\n",
      "Epoch 12/30\n",
      "387/387 [==============================] - 2s 5ms/step - loss: 0.2928 - accuracy: 0.9124 - val_loss: 0.4346 - val_accuracy: 0.8757\n",
      "Epoch 13/30\n",
      "387/387 [==============================] - 2s 6ms/step - loss: 0.2929 - accuracy: 0.9119 - val_loss: 0.4330 - val_accuracy: 0.8750\n",
      "Epoch 14/30\n",
      "387/387 [==============================] - 2s 6ms/step - loss: 0.2821 - accuracy: 0.9178 - val_loss: 0.4340 - val_accuracy: 0.8783\n",
      "Epoch 15/30\n",
      "387/387 [==============================] - 2s 6ms/step - loss: 0.2676 - accuracy: 0.9193 - val_loss: 0.4360 - val_accuracy: 0.8767\n",
      "Epoch 16/30\n",
      "387/387 [==============================] - 3s 8ms/step - loss: 0.2792 - accuracy: 0.9152 - val_loss: 0.4345 - val_accuracy: 0.8783\n",
      "Epoch 17/30\n",
      "387/387 [==============================] - 3s 9ms/step - loss: 0.2678 - accuracy: 0.9195 - val_loss: 0.4396 - val_accuracy: 0.8767\n",
      "Epoch 18/30\n",
      "387/387 [==============================] - 3s 8ms/step - loss: 0.2720 - accuracy: 0.9179 - val_loss: 0.4545 - val_accuracy: 0.8757\n",
      "Epoch 19/30\n",
      "387/387 [==============================] - 3s 7ms/step - loss: 0.2619 - accuracy: 0.9200 - val_loss: 0.4230 - val_accuracy: 0.8789\n",
      "Epoch 20/30\n",
      "387/387 [==============================] - 3s 8ms/step - loss: 0.2595 - accuracy: 0.9191 - val_loss: 0.4399 - val_accuracy: 0.8783\n",
      "Epoch 21/30\n",
      "387/387 [==============================] - 3s 8ms/step - loss: 0.2560 - accuracy: 0.9221 - val_loss: 0.4491 - val_accuracy: 0.8699\n",
      "Epoch 22/30\n",
      "387/387 [==============================] - 3s 8ms/step - loss: 0.2574 - accuracy: 0.9202 - val_loss: 0.4379 - val_accuracy: 0.8796\n",
      "Epoch 23/30\n",
      "387/387 [==============================] - 3s 8ms/step - loss: 0.2519 - accuracy: 0.9225 - val_loss: 0.4410 - val_accuracy: 0.8770\n",
      "Epoch 24/30\n",
      "387/387 [==============================] - 3s 8ms/step - loss: 0.2427 - accuracy: 0.9269 - val_loss: 0.4401 - val_accuracy: 0.8780\n",
      "Epoch 25/30\n",
      "387/387 [==============================] - 4s 10ms/step - loss: 0.2616 - accuracy: 0.9189 - val_loss: 0.4361 - val_accuracy: 0.8841\n",
      "Epoch 26/30\n",
      "387/387 [==============================] - 4s 10ms/step - loss: 0.2431 - accuracy: 0.9263 - val_loss: 0.4321 - val_accuracy: 0.8857\n",
      "Epoch 27/30\n",
      "387/387 [==============================] - 4s 10ms/step - loss: 0.2268 - accuracy: 0.9310 - val_loss: 0.4440 - val_accuracy: 0.8818\n",
      "Epoch 28/30\n",
      "387/387 [==============================] - 4s 10ms/step - loss: 0.2376 - accuracy: 0.9276 - val_loss: 0.4320 - val_accuracy: 0.8851\n",
      "Epoch 29/30\n",
      "387/387 [==============================] - 4s 10ms/step - loss: 0.2386 - accuracy: 0.9254 - val_loss: 0.4456 - val_accuracy: 0.8883\n",
      "Epoch 30/30\n",
      "387/387 [==============================] - 4s 9ms/step - loss: 0.2249 - accuracy: 0.9310 - val_loss: 0.4343 - val_accuracy: 0.8854\n"
     ]
    }
   ],
   "source": [
    "model_mlp = tf.keras.Sequential([\n",
    "    tf.keras.layers.Dense(GESTURE_TYPES, activation=None), \n",
    "    tf.keras.layers.Dense(256, activation=None), \n",
    "    tf.keras.layers.Activation('softmax')])\n",
    "model_mlp.compile(loss=tf.losses.SparseCategoricalCrossentropy(), optimizer=tf.optimizers.Adam(), metrics=['accuracy'])\n",
    "history = model_mlp.fit(X, labels, epochs=30, validation_split=0.2)"
   ]
  },
  {
   "cell_type": "code",
   "execution_count": 25,
   "metadata": {},
   "outputs": [
    {
     "name": "stdout",
     "output_type": "stream",
     "text": [
      "Epoch 1/20\n"
     ]
    },
    {
     "ename": "ValueError",
     "evalue": "in user code:\n\n    C:\\Users\\Michael\\AppData\\Roaming\\Python\\Python37\\site-packages\\tensorflow\\python\\keras\\engine\\training.py:853 train_function  *\n        return step_function(self, iterator)\n    C:\\Users\\Michael\\AppData\\Roaming\\Python\\Python37\\site-packages\\tensorflow\\python\\keras\\engine\\training.py:843 step_function  **\n        outputs = model.distribute_strategy.run(run_step, args=(data,))\n    C:\\Users\\Michael\\AppData\\Roaming\\Python\\Python37\\site-packages\\tensorflow\\python\\distribute\\distribute_lib.py:1280 run\n        return self._extended.call_for_each_replica(fn, args=args, kwargs=kwargs)\n    C:\\Users\\Michael\\AppData\\Roaming\\Python\\Python37\\site-packages\\tensorflow\\python\\distribute\\distribute_lib.py:2820 call_for_each_replica\n        return self._call_for_each_replica(fn, args, kwargs)\n    C:\\Users\\Michael\\AppData\\Roaming\\Python\\Python37\\site-packages\\tensorflow\\python\\distribute\\distribute_lib.py:3588 _call_for_each_replica\n        return fn(*args, **kwargs)\n    C:\\Users\\Michael\\AppData\\Roaming\\Python\\Python37\\site-packages\\tensorflow\\python\\keras\\engine\\training.py:836 run_step  **\n        outputs = model.train_step(data)\n    C:\\Users\\Michael\\AppData\\Roaming\\Python\\Python37\\site-packages\\tensorflow\\python\\keras\\engine\\training.py:802 train_step\n        y_pred = self(x, training=True)\n    C:\\Users\\Michael\\AppData\\Roaming\\Python\\Python37\\site-packages\\tensorflow\\python\\keras\\engine\\base_layer.py:1030 __call__\n        outputs = call_fn(inputs, *args, **kwargs)\n    C:\\Users\\Michael\\AppData\\Roaming\\Python\\Python37\\site-packages\\tensorflow\\python\\keras\\engine\\sequential.py:398 call\n        outputs = layer(inputs, **kwargs)\n    C:\\Users\\Michael\\AppData\\Roaming\\Python\\Python37\\site-packages\\tensorflow\\python\\keras\\layers\\recurrent.py:671 __call__\n        return super(RNN, self).__call__(inputs, **kwargs)\n    C:\\Users\\Michael\\AppData\\Roaming\\Python\\Python37\\site-packages\\tensorflow\\python\\keras\\engine\\base_layer.py:1013 __call__\n        input_spec.assert_input_compatibility(self.input_spec, inputs, self.name)\n    C:\\Users\\Michael\\AppData\\Roaming\\Python\\Python37\\site-packages\\tensorflow\\python\\keras\\engine\\input_spec.py:223 assert_input_compatibility\n        str(tuple(shape)))\n\n    ValueError: Input 0 of layer lstm is incompatible with the layer: expected ndim=3, found ndim=2. Full shape received: (None, 273)\n",
     "output_type": "error",
     "traceback": [
      "\u001b[1;31m---------------------------------------------------------------------------\u001b[0m",
      "\u001b[1;31mValueError\u001b[0m                                Traceback (most recent call last)",
      "\u001b[1;32m<ipython-input-25-f053bf1b41bd>\u001b[0m in \u001b[0;36m<module>\u001b[1;34m\u001b[0m\n\u001b[0;32m      1\u001b[0m \u001b[0mmodel_lstm_mtm\u001b[0m \u001b[1;33m=\u001b[0m \u001b[0mtf\u001b[0m\u001b[1;33m.\u001b[0m\u001b[0mkeras\u001b[0m\u001b[1;33m.\u001b[0m\u001b[0mSequential\u001b[0m\u001b[1;33m(\u001b[0m\u001b[1;33m[\u001b[0m\u001b[0mlayers\u001b[0m\u001b[1;33m.\u001b[0m\u001b[0mMasking\u001b[0m\u001b[1;33m(\u001b[0m\u001b[1;33m)\u001b[0m\u001b[1;33m,\u001b[0m \u001b[0mlayers\u001b[0m\u001b[1;33m.\u001b[0m\u001b[0mLSTM\u001b[0m\u001b[1;33m(\u001b[0m\u001b[0mGESTURE_TYPES\u001b[0m\u001b[1;33m,\u001b[0m \u001b[0mactivation\u001b[0m\u001b[1;33m=\u001b[0m\u001b[1;32mNone\u001b[0m\u001b[1;33m,\u001b[0m \u001b[0mreturn_sequences\u001b[0m\u001b[1;33m=\u001b[0m\u001b[1;32mTrue\u001b[0m\u001b[1;33m)\u001b[0m\u001b[1;33m,\u001b[0m \u001b[0mlayers\u001b[0m\u001b[1;33m.\u001b[0m\u001b[0mActivation\u001b[0m\u001b[1;33m(\u001b[0m\u001b[1;34m'softmax'\u001b[0m\u001b[1;33m)\u001b[0m\u001b[1;33m]\u001b[0m\u001b[1;33m)\u001b[0m\u001b[1;33m\u001b[0m\u001b[1;33m\u001b[0m\u001b[0m\n\u001b[0;32m      2\u001b[0m \u001b[0mmodel_lstm_mtm\u001b[0m\u001b[1;33m.\u001b[0m\u001b[0mcompile\u001b[0m\u001b[1;33m(\u001b[0m\u001b[0mloss\u001b[0m\u001b[1;33m=\u001b[0m\u001b[0mtf\u001b[0m\u001b[1;33m.\u001b[0m\u001b[0mlosses\u001b[0m\u001b[1;33m.\u001b[0m\u001b[0mSparseCategoricalCrossentropy\u001b[0m\u001b[1;33m(\u001b[0m\u001b[1;33m)\u001b[0m\u001b[1;33m,\u001b[0m \u001b[0moptimizer\u001b[0m\u001b[1;33m=\u001b[0m\u001b[0mtf\u001b[0m\u001b[1;33m.\u001b[0m\u001b[0moptimizers\u001b[0m\u001b[1;33m.\u001b[0m\u001b[0mAdam\u001b[0m\u001b[1;33m(\u001b[0m\u001b[1;33m)\u001b[0m\u001b[1;33m,\u001b[0m \u001b[0mmetrics\u001b[0m\u001b[1;33m=\u001b[0m\u001b[1;33m[\u001b[0m\u001b[1;34m'accuracy'\u001b[0m\u001b[1;33m]\u001b[0m\u001b[1;33m)\u001b[0m\u001b[1;33m\u001b[0m\u001b[1;33m\u001b[0m\u001b[0m\n\u001b[1;32m----> 3\u001b[1;33m \u001b[0mhistory\u001b[0m \u001b[1;33m=\u001b[0m \u001b[0mmodel_lstm_mtm\u001b[0m\u001b[1;33m.\u001b[0m\u001b[0mfit\u001b[0m\u001b[1;33m(\u001b[0m\u001b[0mX\u001b[0m\u001b[1;33m,\u001b[0m \u001b[0mlabels\u001b[0m\u001b[1;33m,\u001b[0m \u001b[0mepochs\u001b[0m\u001b[1;33m=\u001b[0m\u001b[1;36m20\u001b[0m\u001b[1;33m,\u001b[0m \u001b[0mvalidation_split\u001b[0m\u001b[1;33m=\u001b[0m\u001b[1;36m0.2\u001b[0m\u001b[1;33m)\u001b[0m\u001b[1;33m\u001b[0m\u001b[1;33m\u001b[0m\u001b[0m\n\u001b[0m",
      "\u001b[1;32m~\\AppData\\Roaming\\Python\\Python37\\site-packages\\tensorflow\\python\\keras\\engine\\training.py\u001b[0m in \u001b[0;36mfit\u001b[1;34m(self, x, y, batch_size, epochs, verbose, callbacks, validation_split, validation_data, shuffle, class_weight, sample_weight, initial_epoch, steps_per_epoch, validation_steps, validation_batch_size, validation_freq, max_queue_size, workers, use_multiprocessing)\u001b[0m\n\u001b[0;32m   1153\u001b[0m                 _r=1):\n\u001b[0;32m   1154\u001b[0m               \u001b[0mcallbacks\u001b[0m\u001b[1;33m.\u001b[0m\u001b[0mon_train_batch_begin\u001b[0m\u001b[1;33m(\u001b[0m\u001b[0mstep\u001b[0m\u001b[1;33m)\u001b[0m\u001b[1;33m\u001b[0m\u001b[1;33m\u001b[0m\u001b[0m\n\u001b[1;32m-> 1155\u001b[1;33m               \u001b[0mtmp_logs\u001b[0m \u001b[1;33m=\u001b[0m \u001b[0mself\u001b[0m\u001b[1;33m.\u001b[0m\u001b[0mtrain_function\u001b[0m\u001b[1;33m(\u001b[0m\u001b[0miterator\u001b[0m\u001b[1;33m)\u001b[0m\u001b[1;33m\u001b[0m\u001b[1;33m\u001b[0m\u001b[0m\n\u001b[0m\u001b[0;32m   1156\u001b[0m               \u001b[1;32mif\u001b[0m \u001b[0mdata_handler\u001b[0m\u001b[1;33m.\u001b[0m\u001b[0mshould_sync\u001b[0m\u001b[1;33m:\u001b[0m\u001b[1;33m\u001b[0m\u001b[1;33m\u001b[0m\u001b[0m\n\u001b[0;32m   1157\u001b[0m                 \u001b[0mcontext\u001b[0m\u001b[1;33m.\u001b[0m\u001b[0masync_wait\u001b[0m\u001b[1;33m(\u001b[0m\u001b[1;33m)\u001b[0m\u001b[1;33m\u001b[0m\u001b[1;33m\u001b[0m\u001b[0m\n",
      "\u001b[1;32m~\\AppData\\Roaming\\Python\\Python37\\site-packages\\tensorflow\\python\\eager\\def_function.py\u001b[0m in \u001b[0;36m__call__\u001b[1;34m(self, *args, **kwds)\u001b[0m\n\u001b[0;32m    865\u001b[0m     \u001b[0mtracing_count\u001b[0m \u001b[1;33m=\u001b[0m \u001b[0mself\u001b[0m\u001b[1;33m.\u001b[0m\u001b[0mexperimental_get_tracing_count\u001b[0m\u001b[1;33m(\u001b[0m\u001b[1;33m)\u001b[0m\u001b[1;33m\u001b[0m\u001b[1;33m\u001b[0m\u001b[0m\n\u001b[0;32m    866\u001b[0m     \u001b[1;32mwith\u001b[0m \u001b[0mtrace\u001b[0m\u001b[1;33m.\u001b[0m\u001b[0mTrace\u001b[0m\u001b[1;33m(\u001b[0m\u001b[0mself\u001b[0m\u001b[1;33m.\u001b[0m\u001b[0m_name\u001b[0m\u001b[1;33m)\u001b[0m \u001b[1;32mas\u001b[0m \u001b[0mtm\u001b[0m\u001b[1;33m:\u001b[0m\u001b[1;33m\u001b[0m\u001b[1;33m\u001b[0m\u001b[0m\n\u001b[1;32m--> 867\u001b[1;33m       \u001b[0mresult\u001b[0m \u001b[1;33m=\u001b[0m \u001b[0mself\u001b[0m\u001b[1;33m.\u001b[0m\u001b[0m_call\u001b[0m\u001b[1;33m(\u001b[0m\u001b[1;33m*\u001b[0m\u001b[0margs\u001b[0m\u001b[1;33m,\u001b[0m \u001b[1;33m**\u001b[0m\u001b[0mkwds\u001b[0m\u001b[1;33m)\u001b[0m\u001b[1;33m\u001b[0m\u001b[1;33m\u001b[0m\u001b[0m\n\u001b[0m\u001b[0;32m    868\u001b[0m       \u001b[0mcompiler\u001b[0m \u001b[1;33m=\u001b[0m \u001b[1;34m\"xla\"\u001b[0m \u001b[1;32mif\u001b[0m \u001b[0mself\u001b[0m\u001b[1;33m.\u001b[0m\u001b[0m_jit_compile\u001b[0m \u001b[1;32melse\u001b[0m \u001b[1;34m\"nonXla\"\u001b[0m\u001b[1;33m\u001b[0m\u001b[1;33m\u001b[0m\u001b[0m\n\u001b[0;32m    869\u001b[0m       \u001b[0mnew_tracing_count\u001b[0m \u001b[1;33m=\u001b[0m \u001b[0mself\u001b[0m\u001b[1;33m.\u001b[0m\u001b[0mexperimental_get_tracing_count\u001b[0m\u001b[1;33m(\u001b[0m\u001b[1;33m)\u001b[0m\u001b[1;33m\u001b[0m\u001b[1;33m\u001b[0m\u001b[0m\n",
      "\u001b[1;32m~\\AppData\\Roaming\\Python\\Python37\\site-packages\\tensorflow\\python\\eager\\def_function.py\u001b[0m in \u001b[0;36m_call\u001b[1;34m(self, *args, **kwds)\u001b[0m\n\u001b[0;32m    909\u001b[0m       \u001b[1;31m# This is the first call of __call__, so we have to initialize.\u001b[0m\u001b[1;33m\u001b[0m\u001b[1;33m\u001b[0m\u001b[1;33m\u001b[0m\u001b[0m\n\u001b[0;32m    910\u001b[0m       \u001b[0minitializers\u001b[0m \u001b[1;33m=\u001b[0m \u001b[1;33m[\u001b[0m\u001b[1;33m]\u001b[0m\u001b[1;33m\u001b[0m\u001b[1;33m\u001b[0m\u001b[0m\n\u001b[1;32m--> 911\u001b[1;33m       \u001b[0mself\u001b[0m\u001b[1;33m.\u001b[0m\u001b[0m_initialize\u001b[0m\u001b[1;33m(\u001b[0m\u001b[0margs\u001b[0m\u001b[1;33m,\u001b[0m \u001b[0mkwds\u001b[0m\u001b[1;33m,\u001b[0m \u001b[0madd_initializers_to\u001b[0m\u001b[1;33m=\u001b[0m\u001b[0minitializers\u001b[0m\u001b[1;33m)\u001b[0m\u001b[1;33m\u001b[0m\u001b[1;33m\u001b[0m\u001b[0m\n\u001b[0m\u001b[0;32m    912\u001b[0m     \u001b[1;32mfinally\u001b[0m\u001b[1;33m:\u001b[0m\u001b[1;33m\u001b[0m\u001b[1;33m\u001b[0m\u001b[0m\n\u001b[0;32m    913\u001b[0m       \u001b[1;31m# At this point we know that the initialization is complete (or less\u001b[0m\u001b[1;33m\u001b[0m\u001b[1;33m\u001b[0m\u001b[1;33m\u001b[0m\u001b[0m\n",
      "\u001b[1;32m~\\AppData\\Roaming\\Python\\Python37\\site-packages\\tensorflow\\python\\eager\\def_function.py\u001b[0m in \u001b[0;36m_initialize\u001b[1;34m(self, args, kwds, add_initializers_to)\u001b[0m\n\u001b[0;32m    747\u001b[0m     self._concrete_stateful_fn = (\n\u001b[0;32m    748\u001b[0m         self._stateful_fn._get_concrete_function_internal_garbage_collected(  # pylint: disable=protected-access\n\u001b[1;32m--> 749\u001b[1;33m             *args, **kwds))\n\u001b[0m\u001b[0;32m    750\u001b[0m \u001b[1;33m\u001b[0m\u001b[0m\n\u001b[0;32m    751\u001b[0m     compiled = bool(self._jit_compile and\n",
      "\u001b[1;32m~\\AppData\\Roaming\\Python\\Python37\\site-packages\\tensorflow\\python\\eager\\function.py\u001b[0m in \u001b[0;36m_get_concrete_function_internal_garbage_collected\u001b[1;34m(self, *args, **kwargs)\u001b[0m\n\u001b[0;32m   3043\u001b[0m       \u001b[0margs\u001b[0m\u001b[1;33m,\u001b[0m \u001b[0mkwargs\u001b[0m \u001b[1;33m=\u001b[0m \u001b[1;32mNone\u001b[0m\u001b[1;33m,\u001b[0m \u001b[1;32mNone\u001b[0m\u001b[1;33m\u001b[0m\u001b[1;33m\u001b[0m\u001b[0m\n\u001b[0;32m   3044\u001b[0m     \u001b[1;32mwith\u001b[0m \u001b[0mself\u001b[0m\u001b[1;33m.\u001b[0m\u001b[0m_lock\u001b[0m\u001b[1;33m:\u001b[0m\u001b[1;33m\u001b[0m\u001b[1;33m\u001b[0m\u001b[0m\n\u001b[1;32m-> 3045\u001b[1;33m       \u001b[0mgraph_function\u001b[0m\u001b[1;33m,\u001b[0m \u001b[0m_\u001b[0m \u001b[1;33m=\u001b[0m \u001b[0mself\u001b[0m\u001b[1;33m.\u001b[0m\u001b[0m_maybe_define_function\u001b[0m\u001b[1;33m(\u001b[0m\u001b[0margs\u001b[0m\u001b[1;33m,\u001b[0m \u001b[0mkwargs\u001b[0m\u001b[1;33m)\u001b[0m\u001b[1;33m\u001b[0m\u001b[1;33m\u001b[0m\u001b[0m\n\u001b[0m\u001b[0;32m   3046\u001b[0m     \u001b[1;32mreturn\u001b[0m \u001b[0mgraph_function\u001b[0m\u001b[1;33m\u001b[0m\u001b[1;33m\u001b[0m\u001b[0m\n\u001b[0;32m   3047\u001b[0m \u001b[1;33m\u001b[0m\u001b[0m\n",
      "\u001b[1;32m~\\AppData\\Roaming\\Python\\Python37\\site-packages\\tensorflow\\python\\eager\\function.py\u001b[0m in \u001b[0;36m_maybe_define_function\u001b[1;34m(self, args, kwargs)\u001b[0m\n\u001b[0;32m   3437\u001b[0m \u001b[1;33m\u001b[0m\u001b[0m\n\u001b[0;32m   3438\u001b[0m           \u001b[0mself\u001b[0m\u001b[1;33m.\u001b[0m\u001b[0m_function_cache\u001b[0m\u001b[1;33m.\u001b[0m\u001b[0mmissed\u001b[0m\u001b[1;33m.\u001b[0m\u001b[0madd\u001b[0m\u001b[1;33m(\u001b[0m\u001b[0mcall_context_key\u001b[0m\u001b[1;33m)\u001b[0m\u001b[1;33m\u001b[0m\u001b[1;33m\u001b[0m\u001b[0m\n\u001b[1;32m-> 3439\u001b[1;33m           \u001b[0mgraph_function\u001b[0m \u001b[1;33m=\u001b[0m \u001b[0mself\u001b[0m\u001b[1;33m.\u001b[0m\u001b[0m_create_graph_function\u001b[0m\u001b[1;33m(\u001b[0m\u001b[0margs\u001b[0m\u001b[1;33m,\u001b[0m \u001b[0mkwargs\u001b[0m\u001b[1;33m)\u001b[0m\u001b[1;33m\u001b[0m\u001b[1;33m\u001b[0m\u001b[0m\n\u001b[0m\u001b[0;32m   3440\u001b[0m           \u001b[0mself\u001b[0m\u001b[1;33m.\u001b[0m\u001b[0m_function_cache\u001b[0m\u001b[1;33m.\u001b[0m\u001b[0mprimary\u001b[0m\u001b[1;33m[\u001b[0m\u001b[0mcache_key\u001b[0m\u001b[1;33m]\u001b[0m \u001b[1;33m=\u001b[0m \u001b[0mgraph_function\u001b[0m\u001b[1;33m\u001b[0m\u001b[1;33m\u001b[0m\u001b[0m\n\u001b[0;32m   3441\u001b[0m \u001b[1;33m\u001b[0m\u001b[0m\n",
      "\u001b[1;32m~\\AppData\\Roaming\\Python\\Python37\\site-packages\\tensorflow\\python\\eager\\function.py\u001b[0m in \u001b[0;36m_create_graph_function\u001b[1;34m(self, args, kwargs, override_flat_arg_shapes)\u001b[0m\n\u001b[0;32m   3282\u001b[0m             \u001b[0marg_names\u001b[0m\u001b[1;33m=\u001b[0m\u001b[0marg_names\u001b[0m\u001b[1;33m,\u001b[0m\u001b[1;33m\u001b[0m\u001b[1;33m\u001b[0m\u001b[0m\n\u001b[0;32m   3283\u001b[0m             \u001b[0moverride_flat_arg_shapes\u001b[0m\u001b[1;33m=\u001b[0m\u001b[0moverride_flat_arg_shapes\u001b[0m\u001b[1;33m,\u001b[0m\u001b[1;33m\u001b[0m\u001b[1;33m\u001b[0m\u001b[0m\n\u001b[1;32m-> 3284\u001b[1;33m             capture_by_value=self._capture_by_value),\n\u001b[0m\u001b[0;32m   3285\u001b[0m         \u001b[0mself\u001b[0m\u001b[1;33m.\u001b[0m\u001b[0m_function_attributes\u001b[0m\u001b[1;33m,\u001b[0m\u001b[1;33m\u001b[0m\u001b[1;33m\u001b[0m\u001b[0m\n\u001b[0;32m   3286\u001b[0m         \u001b[0mfunction_spec\u001b[0m\u001b[1;33m=\u001b[0m\u001b[0mself\u001b[0m\u001b[1;33m.\u001b[0m\u001b[0mfunction_spec\u001b[0m\u001b[1;33m,\u001b[0m\u001b[1;33m\u001b[0m\u001b[1;33m\u001b[0m\u001b[0m\n",
      "\u001b[1;32m~\\AppData\\Roaming\\Python\\Python37\\site-packages\\tensorflow\\python\\framework\\func_graph.py\u001b[0m in \u001b[0;36mfunc_graph_from_py_func\u001b[1;34m(name, python_func, args, kwargs, signature, func_graph, autograph, autograph_options, add_control_dependencies, arg_names, op_return_value, collections, capture_by_value, override_flat_arg_shapes)\u001b[0m\n\u001b[0;32m    996\u001b[0m         \u001b[0m_\u001b[0m\u001b[1;33m,\u001b[0m \u001b[0moriginal_func\u001b[0m \u001b[1;33m=\u001b[0m \u001b[0mtf_decorator\u001b[0m\u001b[1;33m.\u001b[0m\u001b[0munwrap\u001b[0m\u001b[1;33m(\u001b[0m\u001b[0mpython_func\u001b[0m\u001b[1;33m)\u001b[0m\u001b[1;33m\u001b[0m\u001b[1;33m\u001b[0m\u001b[0m\n\u001b[0;32m    997\u001b[0m \u001b[1;33m\u001b[0m\u001b[0m\n\u001b[1;32m--> 998\u001b[1;33m       \u001b[0mfunc_outputs\u001b[0m \u001b[1;33m=\u001b[0m \u001b[0mpython_func\u001b[0m\u001b[1;33m(\u001b[0m\u001b[1;33m*\u001b[0m\u001b[0mfunc_args\u001b[0m\u001b[1;33m,\u001b[0m \u001b[1;33m**\u001b[0m\u001b[0mfunc_kwargs\u001b[0m\u001b[1;33m)\u001b[0m\u001b[1;33m\u001b[0m\u001b[1;33m\u001b[0m\u001b[0m\n\u001b[0m\u001b[0;32m    999\u001b[0m \u001b[1;33m\u001b[0m\u001b[0m\n\u001b[0;32m   1000\u001b[0m       \u001b[1;31m# invariant: `func_outputs` contains only Tensors, CompositeTensors,\u001b[0m\u001b[1;33m\u001b[0m\u001b[1;33m\u001b[0m\u001b[1;33m\u001b[0m\u001b[0m\n",
      "\u001b[1;32m~\\AppData\\Roaming\\Python\\Python37\\site-packages\\tensorflow\\python\\eager\\def_function.py\u001b[0m in \u001b[0;36mwrapped_fn\u001b[1;34m(*args, **kwds)\u001b[0m\n\u001b[0;32m    655\u001b[0m             \u001b[0mxla_context\u001b[0m\u001b[1;33m.\u001b[0m\u001b[0mExit\u001b[0m\u001b[1;33m(\u001b[0m\u001b[1;33m)\u001b[0m\u001b[1;33m\u001b[0m\u001b[1;33m\u001b[0m\u001b[0m\n\u001b[0;32m    656\u001b[0m         \u001b[1;32melse\u001b[0m\u001b[1;33m:\u001b[0m\u001b[1;33m\u001b[0m\u001b[1;33m\u001b[0m\u001b[0m\n\u001b[1;32m--> 657\u001b[1;33m           \u001b[0mout\u001b[0m \u001b[1;33m=\u001b[0m \u001b[0mweak_wrapped_fn\u001b[0m\u001b[1;33m(\u001b[0m\u001b[1;33m)\u001b[0m\u001b[1;33m.\u001b[0m\u001b[0m__wrapped__\u001b[0m\u001b[1;33m(\u001b[0m\u001b[1;33m*\u001b[0m\u001b[0margs\u001b[0m\u001b[1;33m,\u001b[0m \u001b[1;33m**\u001b[0m\u001b[0mkwds\u001b[0m\u001b[1;33m)\u001b[0m\u001b[1;33m\u001b[0m\u001b[1;33m\u001b[0m\u001b[0m\n\u001b[0m\u001b[0;32m    658\u001b[0m         \u001b[1;32mreturn\u001b[0m \u001b[0mout\u001b[0m\u001b[1;33m\u001b[0m\u001b[1;33m\u001b[0m\u001b[0m\n\u001b[0;32m    659\u001b[0m \u001b[1;33m\u001b[0m\u001b[0m\n",
      "\u001b[1;32m~\\AppData\\Roaming\\Python\\Python37\\site-packages\\tensorflow\\python\\framework\\func_graph.py\u001b[0m in \u001b[0;36mwrapper\u001b[1;34m(*args, **kwargs)\u001b[0m\n\u001b[0;32m    983\u001b[0m           \u001b[1;32mexcept\u001b[0m \u001b[0mException\u001b[0m \u001b[1;32mas\u001b[0m \u001b[0me\u001b[0m\u001b[1;33m:\u001b[0m  \u001b[1;31m# pylint:disable=broad-except\u001b[0m\u001b[1;33m\u001b[0m\u001b[1;33m\u001b[0m\u001b[0m\n\u001b[0;32m    984\u001b[0m             \u001b[1;32mif\u001b[0m \u001b[0mhasattr\u001b[0m\u001b[1;33m(\u001b[0m\u001b[0me\u001b[0m\u001b[1;33m,\u001b[0m \u001b[1;34m\"ag_error_metadata\"\u001b[0m\u001b[1;33m)\u001b[0m\u001b[1;33m:\u001b[0m\u001b[1;33m\u001b[0m\u001b[1;33m\u001b[0m\u001b[0m\n\u001b[1;32m--> 985\u001b[1;33m               \u001b[1;32mraise\u001b[0m \u001b[0me\u001b[0m\u001b[1;33m.\u001b[0m\u001b[0mag_error_metadata\u001b[0m\u001b[1;33m.\u001b[0m\u001b[0mto_exception\u001b[0m\u001b[1;33m(\u001b[0m\u001b[0me\u001b[0m\u001b[1;33m)\u001b[0m\u001b[1;33m\u001b[0m\u001b[1;33m\u001b[0m\u001b[0m\n\u001b[0m\u001b[0;32m    986\u001b[0m             \u001b[1;32melse\u001b[0m\u001b[1;33m:\u001b[0m\u001b[1;33m\u001b[0m\u001b[1;33m\u001b[0m\u001b[0m\n\u001b[0;32m    987\u001b[0m               \u001b[1;32mraise\u001b[0m\u001b[1;33m\u001b[0m\u001b[1;33m\u001b[0m\u001b[0m\n",
      "\u001b[1;31mValueError\u001b[0m: in user code:\n\n    C:\\Users\\Michael\\AppData\\Roaming\\Python\\Python37\\site-packages\\tensorflow\\python\\keras\\engine\\training.py:853 train_function  *\n        return step_function(self, iterator)\n    C:\\Users\\Michael\\AppData\\Roaming\\Python\\Python37\\site-packages\\tensorflow\\python\\keras\\engine\\training.py:843 step_function  **\n        outputs = model.distribute_strategy.run(run_step, args=(data,))\n    C:\\Users\\Michael\\AppData\\Roaming\\Python\\Python37\\site-packages\\tensorflow\\python\\distribute\\distribute_lib.py:1280 run\n        return self._extended.call_for_each_replica(fn, args=args, kwargs=kwargs)\n    C:\\Users\\Michael\\AppData\\Roaming\\Python\\Python37\\site-packages\\tensorflow\\python\\distribute\\distribute_lib.py:2820 call_for_each_replica\n        return self._call_for_each_replica(fn, args, kwargs)\n    C:\\Users\\Michael\\AppData\\Roaming\\Python\\Python37\\site-packages\\tensorflow\\python\\distribute\\distribute_lib.py:3588 _call_for_each_replica\n        return fn(*args, **kwargs)\n    C:\\Users\\Michael\\AppData\\Roaming\\Python\\Python37\\site-packages\\tensorflow\\python\\keras\\engine\\training.py:836 run_step  **\n        outputs = model.train_step(data)\n    C:\\Users\\Michael\\AppData\\Roaming\\Python\\Python37\\site-packages\\tensorflow\\python\\keras\\engine\\training.py:802 train_step\n        y_pred = self(x, training=True)\n    C:\\Users\\Michael\\AppData\\Roaming\\Python\\Python37\\site-packages\\tensorflow\\python\\keras\\engine\\base_layer.py:1030 __call__\n        outputs = call_fn(inputs, *args, **kwargs)\n    C:\\Users\\Michael\\AppData\\Roaming\\Python\\Python37\\site-packages\\tensorflow\\python\\keras\\engine\\sequential.py:398 call\n        outputs = layer(inputs, **kwargs)\n    C:\\Users\\Michael\\AppData\\Roaming\\Python\\Python37\\site-packages\\tensorflow\\python\\keras\\layers\\recurrent.py:671 __call__\n        return super(RNN, self).__call__(inputs, **kwargs)\n    C:\\Users\\Michael\\AppData\\Roaming\\Python\\Python37\\site-packages\\tensorflow\\python\\keras\\engine\\base_layer.py:1013 __call__\n        input_spec.assert_input_compatibility(self.input_spec, inputs, self.name)\n    C:\\Users\\Michael\\AppData\\Roaming\\Python\\Python37\\site-packages\\tensorflow\\python\\keras\\engine\\input_spec.py:223 assert_input_compatibility\n        str(tuple(shape)))\n\n    ValueError: Input 0 of layer lstm is incompatible with the layer: expected ndim=3, found ndim=2. Full shape received: (None, 273)\n"
     ]
    }
   ],
   "source": [
    "model_lstm_mtm = tf.keras.Sequential([layers.Masking(), layers.LSTM(GESTURE_TYPES, activation=None, return_sequences=True), layers.Activation('softmax')])\n",
    "model_lstm_mtm.compile(loss=tf.losses.SparseCategoricalCrossentropy(), optimizer=tf.optimizers.Adam(), metrics=['accuracy'])\n",
    "history = model_lstm_mtm.fit(X, labels, epochs=20, validation_split=0.2)"
   ]
  },
  {
   "cell_type": "code",
   "execution_count": null,
   "metadata": {},
   "outputs": [],
   "source": []
  }
 ],
 "metadata": {
  "kernelspec": {
   "display_name": "Python 3",
   "language": "python",
   "name": "python3"
  },
  "language_info": {
   "codemirror_mode": {
    "name": "ipython",
    "version": 3
   },
   "file_extension": ".py",
   "mimetype": "text/x-python",
   "name": "python",
   "nbconvert_exporter": "python",
   "pygments_lexer": "ipython3",
   "version": "3.7.9"
  }
 },
 "nbformat": 4,
 "nbformat_minor": 2
}

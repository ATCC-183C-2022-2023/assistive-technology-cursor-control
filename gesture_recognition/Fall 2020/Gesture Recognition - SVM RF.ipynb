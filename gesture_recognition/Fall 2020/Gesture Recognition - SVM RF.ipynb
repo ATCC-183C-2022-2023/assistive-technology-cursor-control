{
 "cells": [
  {
   "cell_type": "code",
   "execution_count": 1,
   "metadata": {},
   "outputs": [],
   "source": [
    "import numpy as np\n",
    "import tensorflow as tf\n",
    "import json\n",
    "import cv2\n",
    "from scipy.io import loadmat\n",
    "\n",
    "GESTURE_TYPES = 11\n",
    "LABEL_DICT = {k:i for i,k in enumerate([21, 24, 25, 26, 27, 28, 29, 30, 31, 32, 33])}\n",
    "CONNECTION_LABELS = [\n",
    "    (0, 1), (1, 2), (2, 3), (3, 4),\n",
    "    (5, 6), (6, 7), (7, 8),\n",
    "    (9, 10), (10, 11), (11, 12),\n",
    "    (13, 14), (14, 15), (15, 16),\n",
    "    (17, 18), (18, 19), (19, 20),\n",
    "    (0, 5), (5, 9), (9, 13), (13, 17), (0, 17)\n",
    "]"
   ]
  },
  {
   "cell_type": "code",
   "execution_count": 2,
   "metadata": {},
   "outputs": [],
   "source": [
    "keypoints = loadmat(\"mediapipe.mat\")[\"keypoints\"]\n",
    "labels = loadmat(\"mediapipe.mat\")[\"labels\"].squeeze()"
   ]
  },
  {
   "cell_type": "code",
   "execution_count": 3,
   "metadata": {},
   "outputs": [],
   "source": [
    "def normalize(keypoints):\n",
    "    for i in range(len(keypoints)):\n",
    "        keypoints[i] = 1 - keypoints[i]\n",
    "        keypoints[i] -= keypoints[i, 0]\n",
    "        keypoints[i] /= np.linalg.norm(keypoints[i, 0] - keypoints[i, 9])\n",
    "        theta = -np.arcsin(keypoints[i, 9, 0])\n",
    "        rotation = np.array([\n",
    "            [np.cos(theta), -np.sin(theta)],\n",
    "            [np.sin(theta), np.cos(theta)]\n",
    "        ])\n",
    "        keypoints[i, :, :2] = keypoints[i, :, :2] @ rotation\n",
    "\n",
    "        theta2 = np.arcsin(keypoints[i, 9, 2])\n",
    "        rotation2 = np.array([\n",
    "            [np.cos(theta2), -np.sin(theta2)],\n",
    "            [np.sin(theta2), np.cos(theta2)]\n",
    "        ])\n",
    "        keypoints[i, :, 1:3] = keypoints[i, :, 1:3] @ rotation2\n",
    "normalize(keypoints)"
   ]
  },
  {
   "cell_type": "markdown",
   "metadata": {},
   "source": [
    "## Train Test Split"
   ]
  },
  {
   "cell_type": "code",
   "execution_count": 4,
   "metadata": {},
   "outputs": [],
   "source": [
    "from sklearn.model_selection import train_test_split"
   ]
  },
  {
   "cell_type": "code",
   "execution_count": 5,
   "metadata": {},
   "outputs": [],
   "source": [
    "X = keypoints\n",
    "x, y, z = np.shape(X)\n",
    "X = X.reshape((x, y * z))\n",
    "y = labels"
   ]
  },
  {
   "cell_type": "code",
   "execution_count": 6,
   "metadata": {},
   "outputs": [],
   "source": [
    "# Train, test sets split\n",
    "X_train, X_test, y_train, y_test = train_test_split(X, y, test_size=0.25, random_state=42)"
   ]
  },
  {
   "cell_type": "markdown",
   "metadata": {},
   "source": [
    "# SVM"
   ]
  },
  {
   "cell_type": "code",
   "execution_count": 7,
   "metadata": {},
   "outputs": [],
   "source": [
    "from sklearn.svm import SVC\n",
    "from sklearn.preprocessing import StandardScaler\n",
    "from sklearn.pipeline import make_pipeline\n",
    "from sklearn import metrics\n",
    "from sklearn.model_selection import cross_val_score"
   ]
  },
  {
   "cell_type": "code",
   "execution_count": 8,
   "metadata": {},
   "outputs": [],
   "source": [
    "clf = make_pipeline(StandardScaler(), SVC(gamma='auto'))"
   ]
  },
  {
   "cell_type": "code",
   "execution_count": 9,
   "metadata": {},
   "outputs": [
    {
     "data": {
      "text/plain": [
       "Pipeline(steps=[('standardscaler', StandardScaler()),\n",
       "                ('svc', SVC(gamma='auto'))])"
      ]
     },
     "execution_count": 9,
     "metadata": {},
     "output_type": "execute_result"
    }
   ],
   "source": [
    "clf.fit(X_train, y_train)"
   ]
  },
  {
   "cell_type": "code",
   "execution_count": 11,
   "metadata": {},
   "outputs": [],
   "source": [
    "y_pred = clf.predict(X_test)"
   ]
  },
  {
   "cell_type": "code",
   "execution_count": 13,
   "metadata": {},
   "outputs": [
    {
     "name": "stdout",
     "output_type": "stream",
     "text": [
      "0.8624558998608245\n"
     ]
    }
   ],
   "source": [
    "print(np.mean(cross_val_score(clf, X, y, cv=10)))"
   ]
  },
  {
   "cell_type": "markdown",
   "metadata": {},
   "source": [
    "# Random Forest"
   ]
  },
  {
   "cell_type": "code",
   "execution_count": 14,
   "metadata": {},
   "outputs": [],
   "source": [
    "from sklearn.ensemble import RandomForestClassifier\n",
    "from matplotlib.legend_handler import HandlerLine2D\n",
    "import matplotlib.pyplot as plt"
   ]
  },
  {
   "cell_type": "code",
   "execution_count": 15,
   "metadata": {},
   "outputs": [],
   "source": [
    "# Train, test sets split\n",
    "X_train, X_test, y_train, y_test = train_test_split(X, y, test_size=0.2, random_state=42)"
   ]
  },
  {
   "cell_type": "code",
   "execution_count": 16,
   "metadata": {},
   "outputs": [],
   "source": [
    "# Preparing of a list of n_estimators values to tune\n",
    "n_estimators = [1, 2, 4, 8, 16, 32, 64, 100, 200]"
   ]
  },
  {
   "cell_type": "code",
   "execution_count": 17,
   "metadata": {},
   "outputs": [
    {
     "name": "stdout",
     "output_type": "stream",
     "text": [
      "Training for estimator = 1 done, train accy = 0.9345098356674492, test accy = 0.8297183554548397\n",
      "Training for estimator = 2 done, train accy = 0.9388812434226503, test accy = 0.8361929426999029\n",
      "Training for estimator = 4 done, train accy = 0.9842953128794625, test accy = 0.8789252185173195\n",
      "Training for estimator = 8 done, train accy = 0.9965190641949324, test accy = 0.8993201683392684\n",
      "Training for estimator = 16 done, train accy = 0.9996761920181333, test accy = 0.9138879896406604\n",
      "Training for estimator = 32 done, train accy = 0.9999190480045334, test accy = 0.9190676594367109\n",
      "Training for estimator = 64 done, train accy = 1.0, test accy = 0.9177727419876983\n",
      "Training for estimator = 100 done, train accy = 1.0, test accy = 0.9168015539009389\n",
      "Training for estimator = 200 done, train accy = 1.0, test accy = 0.9216574943347362\n"
     ]
    }
   ],
   "source": [
    "# Loop through the list of estimators to obtain the accuracies\n",
    "train_accuracies = []\n",
    "test_accuracies = []\n",
    "for estimator in n_estimators:\n",
    "    # Initialize a random forest classifier\n",
    "    rf_clf = RandomForestClassifier(n_estimators=estimator)\n",
    "    \n",
    "    # Start training\n",
    "    rf_inst = rf_clf.fit(X_train, y_train)\n",
    "    \n",
    "    # Obtaining training accuracy\n",
    "    train_acc = rf_inst.score(X_train, y_train)\n",
    "    train_accuracies.append(train_acc)\n",
    "    \n",
    "    # Obtaining testing accuracy\n",
    "    test_acc = rf_inst.score(X_test, y_test)\n",
    "    test_accuracies.append(test_acc)\n",
    "    \n",
    "    # Report training stats\n",
    "    print(\"Training for estimator = {} done, train accy = {}, test accy = {}\".format(estimator, train_acc, test_acc))"
   ]
  },
  {
   "cell_type": "code",
   "execution_count": 18,
   "metadata": {},
   "outputs": [
    {
     "data": {
      "image/png": "[encoded data removed]",
      "text/plain": [
       "<Figure size 432x288 with 1 Axes>"
      ]
     },
     "metadata": {
      "needs_background": "light"
     },
     "output_type": "display_data"
    }
   ],
   "source": [
    "line1, = plt.plot(n_estimators, train_accuracies, 'b')\n",
    "line2, = plt.plot(n_estimators, test_accuracies, 'r')\n",
    "plt.ylabel('Accuracies')\n",
    "plt.xlabel('n_estimators')\n",
    "plt.show()"
   ]
  },
  {
   "cell_type": "code",
   "execution_count": 19,
   "metadata": {},
   "outputs": [],
   "source": [
    "# Prepare a list of depth values\n",
    "depths = np.linspace(1, 32, 32, endpoint=True)"
   ]
  },
  {
   "cell_type": "code",
   "execution_count": 20,
   "metadata": {},
   "outputs": [
    {
     "name": "stdout",
     "output_type": "stream",
     "text": [
      "Training for max_depth = 1.0 done, train accy = 0.45106451874038694, test accy = 0.4438329556490774\n",
      "Training for max_depth = 2.0 done, train accy = 0.7326965109689954, test accy = 0.7280673357073486\n",
      "Training for max_depth = 3.0 done, train accy = 0.7730915567068728, test accy = 0.770152152800259\n",
      "Training for max_depth = 4.0 done, train accy = 0.8170484902452846, test accy = 0.8154742635157008\n",
      "Training for max_depth = 5.0 done, train accy = 0.8429531287946248, test accy = 0.838459048235675\n",
      "Training for max_depth = 6.0 done, train accy = 0.8682911033756983, test accy = 0.8578828099708644\n",
      "Training for max_depth = 7.0 done, train accy = 0.8924147980247713, test accy = 0.8718031725477501\n",
      "Training for max_depth = 8.0 done, train accy = 0.9183194365741115, test accy = 0.88410488831337\n",
      "Training for max_depth = 9.0 done, train accy = 0.9426859872095847, test accy = 0.8986727096147621\n",
      "Training for max_depth = 10.0 done, train accy = 0.9650287379583907, test accy = 0.9028811913240531\n",
      "Training for max_depth = 11.0 done, train accy = 0.9806524730834615, test accy = 0.906765943671091\n",
      "Training for max_depth = 12.0 done, train accy = 0.9893952885938638, test accy = 0.9158303658141793\n",
      "Training for max_depth = 13.0 done, train accy = 0.9936047923581316, test accy = 0.9148591777274199\n",
      "Training for max_depth = 14.0 done, train accy = 0.9970857281631992, test accy = 0.9216574943347362\n",
      "Training for max_depth = 15.0 done, train accy = 0.9982190560997328, test accy = 0.9177727419876983\n",
      "Training for max_depth = 16.0 done, train accy = 0.9990285760543998, test accy = 0.9210100356102299\n",
      "Training for max_depth = 17.0 done, train accy = 0.9996761920181333, test accy = 0.9219812236969893\n",
      "Training for max_depth = 18.0 done, train accy = 0.9999190480045334, test accy = 0.9216574943347362\n",
      "Training for max_depth = 19.0 done, train accy = 1.0, test accy = 0.9197151181612172\n",
      "Training for max_depth = 20.0 done, train accy = 1.0, test accy = 0.9206863062479766\n",
      "Training for max_depth = 21.0 done, train accy = 1.0, test accy = 0.9210100356102299\n",
      "Training for max_depth = 22.0 done, train accy = 1.0, test accy = 0.9197151181612172\n",
      "Training for max_depth = 23.0 done, train accy = 1.0, test accy = 0.9210100356102299\n",
      "Training for max_depth = 24.0 done, train accy = 1.0, test accy = 0.9203625768857235\n",
      "Training for max_depth = 25.0 done, train accy = 1.0, test accy = 0.9180964713499514\n",
      "Training for max_depth = 26.0 done, train accy = 1.0, test accy = 0.9206863062479766\n",
      "Training for max_depth = 27.0 done, train accy = 1.0, test accy = 0.9200388475234704\n",
      "Training for max_depth = 28.0 done, train accy = 1.0, test accy = 0.9206863062479766\n",
      "Training for max_depth = 29.0 done, train accy = 1.0, test accy = 0.9174490126254451\n",
      "Training for max_depth = 30.0 done, train accy = 1.0, test accy = 0.9155066364519262\n",
      "Training for max_depth = 31.0 done, train accy = 1.0, test accy = 0.9203625768857235\n",
      "Training for max_depth = 32.0 done, train accy = 1.0, test accy = 0.9216574943347362\n"
     ]
    }
   ],
   "source": [
    "# Loop through the list of depth values to obtain the accuracies\n",
    "train_accuracies = []\n",
    "test_accuracies = []\n",
    "for max_depth in depths:\n",
    "    # Initialize a random forest classifier\n",
    "    rf_clf = RandomForestClassifier(max_depth=max_depth)\n",
    "    \n",
    "    # Start training\n",
    "    rf_inst = rf_clf.fit(X_train, y_train)\n",
    "    \n",
    "    # Obtaining training accuracy\n",
    "    train_acc = rf_inst.score(X_train, y_train)\n",
    "    train_accuracies.append(train_acc)\n",
    "    \n",
    "    # Obtaining testing accuracy\n",
    "    test_acc = rf_inst.score(X_test, y_test)\n",
    "    test_accuracies.append(test_acc)\n",
    "    \n",
    "    # Report training stats\n",
    "    print(\"Training for max_depth = {} done, train accy = {}, test accy = {}\".format(max_depth, train_acc, test_acc))"
   ]
  },
  {
   "cell_type": "code",
   "execution_count": 21,
   "metadata": {},
   "outputs": [
    {
     "data": {
      "image/png": "[encoded data removed]",
      "text/plain": [
       "<Figure size 432x288 with 1 Axes>"
      ]
     },
     "metadata": {
      "needs_background": "light"
     },
     "output_type": "display_data"
    }
   ],
   "source": [
    "line1, = plt.plot(depths, train_accuracies, 'b')\n",
    "line2, = plt.plot(depths, test_accuracies, 'r')\n",
    "plt.ylabel('Accuracies')\n",
    "plt.xlabel('depth')\n",
    "plt.show()"
   ]
  },
  {
   "cell_type": "code",
   "execution_count": 22,
   "metadata": {},
   "outputs": [
    {
     "data": {
      "text/plain": [
       "0.9229524117837488"
      ]
     },
     "execution_count": 22,
     "metadata": {},
     "output_type": "execute_result"
    }
   ],
   "source": [
    "n_estimator = 100\n",
    "max_depth = 20\n",
    "\n",
    "# Initialize a random forest classifier\n",
    "rf_clf = RandomForestClassifier(max_depth=max_depth, n_estimators=n_estimator)\n",
    "    \n",
    "# Start training\n",
    "rf_inst = rf_clf.fit(X_train, y_train)\n",
    "\n",
    "# Get prediction accuracy\n",
    "rf_inst.score(X_test, y_test)"
   ]
  },
  {
   "cell_type": "code",
   "execution_count": null,
   "metadata": {},
   "outputs": [],
   "source": []
  }
 ],
 "metadata": {
  "kernelspec": {
   "display_name": "Python 3",
   "language": "python",
   "name": "python3"
  },
  "language_info": {
   "codemirror_mode": {
    "name": "ipython",
    "version": 3
   },
   "file_extension": ".py",
   "mimetype": "text/x-python",
   "name": "python",
   "nbconvert_exporter": "python",
   "pygments_lexer": "ipython3",
   "version": "3.7.9"
  }
 },
 "nbformat": 4,
 "nbformat_minor": 4
}

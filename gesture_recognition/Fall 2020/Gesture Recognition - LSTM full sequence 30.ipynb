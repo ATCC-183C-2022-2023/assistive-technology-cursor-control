{
 "cells": [
  {
   "cell_type": "code",
   "execution_count": 1,
   "metadata": {},
   "outputs": [],
   "source": [
    "import numpy as np\n",
    "import pandas as pd\n",
    "import tensorflow as tf\n",
    "import json\n",
    "import cv2\n",
    "import sklearn\n",
    "from tensorflow.keras import regularizers\n",
    "from tensorflow.keras import layers\n",
    "import os"
   ]
  },
  {
   "cell_type": "code",
   "execution_count": 2,
   "metadata": {},
   "outputs": [],
   "source": [
    "GESTURE_TYPES = 11\n",
    "LABEL_DICT = {k:i for i,k in enumerate([21, 24, 25, 26, 27, 28, 29, 30, 31, 32, 33])}\n",
    "CONNECTION_LABELS = [\n",
    "    (0, 1), (1, 2), (2, 3), (3, 4),\n",
    "    (5, 6), (6, 7), (7, 8),\n",
    "    (9, 10), (10, 11), (11, 12),\n",
    "    (13, 14), (14, 15), (15, 16),\n",
    "    (17, 18), (18, 19), (19, 20),\n",
    "    (0, 5), (5, 9), (9, 13), (13, 17), (0, 17)\n",
    "]"
   ]
  },
  {
   "cell_type": "code",
   "execution_count": 3,
   "metadata": {
    "tags": []
   },
   "outputs": [
    {
     "name": "stdout",
     "output_type": "stream",
     "text": [
      "(3141, 109, 21, 3) (3141,)\n"
     ]
    }
   ],
   "source": [
    "def load_keypoint_sequences(data_path='gesture_recognition/Fall 2020/data_30'):\n",
    "    keypoints = []\n",
    "    labels = []\n",
    "    for subjectName in os.listdir(data_path):\n",
    "        if not (subjectName.startswith(\"Subject\") or subjectName.startswith(\"subject\")): continue\n",
    "        # subjectNum = int(re.findall(r'(\\d+)', subjectName)[0])\n",
    "        for sceneName in os.listdir(os.path.join(data_path, subjectName)):\n",
    "            if not (sceneName.startswith(\"Scene\") or subjectName.startswith(\"scene\")): continue\n",
    "            for groupEntry in os.scandir(os.path.join(data_path, subjectName, sceneName)):\n",
    "                with open(groupEntry, 'r') as f:\n",
    "                    groupData = json.load(f)\n",
    "                    for gesture in groupData:\n",
    "                        # print(gesture['label'], gesture['keypoints'])\n",
    "                        for i in range(len(gesture['keypoints'])):\n",
    "                            if not gesture['keypoints'][i]:\n",
    "                                gesture['keypoints'][i] = [[np.nan, np.nan, np.nan] for _ in range(21)]\n",
    "                        keypoints.append(gesture['keypoints'])\n",
    "                        labels.append(LABEL_DICT[gesture['label']])\n",
    "    keypoints = tf.keras.preprocessing.sequence.pad_sequences(keypoints,dtype='float32',padding='post',value=np.NaN)\n",
    "    labels = np.array(labels)\n",
    "    return keypoints, labels\n",
    "keypoints, labels = load_keypoint_sequences()\n",
    "print(keypoints.shape, labels.shape)"
   ]
  },
  {
   "cell_type": "code",
   "execution_count": 4,
   "metadata": {},
   "outputs": [
    {
     "name": "stdout",
     "output_type": "stream",
     "text": [
      "(3141, 109, 210)\n"
     ]
    }
   ],
   "source": [
    "def generate_connection_angles_from_sequences(keypoints, keypoints_num=21, keypoints_dimensions=3):\n",
    "    connections = []\n",
    "    for connection in CONNECTION_LABELS:\n",
    "        connections.append(keypoints[..., connection[1], :] - keypoints[..., connection[0], :])\n",
    "    connections = np.stack(connections, axis = -2)\n",
    "    tensor1 = connections[..., np.newaxis].repeat(keypoints_num, -1).transpose(0,1,2,4,3)\n",
    "    tensor2 = connections[..., np.newaxis].repeat(keypoints_num, -1).transpose(0,1,4,2,3)\n",
    "    angles = (tensor1*tensor2).sum(axis=-1)/np.linalg.norm(tensor1,axis=-1)/np.linalg.norm(tensor2,axis=-1)\n",
    "    angles = angles.transpose(2,3,0,1)[np.triu_indices(21, k = 1)].transpose(1,2,0)\n",
    "    return np.arccos(angles)\n",
    "angles = generate_connection_angles_from_sequences(keypoints)\n",
    "print(angles.shape)"
   ]
  },
  {
   "cell_type": "code",
   "execution_count": 5,
   "metadata": {},
   "outputs": [
    {
     "name": "stdout",
     "output_type": "stream",
     "text": [
      "(3141, 109, 210)\n"
     ]
    }
   ],
   "source": [
    "def generate_joint_distances_from_sequences(keypoints, keypoints_num=21, keypoints_dimensions=3):\n",
    "    connections = []\n",
    "    for connection in CONNECTION_LABELS:\n",
    "        connections.append(keypoints[..., connection[1], :] - keypoints[..., connection[0], :])\n",
    "    connections = np.stack(connections, axis = -2)\n",
    "    tensor1 = connections[..., np.newaxis].repeat(keypoints_num, -1).transpose(0,1,2,4,3)\n",
    "    tensor2 = connections[..., np.newaxis].repeat(keypoints_num, -1).transpose(0,1,4,2,3)\n",
    "    distances = np.linalg.norm(tensor1-tensor2,axis=-1).transpose(2,3,0,1)[np.triu_indices(21, k = 1)].transpose(1,2,0)\n",
    "    return distances\n",
    "distances = generate_joint_distances_from_sequences(keypoints)\n",
    "print(distances.shape)"
   ]
  },
  {
   "cell_type": "code",
   "execution_count": 6,
   "metadata": {},
   "outputs": [],
   "source": [
    "def visualize_keypoint_sequences(keypoints):\n",
    "    for sequence in keypoints:\n",
    "        for points in sequence:\n",
    "            img = np.zeros((480, 640, 3))\n",
    "            for point in points:\n",
    "                x, y, z = point\n",
    "                if np.isnan(x):\n",
    "                    continue\n",
    "                cv2.circle(img, (int(x), int(y)), 4, (255, 0, 0), 2)\n",
    "            for connection in CONNECTION_LABELS:\n",
    "                if np.isnan(points[connection[0]][0]):\n",
    "                    continue\n",
    "                x0, y0, z0 = points[connection[0]]\n",
    "                x1, y1, z1 = points[connection[1]]\n",
    "                cv2.line(img, (int(x0), int(y0)), (int(x1), int(y1)), (0, 255, 0), 2)\n",
    "            cv2.imshow(\"Key Points\", img)\n",
    "            key = cv2.waitKey(1)\n",
    "            if key == 27:\n",
    "                cv2.destroyAllWindows()\n",
    "                cv2.waitKey(1) # cannot close window on macOS without this line\n",
    "                return\n",
    "# visualize_keypoint_sequences(keypoints)"
   ]
  },
  {
   "cell_type": "code",
   "execution_count": 7,
   "metadata": {},
   "outputs": [
    {
     "name": "stdout",
     "output_type": "stream",
     "text": [
      "(3141, 109, 483)\n"
     ]
    }
   ],
   "source": [
    "def process_sequence_features(keypoints, angles, distances):\n",
    "    data_length = keypoints.shape[0]\n",
    "    sequence_length = keypoints.shape[1]\n",
    "    keypoints = keypoints.reshape(data_length*sequence_length, -1)\n",
    "    angles = angles.reshape(data_length*sequence_length, -1)\n",
    "    distances = distances.reshape(data_length*sequence_length, -1)\n",
    "    features = np.concatenate((keypoints, angles, distances), -1)\n",
    "    df = pd.DataFrame(features)\n",
    "    df = (df-df.mean())/df.std()\n",
    "    df = df.fillna(0)\n",
    "    features = df.to_numpy().reshape(data_length, sequence_length, -1)\n",
    "    return features\n",
    "X = process_sequence_features(keypoints, angles, distances)\n",
    "#normalizer = tf.keras.layers.experimental.preprocessing.Normalization()\n",
    "#normalizer.adapt(X)\n",
    "# X_train, X_val, y_train, y_val = train_test_split(processed_keypoints, labels, test_size=0.2, random_state=0)\n",
    "print(X.shape)"
   ]
  },
  {
   "cell_type": "code",
   "execution_count": 8,
   "metadata": {},
   "outputs": [
    {
     "name": "stdout",
     "output_type": "stream",
     "text": [
      "(3141, 109, 1)\n"
     ]
    }
   ],
   "source": [
    "sequence_length = X.shape[1]\n",
    "sequence_labels = np.tile(np.expand_dims(labels,(1,2)),[1,sequence_length,1])\n",
    "print(sequence_labels.shape)"
   ]
  },
  {
   "cell_type": "markdown",
   "metadata": {},
   "source": [
    "## RNN Classification"
   ]
  },
  {
   "cell_type": "code",
   "execution_count": 10,
   "metadata": {},
   "outputs": [
    {
     "name": "stdout",
     "output_type": "stream",
     "text": [
      "Train on 2512 samples, validate on 629 samples\n",
      "Epoch 1/30\n",
      "2512/2512 [==============================] - 20s 8ms/sample - loss: 5049.8210 - accuracy: 0.1162 - val_loss: 4805.8862 - val_accuracy: 0.1081\n",
      "Epoch 2/30\n",
      "2512/2512 [==============================] - 16s 6ms/sample - loss: 7702.2804 - accuracy: 0.1342 - val_loss: 291.5189 - val_accuracy: 0.1558\n",
      "Epoch 3/30\n",
      "2512/2512 [==============================] - 16s 6ms/sample - loss: 141.5456 - accuracy: 0.1680 - val_loss: 270.7291 - val_accuracy: 0.1399\n",
      "Epoch 4/30\n",
      "2512/2512 [==============================] - 17s 7ms/sample - loss: 283.5316 - accuracy: 0.1015 - val_loss: 520.3309 - val_accuracy: 0.0588\n",
      "Epoch 5/30\n",
      "2512/2512 [==============================] - 17s 7ms/sample - loss: 330.9073 - accuracy: 0.0593 - val_loss: 480.6600 - val_accuracy: 0.0525\n",
      "Epoch 6/30\n",
      "2512/2512 [==============================] - 17s 7ms/sample - loss: 303.5358 - accuracy: 0.0561 - val_loss: 424.4876 - val_accuracy: 0.0620\n",
      "Epoch 7/30\n",
      "2512/2512 [==============================] - 17s 7ms/sample - loss: 254.5199 - accuracy: 0.0605 - val_loss: 354.8519 - val_accuracy: 0.0604\n",
      "Epoch 8/30\n",
      "2512/2512 [==============================] - 17s 7ms/sample - loss: 215.3547 - accuracy: 0.0617 - val_loss: 347.7027 - val_accuracy: 0.0588\n",
      "Epoch 9/30\n",
      "2512/2512 [==============================] - 17s 7ms/sample - loss: 180.8621 - accuracy: 0.0653 - val_loss: 265.1315 - val_accuracy: 0.0588\n",
      "Epoch 10/30\n",
      "2512/2512 [==============================] - 16s 6ms/sample - loss: 196.1691 - accuracy: 0.0653 - val_loss: 306.8456 - val_accuracy: 0.0636\n",
      "Epoch 11/30\n",
      "2512/2512 [==============================] - 17s 7ms/sample - loss: 362.4911 - accuracy: 0.0625 - val_loss: 861.0729 - val_accuracy: 0.0652\n",
      "Epoch 12/30\n",
      "2512/2512 [==============================] - 16s 6ms/sample - loss: 293.5423 - accuracy: 0.0780 - val_loss: 14124.7279 - val_accuracy: 0.0525\n",
      "Epoch 13/30\n",
      "2512/2512 [==============================] - 16s 6ms/sample - loss: 15240.3141 - accuracy: 0.0478 - val_loss: 35146.5108 - val_accuracy: 0.0397\n",
      "Epoch 14/30\n",
      "2512/2512 [==============================] - 16s 6ms/sample - loss: 11081.9027 - accuracy: 0.0390 - val_loss: 2385.3249 - val_accuracy: 0.0445\n",
      "Epoch 15/30\n",
      "2512/2512 [==============================] - 16s 6ms/sample - loss: 8641.4337 - accuracy: 0.0442 - val_loss: 386.6950 - val_accuracy: 0.0525\n",
      "Epoch 16/30\n",
      "2512/2512 [==============================] - 16s 6ms/sample - loss: 307.8977 - accuracy: 0.0502 - val_loss: 318.0700 - val_accuracy: 0.0318\n",
      "Epoch 17/30\n",
      "2512/2512 [==============================] - 17s 7ms/sample - loss: 440.8507 - accuracy: 0.0346 - val_loss: 308.9711 - val_accuracy: 0.0318\n",
      "Epoch 18/30\n",
      "2512/2512 [==============================] - 16s 7ms/sample - loss: 388.5584 - accuracy: 0.0374 - val_loss: 287.3198 - val_accuracy: 0.0382\n",
      "Epoch 19/30\n",
      "2512/2512 [==============================] - 17s 7ms/sample - loss: 366.5187 - accuracy: 0.0442 - val_loss: 262.2443 - val_accuracy: 0.0429\n",
      "Epoch 20/30\n",
      "2512/2512 [==============================] - 17s 7ms/sample - loss: 346.8906 - accuracy: 0.0430 - val_loss: 459.2031 - val_accuracy: 0.0382\n",
      "Epoch 21/30\n",
      "2512/2512 [==============================] - 16s 7ms/sample - loss: 924330.5424 - accuracy: 0.0291 - val_loss: 15837.9260 - val_accuracy: 0.0270\n",
      "Epoch 22/30\n",
      "2512/2512 [==============================] - 17s 7ms/sample - loss: 88846.9234 - accuracy: 0.0275 - val_loss: 11588.9566 - val_accuracy: 0.0238\n",
      "Epoch 23/30\n",
      "2512/2512 [==============================] - 17s 7ms/sample - loss: 148193.3831 - accuracy: 0.0279 - val_loss: 5855560.5364 - val_accuracy: 0.0286\n",
      "Epoch 24/30\n",
      "2512/2512 [==============================] - 17s 7ms/sample - loss: 205433.1064 - accuracy: 0.0219 - val_loss: 8279.6859 - val_accuracy: 0.0318\n",
      "Epoch 25/30\n",
      "2512/2512 [==============================] - 17s 7ms/sample - loss: 49262.0437 - accuracy: 0.0251 - val_loss: 3659.4817 - val_accuracy: 0.0318\n",
      "Epoch 26/30\n",
      "2512/2512 [==============================] - 17s 7ms/sample - loss: 42566.9059 - accuracy: 0.0259 - val_loss: 2703.3730 - val_accuracy: 0.0334\n",
      "Epoch 27/30\n",
      "2512/2512 [==============================] - 17s 7ms/sample - loss: 37121.1048 - accuracy: 0.0255 - val_loss: 2595.5360 - val_accuracy: 0.0318\n",
      "Epoch 28/30\n",
      "2512/2512 [==============================] - 17s 7ms/sample - loss: 33111.7607 - accuracy: 0.0243 - val_loss: 2134.2305 - val_accuracy: 0.0318\n",
      "Epoch 29/30\n",
      "2512/2512 [==============================] - 17s 7ms/sample - loss: 29393.1752 - accuracy: 0.0243 - val_loss: 2042.2244 - val_accuracy: 0.0302\n",
      "Epoch 30/30\n",
      "2512/2512 [==============================] - 17s 7ms/sample - loss: 26700.2792 - accuracy: 0.0267 - val_loss: 1835.1511 - val_accuracy: 0.0302\n"
     ]
    }
   ],
   "source": [
    "model_lstm = tf.keras.Sequential([layers.Masking(), layers.LSTM(GESTURE_TYPES, activation=None), layers.Activation('softmax')])\n",
    "model_lstm.compile(loss=tf.losses.SparseCategoricalCrossentropy(), optimizer=tf.optimizers.Adam(), metrics=['accuracy'])\n",
    "history = model_lstm.fit(X, labels, epochs=30, validation_split=0.2)"
   ]
  },
  {
   "cell_type": "markdown",
   "metadata": {},
   "source": [
    "LSTM performs surprisingly poorly on super long sequence."
   ]
  },
  {
   "cell_type": "code",
   "execution_count": 9,
   "metadata": {},
   "outputs": [
    {
     "name": "stdout",
     "output_type": "stream",
     "text": [
      "Train on 2512 samples, validate on 629 samples\n",
      "Epoch 1/20\n",
      "2512/2512 [==============================] - 23s 9ms/sample - loss: 1.8083 - accuracy: 0.3909 - val_loss: 1.1103 - val_accuracy: 0.6502\n",
      "Epoch 2/20\n",
      "2512/2512 [==============================] - 19s 8ms/sample - loss: 0.7383 - accuracy: 0.7715 - val_loss: 0.7026 - val_accuracy: 0.7838\n",
      "Epoch 3/20\n",
      "2512/2512 [==============================] - 19s 8ms/sample - loss: 0.4758 - accuracy: 0.8583 - val_loss: 0.6364 - val_accuracy: 0.7949\n",
      "Epoch 4/20\n",
      "2512/2512 [==============================] - 21s 8ms/sample - loss: 0.3836 - accuracy: 0.8826 - val_loss: 0.5950 - val_accuracy: 0.8188\n",
      "Epoch 5/20\n",
      "2512/2512 [==============================] - 19s 8ms/sample - loss: 0.3318 - accuracy: 0.8993 - val_loss: 0.5756 - val_accuracy: 0.8315\n",
      "Epoch 6/20\n",
      "2512/2512 [==============================] - 19s 8ms/sample - loss: 0.3001 - accuracy: 0.9092 - val_loss: 0.5744 - val_accuracy: 0.8203\n",
      "Epoch 7/20\n",
      "2512/2512 [==============================] - 19s 7ms/sample - loss: 0.2616 - accuracy: 0.9204 - val_loss: 0.5766 - val_accuracy: 0.8283\n",
      "Epoch 8/20\n",
      "2512/2512 [==============================] - 19s 8ms/sample - loss: 0.2407 - accuracy: 0.9295 - val_loss: 0.5835 - val_accuracy: 0.8299\n",
      "Epoch 9/20\n",
      "2512/2512 [==============================] - 19s 8ms/sample - loss: 0.2151 - accuracy: 0.9379 - val_loss: 0.5935 - val_accuracy: 0.8235\n",
      "Epoch 10/20\n",
      "2512/2512 [==============================] - 20s 8ms/sample - loss: 0.2157 - accuracy: 0.9363 - val_loss: 0.6589 - val_accuracy: 0.8108\n",
      "Epoch 11/20\n",
      "2512/2512 [==============================] - 20s 8ms/sample - loss: 0.1920 - accuracy: 0.9415 - val_loss: 0.5851 - val_accuracy: 0.8378\n",
      "Epoch 12/20\n",
      "2512/2512 [==============================] - 20s 8ms/sample - loss: 0.1817 - accuracy: 0.9490 - val_loss: 0.5761 - val_accuracy: 0.8172\n",
      "Epoch 13/20\n",
      "2512/2512 [==============================] - 20s 8ms/sample - loss: 0.1637 - accuracy: 0.9514 - val_loss: 0.6029 - val_accuracy: 0.8299\n",
      "Epoch 14/20\n",
      "2512/2512 [==============================] - 21s 8ms/sample - loss: 0.1462 - accuracy: 0.9574 - val_loss: 0.6377 - val_accuracy: 0.8267\n",
      "Epoch 15/20\n",
      "2512/2512 [==============================] - 20s 8ms/sample - loss: 0.1481 - accuracy: 0.9574 - val_loss: 0.6358 - val_accuracy: 0.8251\n",
      "Epoch 16/20\n",
      "2512/2512 [==============================] - 20s 8ms/sample - loss: 0.1324 - accuracy: 0.9614 - val_loss: 0.6383 - val_accuracy: 0.8315\n",
      "Epoch 17/20\n",
      "2512/2512 [==============================] - 21s 8ms/sample - loss: 0.1307 - accuracy: 0.9610 - val_loss: 0.7162 - val_accuracy: 0.8188\n",
      "Epoch 18/20\n",
      "2512/2512 [==============================] - 31s 12ms/sample - loss: 0.1307 - accuracy: 0.9630 - val_loss: 0.7015 - val_accuracy: 0.8219\n",
      "Epoch 19/20\n",
      "2512/2512 [==============================] - 31s 12ms/sample - loss: 0.1280 - accuracy: 0.9642 - val_loss: 0.6840 - val_accuracy: 0.8347\n",
      "Epoch 20/20\n",
      "2512/2512 [==============================] - 30s 12ms/sample - loss: 0.1163 - accuracy: 0.9666 - val_loss: 0.7425 - val_accuracy: 0.8172\n"
     ]
    }
   ],
   "source": [
    "model_gru = tf.keras.Sequential([layers.Masking(), layers.GRU(GESTURE_TYPES, activation=None), layers.Activation('softmax')])\n",
    "model_gru.compile(loss=tf.losses.SparseCategoricalCrossentropy(), optimizer=tf.optimizers.Adam(), metrics=['accuracy'])\n",
    "history = model_gru.fit(X, labels, epochs=20, validation_split=0.2)"
   ]
  },
  {
   "cell_type": "markdown",
   "metadata": {},
   "source": []
  },
  {
   "cell_type": "code",
   "execution_count": 10,
   "metadata": {},
   "outputs": [
    {
     "name": "stdout",
     "output_type": "stream",
     "text": [
      "Train on 2512 samples, validate on 629 samples\n",
      "Epoch 1/20\n",
      "2512/2512 [==============================] - 45s 18ms/sample - loss: 27.0727 - accuracy: 0.0748 - val_loss: 31.6009 - val_accuracy: 0.0986\n",
      "Epoch 2/20\n",
      "2512/2512 [==============================] - 38s 15ms/sample - loss: 42.2187 - accuracy: 0.1576 - val_loss: 51.9413 - val_accuracy: 0.1558\n",
      "Epoch 3/20\n",
      "2512/2512 [==============================] - 38s 15ms/sample - loss: 52.4383 - accuracy: 0.1278 - val_loss: 37.4875 - val_accuracy: 0.1367\n",
      "Epoch 4/20\n",
      "2512/2512 [==============================] - 38s 15ms/sample - loss: 63.5021 - accuracy: 0.0828 - val_loss: 221.7672 - val_accuracy: 0.0604\n",
      "Epoch 5/20\n",
      "2512/2512 [==============================] - 39s 16ms/sample - loss: 107.0027 - accuracy: 0.0657 - val_loss: 205.7569 - val_accuracy: 0.0715\n",
      "Epoch 6/20\n",
      "2512/2512 [==============================] - 38s 15ms/sample - loss: 95.4847 - accuracy: 0.0665 - val_loss: 203.5869 - val_accuracy: 0.0827\n",
      "Epoch 7/20\n",
      "2512/2512 [==============================] - 38s 15ms/sample - loss: 99.5256 - accuracy: 0.0772 - val_loss: 202.7953 - val_accuracy: 0.0890\n",
      "Epoch 8/20\n",
      "2512/2512 [==============================] - 37s 15ms/sample - loss: 227.5667 - accuracy: 0.0896 - val_loss: 142.2651 - val_accuracy: 0.0588\n",
      "Epoch 9/20\n",
      "2512/2512 [==============================] - 38s 15ms/sample - loss: 193.6191 - accuracy: 0.0514 - val_loss: 186.5366 - val_accuracy: 0.0350\n",
      "Epoch 10/20\n",
      "2512/2512 [==============================] - 41s 16ms/sample - loss: 197.9749 - accuracy: 0.0466 - val_loss: 180.0772 - val_accuracy: 0.0493\n",
      "Epoch 11/20\n",
      "2512/2512 [==============================] - 36s 14ms/sample - loss: 210.9824 - accuracy: 0.0414 - val_loss: 175.5907 - val_accuracy: 0.0604\n",
      "Epoch 12/20\n",
      "2512/2512 [==============================] - 36s 14ms/sample - loss: 228.2169 - accuracy: 0.0525 - val_loss: 188.1314 - val_accuracy: 0.0700\n",
      "Epoch 13/20\n",
      "2512/2512 [==============================] - 36s 15ms/sample - loss: 236.2094 - accuracy: 0.0549 - val_loss: 237.1503 - val_accuracy: 0.0731\n",
      "Epoch 14/20\n",
      "2512/2512 [==============================] - 36s 14ms/sample - loss: 245.4278 - accuracy: 0.0613 - val_loss: 221.6234 - val_accuracy: 0.0700\n",
      "Epoch 15/20\n",
      "2512/2512 [==============================] - 37s 15ms/sample - loss: 234.5740 - accuracy: 0.0641 - val_loss: 222.2378 - val_accuracy: 0.0747\n",
      "Epoch 16/20\n",
      "2512/2512 [==============================] - 36s 14ms/sample - loss: 213.9424 - accuracy: 0.0653 - val_loss: 199.1789 - val_accuracy: 0.0795\n",
      "Epoch 17/20\n",
      "2512/2512 [==============================] - 37s 15ms/sample - loss: 214.9639 - accuracy: 0.0613 - val_loss: 230.6117 - val_accuracy: 0.0636\n",
      "Epoch 18/20\n",
      "2512/2512 [==============================] - 37s 15ms/sample - loss: 448.9433 - accuracy: 0.0510 - val_loss: 569.9493 - val_accuracy: 0.0509\n",
      "Epoch 19/20\n",
      "2512/2512 [==============================] - 36s 14ms/sample - loss: 445.2131 - accuracy: 0.0418 - val_loss: 303.2076 - val_accuracy: 0.0350\n",
      "Epoch 20/20\n",
      "2512/2512 [==============================] - 35s 14ms/sample - loss: 313.9994 - accuracy: 0.0414 - val_loss: 277.1744 - val_accuracy: 0.0318\n"
     ]
    }
   ],
   "source": [
    "model_bilstm = tf.keras.Sequential([layers.Masking(), tf.keras.layers.Bidirectional(tf.keras.layers.LSTM(GESTURE_TYPES, activation=None)), tf.keras.layers.Activation('softmax')])\n",
    "model_bilstm.compile(loss=tf.losses.SparseCategoricalCrossentropy(), optimizer=tf.optimizers.Adam(), metrics=['accuracy'])\n",
    "history = model_bilstm.fit(X, labels, epochs=20, validation_split=0.2)"
   ]
  },
  {
   "cell_type": "markdown",
   "metadata": {},
   "source": [
    "Making LSTM bidirectional damages the performance when sequence is very long."
   ]
  },
  {
   "cell_type": "code",
   "execution_count": 11,
   "metadata": {},
   "outputs": [
    {
     "name": "stdout",
     "output_type": "stream",
     "text": [
      "Train on 2512 samples, validate on 629 samples\n",
      "Epoch 1/20\n",
      "2512/2512 [==============================] - 14s 6ms/sample - loss: 3.7375 - accuracy: 0.1672 - val_loss: 2.6367 - val_accuracy: 0.2130\n",
      "Epoch 2/20\n",
      "2512/2512 [==============================] - 13s 5ms/sample - loss: 2.2993 - accuracy: 0.2528 - val_loss: 2.3028 - val_accuracy: 0.2655\n",
      "Epoch 3/20\n",
      "2512/2512 [==============================] - 14s 5ms/sample - loss: 2.0297 - accuracy: 0.3153 - val_loss: 2.1143 - val_accuracy: 0.2893\n",
      "Epoch 4/20\n",
      "2512/2512 [==============================] - 13s 5ms/sample - loss: 1.8215 - accuracy: 0.3718 - val_loss: 1.9863 - val_accuracy: 0.3291\n",
      "Epoch 5/20\n",
      "2512/2512 [==============================] - 13s 5ms/sample - loss: 1.6846 - accuracy: 0.4092 - val_loss: 1.8590 - val_accuracy: 0.3609\n",
      "Epoch 6/20\n",
      "2512/2512 [==============================] - 12s 5ms/sample - loss: 1.5658 - accuracy: 0.4562 - val_loss: 1.8152 - val_accuracy: 0.3927\n",
      "Epoch 7/20\n",
      "2512/2512 [==============================] - 13s 5ms/sample - loss: 1.4856 - accuracy: 0.4833 - val_loss: 1.7491 - val_accuracy: 0.3990\n",
      "Epoch 8/20\n",
      "2512/2512 [==============================] - 12s 5ms/sample - loss: 1.3845 - accuracy: 0.5080 - val_loss: 1.6552 - val_accuracy: 0.4245\n",
      "Epoch 9/20\n",
      "2512/2512 [==============================] - 12s 5ms/sample - loss: 1.3009 - accuracy: 0.5466 - val_loss: 1.6347 - val_accuracy: 0.4324\n",
      "Epoch 10/20\n",
      "2512/2512 [==============================] - 12s 5ms/sample - loss: 1.2191 - accuracy: 0.5768 - val_loss: 1.4934 - val_accuracy: 0.4865\n",
      "Epoch 11/20\n",
      "2512/2512 [==============================] - 13s 5ms/sample - loss: 1.1425 - accuracy: 0.5955 - val_loss: 1.5194 - val_accuracy: 0.5008\n",
      "Epoch 12/20\n",
      "2512/2512 [==============================] - 13s 5ms/sample - loss: 1.0711 - accuracy: 0.6290 - val_loss: 1.3752 - val_accuracy: 0.5294\n",
      "Epoch 13/20\n",
      "2512/2512 [==============================] - 13s 5ms/sample - loss: 1.0043 - accuracy: 0.6564 - val_loss: 1.3572 - val_accuracy: 0.5437\n",
      "Epoch 14/20\n",
      "2512/2512 [==============================] - 13s 5ms/sample - loss: 0.9322 - accuracy: 0.6859 - val_loss: 1.2331 - val_accuracy: 0.6057\n",
      "Epoch 15/20\n",
      "2512/2512 [==============================] - 12s 5ms/sample - loss: 0.8407 - accuracy: 0.7289 - val_loss: 1.1919 - val_accuracy: 0.6200\n",
      "Epoch 16/20\n",
      "2512/2512 [==============================] - 13s 5ms/sample - loss: 0.7733 - accuracy: 0.7552 - val_loss: 1.2380 - val_accuracy: 0.6343\n",
      "Epoch 17/20\n",
      "2512/2512 [==============================] - 13s 5ms/sample - loss: 0.7339 - accuracy: 0.7651 - val_loss: 1.1419 - val_accuracy: 0.6502\n",
      "Epoch 18/20\n",
      "2512/2512 [==============================] - 42s 17ms/sample - loss: 0.7039 - accuracy: 0.7779 - val_loss: 1.1208 - val_accuracy: 0.6804\n",
      "Epoch 19/20\n",
      "2512/2512 [==============================] - 15s 6ms/sample - loss: 0.6509 - accuracy: 0.7914 - val_loss: 1.1470 - val_accuracy: 0.6645\n",
      "Epoch 20/20\n",
      "2512/2512 [==============================] - 14s 6ms/sample - loss: 0.6227 - accuracy: 0.8002 - val_loss: 1.0782 - val_accuracy: 0.6868\n"
     ]
    }
   ],
   "source": [
    "model_rnn = tf.keras.Sequential([layers.Masking() ,tf.keras.layers.SimpleRNN(GESTURE_TYPES, activation=None), tf.keras.layers.Activation('softmax')])\n",
    "model_rnn.compile(loss=tf.losses.SparseCategoricalCrossentropy(), optimizer=tf.optimizers.Adam(), metrics=['accuracy'])\n",
    "history = model_rnn.fit(X, labels, epochs=20, validation_split=0.2)"
   ]
  },
  {
   "cell_type": "markdown",
   "metadata": {},
   "source": [
    "Simple RNN gives a slightly worse performance."
   ]
  },
  {
   "cell_type": "code",
   "execution_count": 12,
   "metadata": {},
   "outputs": [
    {
     "name": "stdout",
     "output_type": "stream",
     "text": [
      "Train on 2512 samples, validate on 629 samples\n",
      "Epoch 1/20\n",
      "2512/2512 [==============================] - 46s 18ms/sample - loss: 0.8413 - accuracy: 0.7504 - val_loss: 0.6189 - val_accuracy: 0.8188\n",
      "Epoch 2/20\n",
      "2512/2512 [==============================] - 38s 15ms/sample - loss: 0.3777 - accuracy: 0.8881 - val_loss: 0.5334 - val_accuracy: 0.8315\n",
      "Epoch 3/20\n",
      "2512/2512 [==============================] - 37s 15ms/sample - loss: 0.2432 - accuracy: 0.9327 - val_loss: 0.5423 - val_accuracy: 0.8347\n",
      "Epoch 4/20\n",
      "2512/2512 [==============================] - 37s 15ms/sample - loss: 0.1909 - accuracy: 0.9471 - val_loss: 0.5253 - val_accuracy: 0.8378\n",
      "Epoch 5/20\n",
      "2512/2512 [==============================] - 37s 15ms/sample - loss: 0.1330 - accuracy: 0.9650 - val_loss: 0.5498 - val_accuracy: 0.8347\n",
      "Epoch 6/20\n",
      "2512/2512 [==============================] - 36s 15ms/sample - loss: 0.0914 - accuracy: 0.9825 - val_loss: 0.5445 - val_accuracy: 0.8474\n",
      "Epoch 7/20\n",
      "2512/2512 [==============================] - 37s 15ms/sample - loss: 0.0567 - accuracy: 0.9924 - val_loss: 0.5310 - val_accuracy: 0.8506\n",
      "Epoch 8/20\n",
      "2512/2512 [==============================] - 37s 15ms/sample - loss: 0.0343 - accuracy: 0.9972 - val_loss: 0.5594 - val_accuracy: 0.8474\n",
      "Epoch 9/20\n",
      "2512/2512 [==============================] - 37s 15ms/sample - loss: 0.0251 - accuracy: 0.9976 - val_loss: 0.5751 - val_accuracy: 0.8458\n",
      "Epoch 10/20\n",
      "2512/2512 [==============================] - 37s 15ms/sample - loss: 0.0173 - accuracy: 0.9984 - val_loss: 0.5825 - val_accuracy: 0.8521\n",
      "Epoch 11/20\n",
      "2512/2512 [==============================] - 37s 15ms/sample - loss: 0.0135 - accuracy: 0.9980 - val_loss: 0.5778 - val_accuracy: 0.8490\n",
      "Epoch 12/20\n",
      "2512/2512 [==============================] - 38s 15ms/sample - loss: 0.0109 - accuracy: 1.0000 - val_loss: 0.5960 - val_accuracy: 0.8521\n",
      "Epoch 13/20\n",
      "2512/2512 [==============================] - 37s 15ms/sample - loss: 0.0071 - accuracy: 1.0000 - val_loss: 0.6146 - val_accuracy: 0.8506\n",
      "Epoch 14/20\n",
      "2512/2512 [==============================] - 36s 14ms/sample - loss: 0.0042 - accuracy: 1.0000 - val_loss: 0.6340 - val_accuracy: 0.8506\n",
      "Epoch 15/20\n",
      "2512/2512 [==============================] - 36s 14ms/sample - loss: 0.0030 - accuracy: 1.0000 - val_loss: 0.6454 - val_accuracy: 0.8506\n",
      "Epoch 16/20\n",
      "2512/2512 [==============================] - 35s 14ms/sample - loss: 0.0025 - accuracy: 1.0000 - val_loss: 0.6493 - val_accuracy: 0.8521\n",
      "Epoch 17/20\n",
      "2512/2512 [==============================] - 35s 14ms/sample - loss: 0.0021 - accuracy: 1.0000 - val_loss: 0.6587 - val_accuracy: 0.8537\n",
      "Epoch 18/20\n",
      "2512/2512 [==============================] - 35s 14ms/sample - loss: 0.0018 - accuracy: 1.0000 - val_loss: 0.6656 - val_accuracy: 0.8537\n",
      "Epoch 19/20\n",
      "2512/2512 [==============================] - 35s 14ms/sample - loss: 0.0016 - accuracy: 1.0000 - val_loss: 0.6715 - val_accuracy: 0.8569\n",
      "Epoch 20/20\n",
      "2512/2512 [==============================] - 34s 14ms/sample - loss: 0.0014 - accuracy: 1.0000 - val_loss: 0.6780 - val_accuracy: 0.8585\n"
     ]
    }
   ],
   "source": [
    "model_lstm4 = tf.keras.Sequential([layers.Masking() ,tf.keras.layers.LSTM(128), layers.Dense(GESTURE_TYPES), layers.Activation('softmax')])\n",
    "model_lstm4.compile(loss=tf.losses.SparseCategoricalCrossentropy(), optimizer=tf.optimizers.Adam(), metrics=['accuracy'])\n",
    "history = model_lstm4.fit(X, labels, epochs=20, validation_split=0.2)"
   ]
  },
  {
   "cell_type": "markdown",
   "metadata": {},
   "source": [
    "Increasing depth may improve performance."
   ]
  },
  {
   "cell_type": "markdown",
   "metadata": {},
   "source": [
    "Sequential output (many to many)"
   ]
  },
  {
   "cell_type": "code",
   "execution_count": 11,
   "metadata": {},
   "outputs": [
    {
     "name": "stdout",
     "output_type": "stream",
     "text": [
      "Train on 2512 samples, validate on 629 samples\n",
      "Epoch 1/20\n",
      "2512/2512 [==============================] - 38s 15ms/sample - loss: 0.2688 - accuracy: 0.7058 - val_loss: 0.2200 - val_accuracy: 0.7478\n",
      "Epoch 2/20\n",
      "2512/2512 [==============================] - 30s 12ms/sample - loss: 0.1770 - accuracy: 0.8030 - val_loss: 0.1991 - val_accuracy: 0.7646\n",
      "Epoch 3/20\n",
      "2512/2512 [==============================] - 31s 12ms/sample - loss: 0.1530 - accuracy: 0.8292 - val_loss: 0.2017 - val_accuracy: 0.7675\n",
      "Epoch 4/20\n",
      "2512/2512 [==============================] - 31s 12ms/sample - loss: 0.1409 - accuracy: 0.8398 - val_loss: 0.1891 - val_accuracy: 0.7736\n",
      "Epoch 5/20\n",
      "2512/2512 [==============================] - 31s 12ms/sample - loss: 0.1279 - accuracy: 0.8552 - val_loss: 0.1905 - val_accuracy: 0.7808\n",
      "Epoch 6/20\n",
      "2512/2512 [==============================] - 30s 12ms/sample - loss: 0.1120 - accuracy: 0.8752 - val_loss: 0.1923 - val_accuracy: 0.7774\n",
      "Epoch 7/20\n",
      "2512/2512 [==============================] - 31s 12ms/sample - loss: 0.1063 - accuracy: 0.8802 - val_loss: 0.1976 - val_accuracy: 0.7776\n",
      "Epoch 8/20\n",
      "2512/2512 [==============================] - 32s 13ms/sample - loss: 0.0949 - accuracy: 0.8946 - val_loss: 0.1963 - val_accuracy: 0.7781\n",
      "Epoch 9/20\n",
      "2512/2512 [==============================] - 32s 13ms/sample - loss: 0.0853 - accuracy: 0.9063 - val_loss: 0.2000 - val_accuracy: 0.7810\n",
      "Epoch 10/20\n",
      "2512/2512 [==============================] - 33s 13ms/sample - loss: 0.0802 - accuracy: 0.9103 - val_loss: 0.2025 - val_accuracy: 0.7784\n",
      "Epoch 11/20\n",
      "2512/2512 [==============================] - 31s 12ms/sample - loss: 0.0767 - accuracy: 0.9151 - val_loss: 0.2067 - val_accuracy: 0.7741\n",
      "Epoch 12/20\n",
      "2512/2512 [==============================] - 30s 12ms/sample - loss: 0.0706 - accuracy: 0.9232 - val_loss: 0.2082 - val_accuracy: 0.7786\n",
      "Epoch 13/20\n",
      "2512/2512 [==============================] - 31s 12ms/sample - loss: 0.0623 - accuracy: 0.9328 - val_loss: 0.2223 - val_accuracy: 0.7807\n",
      "Epoch 14/20\n",
      "2512/2512 [==============================] - 30s 12ms/sample - loss: 0.0657 - accuracy: 0.9279 - val_loss: 0.2236 - val_accuracy: 0.7758\n",
      "Epoch 15/20\n",
      "2512/2512 [==============================] - 31s 12ms/sample - loss: 0.0603 - accuracy: 0.9348 - val_loss: 0.2238 - val_accuracy: 0.7746\n",
      "Epoch 16/20\n",
      "2512/2512 [==============================] - 32s 13ms/sample - loss: 0.0554 - accuracy: 0.9411 - val_loss: 0.2295 - val_accuracy: 0.7748\n",
      "Epoch 17/20\n",
      "2512/2512 [==============================] - 33s 13ms/sample - loss: 0.0521 - accuracy: 0.9444 - val_loss: 0.2343 - val_accuracy: 0.7774\n",
      "Epoch 18/20\n",
      "2512/2512 [==============================] - 31s 12ms/sample - loss: 0.0487 - accuracy: 0.9482 - val_loss: 0.2472 - val_accuracy: 0.7706\n",
      "Epoch 19/20\n",
      "2512/2512 [==============================] - 31s 12ms/sample - loss: 0.0455 - accuracy: 0.9522 - val_loss: 0.2573 - val_accuracy: 0.7724\n",
      "Epoch 20/20\n",
      "2512/2512 [==============================] - 31s 12ms/sample - loss: 0.0419 - accuracy: 0.9575 - val_loss: 0.2644 - val_accuracy: 0.7748\n"
     ]
    }
   ],
   "source": [
    "\n",
    "model_lstm_sequence = tf.keras.Sequential([layers.Masking(), layers.LSTM(128, return_sequences=True), layers.TimeDistributed(layers.Dense(GESTURE_TYPES, activation='softmax'))])\n",
    "model_lstm_sequence.compile(loss=tf.losses.SparseCategoricalCrossentropy(), optimizer=tf.optimizers.Adam(), metrics=['accuracy'])\n",
    "history = model_lstm_sequence.fit(X, sequence_labels, epochs=20, validation_split=0.2)"
   ]
  },
  {
   "cell_type": "code",
   "execution_count": 12,
   "metadata": {},
   "outputs": [
    {
     "name": "stdout",
     "output_type": "stream",
     "text": [
      "Train on 2512 samples, validate on 629 samples\n",
      "Epoch 1/20\n",
      "2512/2512 [==============================] - 33s 13ms/sample - loss: 0.2756 - accuracy: 0.6868 - val_loss: 0.2295 - val_accuracy: 0.7389\n",
      "Epoch 2/20\n",
      "2512/2512 [==============================] - 26s 10ms/sample - loss: 0.1828 - accuracy: 0.7924 - val_loss: 0.2082 - val_accuracy: 0.7550\n",
      "Epoch 3/20\n",
      "2512/2512 [==============================] - 27s 11ms/sample - loss: 0.1548 - accuracy: 0.8249 - val_loss: 0.1895 - val_accuracy: 0.7749\n",
      "Epoch 4/20\n",
      "2512/2512 [==============================] - 27s 11ms/sample - loss: 0.1358 - accuracy: 0.8460 - val_loss: 0.1932 - val_accuracy: 0.7730\n",
      "Epoch 5/20\n",
      "2512/2512 [==============================] - 27s 11ms/sample - loss: 0.1205 - accuracy: 0.8660 - val_loss: 0.1918 - val_accuracy: 0.7749\n",
      "Epoch 6/20\n",
      "2512/2512 [==============================] - 27s 11ms/sample - loss: 0.1068 - accuracy: 0.8811 - val_loss: 0.1871 - val_accuracy: 0.7824\n",
      "Epoch 7/20\n",
      "2512/2512 [==============================] - 27s 11ms/sample - loss: 0.0972 - accuracy: 0.8922 - val_loss: 0.1887 - val_accuracy: 0.7840\n",
      "Epoch 8/20\n",
      "2512/2512 [==============================] - 28s 11ms/sample - loss: 0.0858 - accuracy: 0.9060 - val_loss: 0.1899 - val_accuracy: 0.7837\n",
      "Epoch 9/20\n",
      "2512/2512 [==============================] - 28s 11ms/sample - loss: 0.0788 - accuracy: 0.9140 - val_loss: 0.1892 - val_accuracy: 0.7838\n",
      "Epoch 10/20\n",
      "2512/2512 [==============================] - 27s 11ms/sample - loss: 0.0786 - accuracy: 0.9143 - val_loss: 0.1955 - val_accuracy: 0.7780\n",
      "Epoch 11/20\n",
      "2512/2512 [==============================] - 28s 11ms/sample - loss: 0.0663 - accuracy: 0.9282 - val_loss: 0.1978 - val_accuracy: 0.7851\n",
      "Epoch 12/20\n",
      "2512/2512 [==============================] - 32s 13ms/sample - loss: 0.0629 - accuracy: 0.9311 - val_loss: 0.2026 - val_accuracy: 0.7824\n",
      "Epoch 13/20\n",
      "2512/2512 [==============================] - 41s 16ms/sample - loss: 0.0586 - accuracy: 0.9364 - val_loss: 0.2026 - val_accuracy: 0.7905\n",
      "Epoch 14/20\n",
      "2512/2512 [==============================] - 44s 18ms/sample - loss: 0.0535 - accuracy: 0.9424 - val_loss: 0.2146 - val_accuracy: 0.7888\n",
      "Epoch 15/20\n",
      "2512/2512 [==============================] - 44s 17ms/sample - loss: 0.0506 - accuracy: 0.9453 - val_loss: 0.2220 - val_accuracy: 0.7869\n",
      "Epoch 16/20\n",
      "2512/2512 [==============================] - 43s 17ms/sample - loss: 0.0472 - accuracy: 0.9494 - val_loss: 0.2209 - val_accuracy: 0.7849\n",
      "Epoch 17/20\n",
      "2512/2512 [==============================] - 42s 17ms/sample - loss: 0.0449 - accuracy: 0.9518 - val_loss: 0.2376 - val_accuracy: 0.7849\n",
      "Epoch 18/20\n",
      "2512/2512 [==============================] - 42s 17ms/sample - loss: 0.0461 - accuracy: 0.9503 - val_loss: 0.2402 - val_accuracy: 0.7792\n",
      "Epoch 19/20\n",
      "2512/2512 [==============================] - 42s 17ms/sample - loss: 0.0573 - accuracy: 0.9363 - val_loss: 0.2833 - val_accuracy: 0.7408\n",
      "Epoch 20/20\n",
      "2512/2512 [==============================] - 30s 12ms/sample - loss: 0.0640 - accuracy: 0.9275 - val_loss: 0.2218 - val_accuracy: 0.7884\n"
     ]
    }
   ],
   "source": [
    "model_gru_sequence = tf.keras.Sequential([layers.Masking(), layers.GRU(128, return_sequences=True), layers.TimeDistributed(layers.Dense(GESTURE_TYPES, activation='softmax'))])\n",
    "model_gru_sequence.compile(loss=tf.losses.SparseCategoricalCrossentropy(), optimizer=tf.optimizers.Adam(), metrics=['accuracy'])\n",
    "history = model_gru_sequence.fit(X, sequence_labels, epochs=20, validation_split=0.2)"
   ]
  },
  {
   "cell_type": "markdown",
   "metadata": {},
   "source": [
    "In general, GRU is a more stable and cheaper solution compared to LSTM for our problem setting."
   ]
  },
  {
   "cell_type": "code",
   "execution_count": null,
   "metadata": {},
   "outputs": [],
   "source": []
  }
 ],
 "metadata": {
  "kernelspec": {
   "display_name": "Python 3",
   "language": "python",
   "name": "python3"
  },
  "language_info": {
   "codemirror_mode": {
    "name": "ipython",
    "version": 3
   },
   "file_extension": ".py",
   "mimetype": "text/x-python",
   "name": "python",
   "nbconvert_exporter": "python",
   "pygments_lexer": "ipython3",
   "version": "3.7.9"
  }
 },
 "nbformat": 4,
 "nbformat_minor": 2
}

{
 "cells": [
  {
   "cell_type": "code",
   "execution_count": 1,
   "metadata": {},
   "outputs": [],
   "source": [
    "import numpy as np\n",
    "import pandas as pd\n",
    "import tensorflow as tf\n",
    "import json\n",
    "import cv2\n",
    "import sklearn\n",
    "from tensorflow.keras import regularizers\n",
    "from tensorflow.keras import layers\n",
    "import os"
   ]
  },
  {
   "cell_type": "code",
   "execution_count": 2,
   "metadata": {},
   "outputs": [],
   "source": [
    "GESTURE_TYPES = 11\n",
    "LABEL_DICT = {k:i for i,k in enumerate([21, 24, 25, 26, 27, 28, 29, 30, 31, 32, 33])}\n",
    "CONNECTION_LABELS = [\n",
    "    (0, 1), (1, 2), (2, 3), (3, 4),\n",
    "    (5, 6), (6, 7), (7, 8),\n",
    "    (9, 10), (10, 11), (11, 12),\n",
    "    (13, 14), (14, 15), (15, 16),\n",
    "    (17, 18), (18, 19), (19, 20),\n",
    "    (0, 5), (5, 9), (9, 13), (13, 17), (0, 17)\n",
    "]"
   ]
  },
  {
   "cell_type": "code",
   "execution_count": 3,
   "metadata": {
    "tags": []
   },
   "outputs": [
    {
     "name": "stdout",
     "output_type": "stream",
     "text": [
      "(3141, 37, 21, 3) (3141,)\n"
     ]
    }
   ],
   "source": [
    "def load_keypoint_sequences(data_path='gesture_recognition/Fall 2020/data'):\n",
    "    keypoints = []\n",
    "    labels = []\n",
    "    for subjectName in os.listdir(data_path):\n",
    "        if not (subjectName.startswith(\"Subject\") or subjectName.startswith(\"subject\")): continue\n",
    "        # subjectNum = int(re.findall(r'(\\d+)', subjectName)[0])\n",
    "        for sceneName in os.listdir(os.path.join(data_path, subjectName)):\n",
    "            if not (sceneName.startswith(\"Scene\") or subjectName.startswith(\"scene\")): continue\n",
    "            for groupEntry in os.scandir(os.path.join(data_path, subjectName, sceneName)):\n",
    "                with open(groupEntry, 'r') as f:\n",
    "                    groupData = json.load(f)\n",
    "                    for gesture in groupData:\n",
    "                        # print(gesture['label'], gesture['keypoints'])\n",
    "                        for i in range(len(gesture['keypoints'])):\n",
    "                            if not gesture['keypoints'][i]:\n",
    "                                gesture['keypoints'][i] = [[np.nan, np.nan, np.nan] for _ in range(21)]\n",
    "                        keypoints.append(gesture['keypoints'])\n",
    "                        labels.append(LABEL_DICT[gesture['label']])\n",
    "    keypoints = tf.keras.preprocessing.sequence.pad_sequences(keypoints,dtype='float32',padding='post',value=np.NaN)\n",
    "    labels = np.array(labels)\n",
    "    return keypoints, labels\n",
    "keypoints, labels = load_keypoint_sequences()\n",
    "print(keypoints.shape, labels.shape)"
   ]
  },
  {
   "cell_type": "code",
   "execution_count": 4,
   "metadata": {},
   "outputs": [
    {
     "name": "stdout",
     "output_type": "stream",
     "text": [
      "(3141, 37, 210)\n"
     ]
    },
    {
     "name": "stderr",
     "output_type": "stream",
     "text": [
      "<ipython-input-4-c423b6856ef8>:10: RuntimeWarning: invalid value encountered in arccos\n",
      "  return np.arccos(angles)\n"
     ]
    }
   ],
   "source": [
    "def generate_connection_angles_from_sequences(keypoints, keypoints_num=21, keypoints_dimensions=3):\n",
    "    connections = []\n",
    "    for connection in CONNECTION_LABELS:\n",
    "        connections.append(keypoints[..., connection[1], :] - keypoints[..., connection[0], :])\n",
    "    connections = np.stack(connections, axis = -2)\n",
    "    tensor1 = connections[..., np.newaxis].repeat(keypoints_num, -1).transpose(0,1,2,4,3)\n",
    "    tensor2 = connections[..., np.newaxis].repeat(keypoints_num, -1).transpose(0,1,4,2,3)\n",
    "    angles = (tensor1*tensor2).sum(axis=-1)/np.linalg.norm(tensor1,axis=-1)/np.linalg.norm(tensor2,axis=-1)\n",
    "    angles = angles.transpose(2,3,0,1)[np.triu_indices(21, k = 1)].transpose(1,2,0)\n",
    "    return np.arccos(angles)\n",
    "angles = generate_connection_angles_from_sequences(keypoints)\n",
    "print(angles.shape)"
   ]
  },
  {
   "cell_type": "code",
   "execution_count": 5,
   "metadata": {},
   "outputs": [
    {
     "name": "stdout",
     "output_type": "stream",
     "text": [
      "(3141, 37, 210)\n"
     ]
    }
   ],
   "source": [
    "def generate_joint_distances_from_sequences(keypoints, keypoints_num=21, keypoints_dimensions=3):\n",
    "    connections = []\n",
    "    for connection in CONNECTION_LABELS:\n",
    "        connections.append(keypoints[..., connection[1], :] - keypoints[..., connection[0], :])\n",
    "    connections = np.stack(connections, axis = -2)\n",
    "    tensor1 = connections[..., np.newaxis].repeat(keypoints_num, -1).transpose(0,1,2,4,3)\n",
    "    tensor2 = connections[..., np.newaxis].repeat(keypoints_num, -1).transpose(0,1,4,2,3)\n",
    "    distances = np.linalg.norm(tensor1-tensor2,axis=-1).transpose(2,3,0,1)[np.triu_indices(21, k = 1)].transpose(1,2,0)\n",
    "    return distances\n",
    "distances = generate_joint_distances_from_sequences(keypoints)\n",
    "print(distances.shape)"
   ]
  },
  {
   "cell_type": "code",
   "execution_count": 6,
   "metadata": {},
   "outputs": [],
   "source": [
    "def visualize_keypoint_sequences(keypoints):\n",
    "    for sequence in keypoints:\n",
    "        for points in sequence:\n",
    "            img = np.zeros((480, 640, 3))\n",
    "            for point in points:\n",
    "                x, y, z = point\n",
    "                if np.isnan(x):\n",
    "                    continue\n",
    "                cv2.circle(img, (int(x), int(y)), 4, (255, 0, 0), 2)\n",
    "            for connection in CONNECTION_LABELS:\n",
    "                if np.isnan(points[connection[0]][0]):\n",
    "                    continue\n",
    "                x0, y0, z0 = points[connection[0]]\n",
    "                x1, y1, z1 = points[connection[1]]\n",
    "                cv2.line(img, (int(x0), int(y0)), (int(x1), int(y1)), (0, 255, 0), 2)\n",
    "            cv2.imshow(\"Key Points\", img)\n",
    "            key = cv2.waitKey(1)\n",
    "            if key == 27:\n",
    "                cv2.destroyAllWindows()\n",
    "                cv2.waitKey(1) # cannot close window on macOS without this line\n",
    "                return\n",
    "# visualize_keypoint_sequences(keypoints)"
   ]
  },
  {
   "cell_type": "code",
   "execution_count": 6,
   "metadata": {},
   "outputs": [
    {
     "name": "stdout",
     "output_type": "stream",
     "text": [
      "(3141, 37, 483)\n"
     ]
    }
   ],
   "source": [
    "def process_sequence_features(keypoints, angles, distances):\n",
    "    data_length = keypoints.shape[0]\n",
    "    sequence_length = keypoints.shape[1]\n",
    "    keypoints = keypoints.reshape(data_length*sequence_length, -1)\n",
    "    angles = angles.reshape(data_length*sequence_length, -1)\n",
    "    distances = distances.reshape(data_length*sequence_length, -1)\n",
    "    features = np.concatenate((keypoints, angles, distances), -1)\n",
    "    df = pd.DataFrame(features)\n",
    "    np.save('gesture_learning/Fall 2020/models/gru/mean',df.mean())\n",
    "    np.save('gesture_learning/Fall 2020/models/gru/std',df.std())\n",
    "    df = (df-df.mean())/df.std()\n",
    "    df = df.fillna(0)\n",
    "    features = df.to_numpy().reshape(data_length, sequence_length, -1)\n",
    "    return features\n",
    "X = process_sequence_features(keypoints, angles, distances)\n",
    "#normalizer = tf.keras.layers.experimental.preprocessing.Normalization()\n",
    "#normalizer.adapt(X)\n",
    "# X_train, X_val, y_train, y_val = train_test_split(processed_keypoints, labels, test_size=0.2, random_state=0)\n",
    "print(X.shape)"
   ]
  },
  {
   "cell_type": "code",
   "execution_count": 7,
   "metadata": {},
   "outputs": [
    {
     "name": "stdout",
     "output_type": "stream",
     "text": [
      "(3141, 37, 1)\n"
     ]
    }
   ],
   "source": [
    "sequence_length = X.shape[1]\n",
    "sequence_labels = np.tile(np.expand_dims(labels,(1,2)),[1,sequence_length,1])\n",
    "print(sequence_labels.shape)"
   ]
  },
  {
   "cell_type": "markdown",
   "metadata": {},
   "source": [
    "## RNN Classification"
   ]
  },
  {
   "cell_type": "code",
   "execution_count": 24,
   "metadata": {},
   "outputs": [
    {
     "name": "stdout",
     "output_type": "stream",
     "text": [
      "Epoch 1/20\n",
      "79/79 [==============================] - 3s 19ms/step - loss: 1.9801 - accuracy: 0.3759 - val_loss: 1.0546 - val_accuracy: 0.6677\n",
      "Epoch 2/20\n",
      "79/79 [==============================] - 1s 15ms/step - loss: 0.7404 - accuracy: 0.7849 - val_loss: 0.7906 - val_accuracy: 0.7440\n",
      "Epoch 3/20\n",
      "79/79 [==============================] - 1s 15ms/step - loss: 0.6055 - accuracy: 0.8274 - val_loss: 0.6894 - val_accuracy: 0.7854\n",
      "Epoch 4/20\n",
      "79/79 [==============================] - 1s 15ms/step - loss: 0.3791 - accuracy: 0.8829 - val_loss: 0.6299 - val_accuracy: 0.8045\n",
      "Epoch 5/20\n",
      "79/79 [==============================] - 1s 16ms/step - loss: 0.3960 - accuracy: 0.8932 - val_loss: 0.7045 - val_accuracy: 0.7997\n",
      "Epoch 6/20\n",
      "79/79 [==============================] - 1s 15ms/step - loss: 0.3216 - accuracy: 0.9025 - val_loss: 0.6226 - val_accuracy: 0.8029\n",
      "Epoch 7/20\n",
      "79/79 [==============================] - 1s 14ms/step - loss: 0.2993 - accuracy: 0.9112 - val_loss: 0.5583 - val_accuracy: 0.8299\n",
      "Epoch 8/20\n",
      "79/79 [==============================] - 1s 14ms/step - loss: 0.2699 - accuracy: 0.9136 - val_loss: 0.5867 - val_accuracy: 0.8235\n",
      "Epoch 9/20\n",
      "79/79 [==============================] - 1s 14ms/step - loss: 0.2366 - accuracy: 0.9232 - val_loss: 0.5530 - val_accuracy: 0.8283\n",
      "Epoch 10/20\n",
      "79/79 [==============================] - 1s 15ms/step - loss: 0.2068 - accuracy: 0.9349 - val_loss: 0.5790 - val_accuracy: 0.8172\n",
      "Epoch 11/20\n",
      "79/79 [==============================] - 1s 14ms/step - loss: 0.2191 - accuracy: 0.9288 - val_loss: 0.5701 - val_accuracy: 0.8331\n",
      "Epoch 12/20\n",
      "79/79 [==============================] - 1s 15ms/step - loss: 0.1779 - accuracy: 0.9412 - val_loss: 0.5787 - val_accuracy: 0.8426\n",
      "Epoch 13/20\n",
      "79/79 [==============================] - 1s 14ms/step - loss: 0.2034 - accuracy: 0.9363 - val_loss: 0.7137 - val_accuracy: 0.8076\n",
      "Epoch 14/20\n",
      "79/79 [==============================] - 1s 15ms/step - loss: 0.1998 - accuracy: 0.9377 - val_loss: 0.6425 - val_accuracy: 0.8331\n",
      "Epoch 15/20\n",
      "79/79 [==============================] - 1s 15ms/step - loss: 0.2264 - accuracy: 0.9301 - val_loss: 0.6520 - val_accuracy: 0.8315\n",
      "Epoch 16/20\n",
      "79/79 [==============================] - 1s 14ms/step - loss: 0.2117 - accuracy: 0.9314 - val_loss: 0.6946 - val_accuracy: 0.8283\n",
      "Epoch 17/20\n",
      "79/79 [==============================] - 1s 14ms/step - loss: 0.2543 - accuracy: 0.9236 - val_loss: 0.6410 - val_accuracy: 0.8315\n",
      "Epoch 18/20\n",
      "79/79 [==============================] - 1s 15ms/step - loss: 0.1918 - accuracy: 0.9395 - val_loss: 0.6300 - val_accuracy: 0.8267\n",
      "Epoch 19/20\n",
      "79/79 [==============================] - 1s 15ms/step - loss: 0.1423 - accuracy: 0.9583 - val_loss: 0.6541 - val_accuracy: 0.8378\n",
      "Epoch 20/20\n",
      "79/79 [==============================] - 1s 14ms/step - loss: 0.1489 - accuracy: 0.9534 - val_loss: 0.6612 - val_accuracy: 0.8442\n"
     ]
    }
   ],
   "source": [
    "model_lstm = tf.keras.Sequential([layers.Masking(), layers.LSTM(GESTURE_TYPES, activation=None), layers.Activation('softmax')])\n",
    "model_lstm.compile(loss=tf.losses.SparseCategoricalCrossentropy(), optimizer=tf.optimizers.Adam(), metrics=['accuracy'])\n",
    "history = model_lstm.fit(X, labels, epochs=20, validation_split=0.2)"
   ]
  },
  {
   "cell_type": "code",
   "execution_count": 25,
   "metadata": {},
   "outputs": [
    {
     "name": "stdout",
     "output_type": "stream",
     "text": [
      "Epoch 1/20\n",
      "79/79 [==============================] - 2s 16ms/step - loss: 1.8634 - accuracy: 0.3790 - val_loss: 0.8074 - val_accuracy: 0.7679\n",
      "Epoch 2/20\n",
      "79/79 [==============================] - 1s 13ms/step - loss: 0.5970 - accuracy: 0.8112 - val_loss: 0.6160 - val_accuracy: 0.8060\n",
      "Epoch 3/20\n",
      "79/79 [==============================] - 1s 13ms/step - loss: 0.4184 - accuracy: 0.8723 - val_loss: 0.5625 - val_accuracy: 0.8235\n",
      "Epoch 4/20\n",
      "79/79 [==============================] - 1s 13ms/step - loss: 0.3426 - accuracy: 0.8962 - val_loss: 0.5459 - val_accuracy: 0.8331\n",
      "Epoch 5/20\n",
      "79/79 [==============================] - 1s 13ms/step - loss: 0.2990 - accuracy: 0.9035 - val_loss: 0.5202 - val_accuracy: 0.8490\n",
      "Epoch 6/20\n",
      "79/79 [==============================] - 1s 13ms/step - loss: 0.2639 - accuracy: 0.9185 - val_loss: 0.5073 - val_accuracy: 0.8521\n",
      "Epoch 7/20\n",
      "79/79 [==============================] - 1s 13ms/step - loss: 0.2406 - accuracy: 0.9272 - val_loss: 0.5040 - val_accuracy: 0.8458\n",
      "Epoch 8/20\n",
      "79/79 [==============================] - 1s 13ms/step - loss: 0.2486 - accuracy: 0.9247 - val_loss: 0.5296 - val_accuracy: 0.8394\n",
      "Epoch 9/20\n",
      "79/79 [==============================] - 1s 13ms/step - loss: 0.2040 - accuracy: 0.9364 - val_loss: 0.5320 - val_accuracy: 0.8474\n",
      "Epoch 10/20\n",
      "79/79 [==============================] - 1s 13ms/step - loss: 0.1797 - accuracy: 0.9494 - val_loss: 0.5087 - val_accuracy: 0.8569\n",
      "Epoch 11/20\n",
      "79/79 [==============================] - 1s 13ms/step - loss: 0.1736 - accuracy: 0.9560 - val_loss: 0.5330 - val_accuracy: 0.8474\n",
      "Epoch 12/20\n",
      "79/79 [==============================] - 1s 13ms/step - loss: 0.1674 - accuracy: 0.9510 - val_loss: 0.5420 - val_accuracy: 0.8553\n",
      "Epoch 13/20\n",
      "79/79 [==============================] - 1s 13ms/step - loss: 0.1425 - accuracy: 0.9588 - val_loss: 0.5360 - val_accuracy: 0.8458\n",
      "Epoch 14/20\n",
      "79/79 [==============================] - 1s 13ms/step - loss: 0.1308 - accuracy: 0.9610 - val_loss: 0.5429 - val_accuracy: 0.8537\n",
      "Epoch 15/20\n",
      "79/79 [==============================] - 1s 13ms/step - loss: 0.1452 - accuracy: 0.9581 - val_loss: 0.5658 - val_accuracy: 0.8458\n",
      "Epoch 16/20\n",
      "79/79 [==============================] - 1s 13ms/step - loss: 0.1419 - accuracy: 0.9573 - val_loss: 0.5793 - val_accuracy: 0.8537\n",
      "Epoch 17/20\n",
      "79/79 [==============================] - 1s 13ms/step - loss: 0.1021 - accuracy: 0.9718 - val_loss: 0.6311 - val_accuracy: 0.8378\n",
      "Epoch 18/20\n",
      "79/79 [==============================] - 1s 13ms/step - loss: 0.1168 - accuracy: 0.9668 - val_loss: 0.6018 - val_accuracy: 0.8442\n",
      "Epoch 19/20\n",
      "79/79 [==============================] - 1s 13ms/step - loss: 0.0999 - accuracy: 0.9733 - val_loss: 0.6102 - val_accuracy: 0.8378\n",
      "Epoch 20/20\n",
      "79/79 [==============================] - 1s 13ms/step - loss: 0.1010 - accuracy: 0.9723 - val_loss: 0.6363 - val_accuracy: 0.8347\n"
     ]
    }
   ],
   "source": [
    "model_gru = tf.keras.Sequential([layers.Masking(), layers.GRU(GESTURE_TYPES, activation=None), layers.Activation('softmax')])\n",
    "model_gru.compile(loss=tf.losses.SparseCategoricalCrossentropy(), optimizer=tf.optimizers.Adam(), metrics=['accuracy'])\n",
    "history = model_gru.fit(X, labels, epochs=20, validation_split=0.2)"
   ]
  },
  {
   "cell_type": "code",
   "execution_count": 22,
   "metadata": {},
   "outputs": [
    {
     "name": "stdout",
     "output_type": "stream",
     "text": [
      "Epoch 1/20\n",
      "2512/2512 [==============================] - 18s 7ms/step - loss: 1.4429 - accuracy: 0.5611 - val_loss: 1.2721 - val_accuracy: 0.6948\n",
      "Epoch 2/20\n",
      "2512/2512 [==============================] - 18s 7ms/step - loss: 1.0300 - accuracy: 0.7769 - val_loss: 1.3480 - val_accuracy: 0.7345\n",
      "Epoch 3/20\n",
      "2512/2512 [==============================] - 17s 7ms/step - loss: 0.9433 - accuracy: 0.8069 - val_loss: 1.8012 - val_accuracy: 0.6916\n",
      "Epoch 4/20\n",
      "2512/2512 [==============================] - 18s 7ms/step - loss: 1.0155 - accuracy: 0.8145 - val_loss: 1.3034 - val_accuracy: 0.7599\n",
      "Epoch 5/20\n",
      "2512/2512 [==============================] - 18s 7ms/step - loss: 0.9008 - accuracy: 0.8335 - val_loss: 1.3439 - val_accuracy: 0.7679\n",
      "Epoch 6/20\n",
      "2512/2512 [==============================] - 17s 7ms/step - loss: 0.9291 - accuracy: 0.8293 - val_loss: 1.4563 - val_accuracy: 0.7536\n",
      "Epoch 7/20\n",
      "2512/2512 [==============================] - 17s 7ms/step - loss: 0.8980 - accuracy: 0.8416 - val_loss: 1.7824 - val_accuracy: 0.7027\n",
      "Epoch 8/20\n",
      "2512/2512 [==============================] - 17s 7ms/step - loss: 1.0364 - accuracy: 0.8211 - val_loss: 1.4105 - val_accuracy: 0.7615\n",
      "Epoch 9/20\n",
      "2512/2512 [==============================] - 17s 7ms/step - loss: 0.8336 - accuracy: 0.8556 - val_loss: 1.7804 - val_accuracy: 0.7520\n",
      "Epoch 10/20\n",
      "2512/2512 [==============================] - 17s 7ms/step - loss: 0.9451 - accuracy: 0.8555 - val_loss: 1.6770 - val_accuracy: 0.7377\n",
      "Epoch 11/20\n",
      "2512/2512 [==============================] - 17s 7ms/step - loss: 1.0170 - accuracy: 0.8500 - val_loss: 1.8863 - val_accuracy: 0.7393\n",
      "Epoch 12/20\n",
      "2512/2512 [==============================] - 17s 7ms/step - loss: 0.9405 - accuracy: 0.8469 - val_loss: 1.7604 - val_accuracy: 0.7631\n",
      "Epoch 13/20\n",
      "2512/2512 [==============================] - 17s 7ms/step - loss: 1.1697 - accuracy: 0.8374 - val_loss: 2.3591 - val_accuracy: 0.7170\n",
      "Epoch 14/20\n",
      "2512/2512 [==============================] - 17s 7ms/step - loss: 0.9756 - accuracy: 0.8312 - val_loss: 2.2553 - val_accuracy: 0.7440\n",
      "Epoch 15/20\n",
      "2512/2512 [==============================] - 17s 7ms/step - loss: 1.0911 - accuracy: 0.8264 - val_loss: 1.9220 - val_accuracy: 0.7631\n",
      "Epoch 16/20\n",
      "2512/2512 [==============================] - 18s 7ms/step - loss: 1.1179 - accuracy: 0.8465 - val_loss: 2.1332 - val_accuracy: 0.7742\n",
      "Epoch 17/20\n",
      "2512/2512 [==============================] - 20s 8ms/step - loss: 1.4379 - accuracy: 0.8494 - val_loss: 2.3110 - val_accuracy: 0.7663\n",
      "Epoch 18/20\n",
      "2512/2512 [==============================] - 20s 8ms/step - loss: 1.0779 - accuracy: 0.8611 - val_loss: 2.0853 - val_accuracy: 0.7742\n",
      "Epoch 19/20\n",
      "2512/2512 [==============================] - 19s 7ms/step - loss: 0.9875 - accuracy: 0.8646 - val_loss: 2.5133 - val_accuracy: 0.7742\n",
      "Epoch 20/20\n",
      "2512/2512 [==============================] - 16s 7ms/step - loss: 1.0275 - accuracy: 0.8643 - val_loss: 2.1112 - val_accuracy: 0.7711\n"
     ]
    }
   ],
   "source": [
    "model_gru_stateful = tf.keras.Sequential([layers.Masking(batch_input_shape=(1,37,483)), layers.GRU(GESTURE_TYPES, activation=None, stateful=True), layers.Activation('softmax')])\n",
    "model_gru_stateful.compile(loss=tf.losses.SparseCategoricalCrossentropy(), optimizer=tf.optimizers.Adam(), metrics=['accuracy'])\n",
    "history = model_gru_stateful.fit(X, labels, batch_size=1, epochs=20, validation_split=0.2)"
   ]
  },
  {
   "cell_type": "code",
   "execution_count": 24,
   "metadata": {},
   "outputs": [],
   "source": [
    "model_gru_stateful.save_weights('gesture_learning/Fall 2020/models/gru_stateful/model')"
   ]
  },
  {
   "cell_type": "markdown",
   "metadata": {},
   "source": [
    "GRU cells work just as well as LSTM cells (or even better), and is cheaper in theory."
   ]
  },
  {
   "cell_type": "code",
   "execution_count": 9,
   "metadata": {},
   "outputs": [
    {
     "name": "stdout",
     "output_type": "stream",
     "text": [
      "Train on 2512 samples, validate on 629 samples\n",
      "Epoch 1/20\n",
      "2512/2512 [==============================] - 25s 10ms/sample - loss: 2.1998 - accuracy: 0.3790 - val_loss: 1.3792 - val_accuracy: 0.5835\n",
      "Epoch 2/20\n",
      "2512/2512 [==============================] - 17s 7ms/sample - loss: 0.9320 - accuracy: 0.7480 - val_loss: 0.9101 - val_accuracy: 0.7615\n",
      "Epoch 3/20\n",
      "2512/2512 [==============================] - 17s 7ms/sample - loss: 0.6225 - accuracy: 0.8312 - val_loss: 0.8323 - val_accuracy: 0.7822\n",
      "Epoch 4/20\n",
      "2512/2512 [==============================] - 17s 7ms/sample - loss: 0.4682 - accuracy: 0.8682 - val_loss: 0.7740 - val_accuracy: 0.8029\n",
      "Epoch 5/20\n",
      "2512/2512 [==============================] - 16s 6ms/sample - loss: 0.6272 - accuracy: 0.8439 - val_loss: 0.8068 - val_accuracy: 0.7679\n",
      "Epoch 6/20\n",
      "2512/2512 [==============================] - 11s 4ms/sample - loss: 0.4971 - accuracy: 0.8686 - val_loss: 0.8009 - val_accuracy: 0.8013\n",
      "Epoch 7/20\n",
      "2512/2512 [==============================] - 10s 4ms/sample - loss: 0.4104 - accuracy: 0.8830 - val_loss: 0.6971 - val_accuracy: 0.8092\n",
      "Epoch 8/20\n",
      "2512/2512 [==============================] - 10s 4ms/sample - loss: 0.3315 - accuracy: 0.9017 - val_loss: 0.7272 - val_accuracy: 0.8076\n",
      "Epoch 9/20\n",
      "2512/2512 [==============================] - 11s 4ms/sample - loss: 0.2929 - accuracy: 0.9144 - val_loss: 0.7099 - val_accuracy: 0.8251\n",
      "Epoch 10/20\n",
      "2512/2512 [==============================] - 11s 4ms/sample - loss: 0.2770 - accuracy: 0.9160 - val_loss: 0.6822 - val_accuracy: 0.8172\n",
      "Epoch 11/20\n",
      "2512/2512 [==============================] - 10s 4ms/sample - loss: 0.2529 - accuracy: 0.9208 - val_loss: 0.6621 - val_accuracy: 0.8251\n",
      "Epoch 12/20\n",
      "2512/2512 [==============================] - 10s 4ms/sample - loss: 0.3408 - accuracy: 0.9120 - val_loss: 1.1158 - val_accuracy: 0.7933\n",
      "Epoch 13/20\n",
      "2512/2512 [==============================] - 10s 4ms/sample - loss: 0.3529 - accuracy: 0.9072 - val_loss: 0.8005 - val_accuracy: 0.8203\n",
      "Epoch 14/20\n",
      "2512/2512 [==============================] - 11s 4ms/sample - loss: 0.3083 - accuracy: 0.9200 - val_loss: 0.8189 - val_accuracy: 0.8235\n",
      "Epoch 15/20\n",
      "2512/2512 [==============================] - 10s 4ms/sample - loss: 0.2788 - accuracy: 0.9224 - val_loss: 0.9429 - val_accuracy: 0.8156\n",
      "Epoch 16/20\n",
      "2512/2512 [==============================] - 10s 4ms/sample - loss: 0.3658 - accuracy: 0.9076 - val_loss: 0.7708 - val_accuracy: 0.8124\n",
      "Epoch 17/20\n",
      "2512/2512 [==============================] - 10s 4ms/sample - loss: 0.2794 - accuracy: 0.9244 - val_loss: 0.7781 - val_accuracy: 0.8235\n",
      "Epoch 18/20\n",
      "2512/2512 [==============================] - 11s 4ms/sample - loss: 0.2795 - accuracy: 0.9228 - val_loss: 0.8400 - val_accuracy: 0.8203\n",
      "Epoch 19/20\n",
      "2512/2512 [==============================] - 11s 4ms/sample - loss: 0.2257 - accuracy: 0.9363 - val_loss: 0.8423 - val_accuracy: 0.8203\n",
      "Epoch 20/20\n",
      "2512/2512 [==============================] - 11s 4ms/sample - loss: 0.2140 - accuracy: 0.9379 - val_loss: 0.7489 - val_accuracy: 0.8299\n"
     ]
    }
   ],
   "source": [
    "model_bilstm = tf.keras.Sequential([layers.Masking(), tf.keras.layers.Bidirectional(tf.keras.layers.LSTM(GESTURE_TYPES, activation=None)), tf.keras.layers.Activation('softmax')])\n",
    "model_bilstm.compile(loss=tf.losses.SparseCategoricalCrossentropy(), optimizer=tf.optimizers.Adam(), metrics=['accuracy'])\n",
    "history = model_bilstm.fit(X, labels, epochs=20, validation_split=0.2)"
   ]
  },
  {
   "cell_type": "markdown",
   "metadata": {},
   "source": [
    "Making LSTM bidirectional harms performance in long sequence case."
   ]
  },
  {
   "cell_type": "code",
   "execution_count": 10,
   "metadata": {},
   "outputs": [
    {
     "name": "stdout",
     "output_type": "stream",
     "text": [
      "Train on 2512 samples, validate on 629 samples\n",
      "Epoch 1/20\n",
      "2512/2512 [==============================] - 5s 2ms/sample - loss: 3.3796 - accuracy: 0.3428 - val_loss: 2.0242 - val_accuracy: 0.4197\n",
      "Epoch 2/20\n",
      "2512/2512 [==============================] - 3s 1ms/sample - loss: 1.5106 - accuracy: 0.5092 - val_loss: 1.5615 - val_accuracy: 0.5167\n",
      "Epoch 3/20\n",
      "2512/2512 [==============================] - 3s 1ms/sample - loss: 1.2023 - accuracy: 0.6135 - val_loss: 1.3567 - val_accuracy: 0.5644\n",
      "Epoch 4/20\n",
      "2512/2512 [==============================] - 4s 1ms/sample - loss: 1.0113 - accuracy: 0.6708 - val_loss: 1.1681 - val_accuracy: 0.6216\n",
      "Epoch 5/20\n",
      "2512/2512 [==============================] - 4s 1ms/sample - loss: 0.8576 - accuracy: 0.7217 - val_loss: 1.0450 - val_accuracy: 0.6439\n",
      "Epoch 6/20\n",
      "2512/2512 [==============================] - 4s 2ms/sample - loss: 0.7710 - accuracy: 0.7508 - val_loss: 0.9199 - val_accuracy: 0.7011\n",
      "Epoch 7/20\n",
      "2512/2512 [==============================] - 4s 1ms/sample - loss: 0.6877 - accuracy: 0.7783 - val_loss: 0.8780 - val_accuracy: 0.7250\n",
      "Epoch 8/20\n",
      "2512/2512 [==============================] - 4s 2ms/sample - loss: 0.6401 - accuracy: 0.8033 - val_loss: 0.8652 - val_accuracy: 0.7266\n",
      "Epoch 9/20\n",
      "2512/2512 [==============================] - 4s 1ms/sample - loss: 0.5918 - accuracy: 0.8165 - val_loss: 0.8177 - val_accuracy: 0.7472\n",
      "Epoch 10/20\n",
      "2512/2512 [==============================] - 4s 1ms/sample - loss: 0.5617 - accuracy: 0.8244 - val_loss: 0.7655 - val_accuracy: 0.7695\n",
      "Epoch 11/20\n",
      "2512/2512 [==============================] - 3s 1ms/sample - loss: 0.5362 - accuracy: 0.8392 - val_loss: 0.7457 - val_accuracy: 0.7838\n",
      "Epoch 12/20\n",
      "2512/2512 [==============================] - 4s 1ms/sample - loss: 0.4868 - accuracy: 0.8511 - val_loss: 0.7472 - val_accuracy: 0.7917\n",
      "Epoch 13/20\n",
      "2512/2512 [==============================] - 4s 1ms/sample - loss: 0.4894 - accuracy: 0.8503 - val_loss: 0.7789 - val_accuracy: 0.7822\n",
      "Epoch 14/20\n",
      "2512/2512 [==============================] - 4s 1ms/sample - loss: 0.4787 - accuracy: 0.8611 - val_loss: 0.8102 - val_accuracy: 0.7822\n",
      "Epoch 15/20\n",
      "2512/2512 [==============================] - 4s 1ms/sample - loss: 0.4574 - accuracy: 0.8607 - val_loss: 0.7020 - val_accuracy: 0.7901\n",
      "Epoch 16/20\n",
      "2512/2512 [==============================] - 4s 1ms/sample - loss: 0.4383 - accuracy: 0.8682 - val_loss: 0.7503 - val_accuracy: 0.8013\n",
      "Epoch 17/20\n",
      "2512/2512 [==============================] - 4s 1ms/sample - loss: 0.4305 - accuracy: 0.8654 - val_loss: 0.7134 - val_accuracy: 0.8060\n",
      "Epoch 18/20\n",
      "2512/2512 [==============================] - 4s 1ms/sample - loss: 0.4194 - accuracy: 0.8718 - val_loss: 0.7939 - val_accuracy: 0.7917\n",
      "Epoch 19/20\n",
      "2512/2512 [==============================] - 4s 1ms/sample - loss: 0.4288 - accuracy: 0.8678 - val_loss: 0.7140 - val_accuracy: 0.7917\n",
      "Epoch 20/20\n",
      "2512/2512 [==============================] - 4s 1ms/sample - loss: 0.4079 - accuracy: 0.8822 - val_loss: 0.6819 - val_accuracy: 0.8251\n"
     ]
    }
   ],
   "source": [
    "model_rnn = tf.keras.Sequential([layers.Masking() ,tf.keras.layers.SimpleRNN(GESTURE_TYPES, activation=None), tf.keras.layers.Activation('softmax')])\n",
    "model_rnn.compile(loss=tf.losses.SparseCategoricalCrossentropy(), optimizer=tf.optimizers.Adam(), metrics=['accuracy'])\n",
    "history = model_rnn.fit(X, labels, epochs=20, validation_split=0.2)"
   ]
  },
  {
   "cell_type": "markdown",
   "metadata": {},
   "source": [
    "Simple RNN gives a slightly worse performance."
   ]
  },
  {
   "cell_type": "code",
   "execution_count": 11,
   "metadata": {},
   "outputs": [
    {
     "name": "stdout",
     "output_type": "stream",
     "text": [
      "Train on 2512 samples, validate on 629 samples\n",
      "Epoch 1/20\n",
      "2512/2512 [==============================] - 16s 6ms/sample - loss: 0.7514 - accuracy: 0.7894 - val_loss: 0.5478 - val_accuracy: 0.8219\n",
      "Epoch 2/20\n",
      "2512/2512 [==============================] - 10s 4ms/sample - loss: 0.3271 - accuracy: 0.9001 - val_loss: 0.4696 - val_accuracy: 0.8537\n",
      "Epoch 3/20\n",
      "2512/2512 [==============================] - 11s 4ms/sample - loss: 0.2448 - accuracy: 0.9295 - val_loss: 0.4966 - val_accuracy: 0.8458\n",
      "Epoch 4/20\n",
      "2512/2512 [==============================] - 11s 4ms/sample - loss: 0.1860 - accuracy: 0.9471 - val_loss: 0.4520 - val_accuracy: 0.8553\n",
      "Epoch 5/20\n",
      "2512/2512 [==============================] - 11s 4ms/sample - loss: 0.1548 - accuracy: 0.9562 - val_loss: 0.4550 - val_accuracy: 0.8569\n",
      "Epoch 6/20\n",
      "2512/2512 [==============================] - 11s 4ms/sample - loss: 0.1132 - accuracy: 0.9717 - val_loss: 0.4368 - val_accuracy: 0.8490\n",
      "Epoch 7/20\n",
      "2512/2512 [==============================] - 11s 4ms/sample - loss: 0.0886 - accuracy: 0.9769 - val_loss: 0.4602 - val_accuracy: 0.8521\n",
      "Epoch 8/20\n",
      "2512/2512 [==============================] - 11s 4ms/sample - loss: 0.0731 - accuracy: 0.9845 - val_loss: 0.4453 - val_accuracy: 0.8633\n",
      "Epoch 9/20\n",
      "2512/2512 [==============================] - 11s 4ms/sample - loss: 0.0545 - accuracy: 0.9908 - val_loss: 0.4824 - val_accuracy: 0.8617\n",
      "Epoch 10/20\n",
      "2512/2512 [==============================] - 11s 4ms/sample - loss: 0.0427 - accuracy: 0.9940 - val_loss: 0.4937 - val_accuracy: 0.8569\n",
      "Epoch 11/20\n",
      "2512/2512 [==============================] - 11s 4ms/sample - loss: 0.0336 - accuracy: 0.9952 - val_loss: 0.4845 - val_accuracy: 0.8601\n",
      "Epoch 12/20\n",
      "2512/2512 [==============================] - 11s 4ms/sample - loss: 0.0220 - accuracy: 0.9984 - val_loss: 0.5181 - val_accuracy: 0.8585\n",
      "Epoch 13/20\n",
      "2512/2512 [==============================] - 11s 4ms/sample - loss: 0.0169 - accuracy: 0.9984 - val_loss: 0.5183 - val_accuracy: 0.8569\n",
      "Epoch 14/20\n",
      "2512/2512 [==============================] - 11s 4ms/sample - loss: 0.0120 - accuracy: 0.9996 - val_loss: 0.5246 - val_accuracy: 0.8617\n",
      "Epoch 15/20\n",
      "2512/2512 [==============================] - 11s 4ms/sample - loss: 0.0077 - accuracy: 1.0000 - val_loss: 0.5303 - val_accuracy: 0.8617\n",
      "Epoch 16/20\n",
      "2512/2512 [==============================] - 11s 4ms/sample - loss: 0.0055 - accuracy: 1.0000 - val_loss: 0.5467 - val_accuracy: 0.8601\n",
      "Epoch 17/20\n",
      "2512/2512 [==============================] - 11s 4ms/sample - loss: 0.0045 - accuracy: 1.0000 - val_loss: 0.5589 - val_accuracy: 0.8585\n",
      "Epoch 18/20\n",
      "2512/2512 [==============================] - 11s 4ms/sample - loss: 0.0036 - accuracy: 1.0000 - val_loss: 0.5679 - val_accuracy: 0.8601\n",
      "Epoch 19/20\n",
      "2512/2512 [==============================] - 11s 4ms/sample - loss: 0.0031 - accuracy: 1.0000 - val_loss: 0.5671 - val_accuracy: 0.8585\n",
      "Epoch 20/20\n",
      "2512/2512 [==============================] - 11s 4ms/sample - loss: 0.0027 - accuracy: 1.0000 - val_loss: 0.5741 - val_accuracy: 0.8617\n"
     ]
    }
   ],
   "source": [
    "model_lstm4 = tf.keras.Sequential([layers.Masking() ,tf.keras.layers.LSTM(128), layers.Dense(GESTURE_TYPES), layers.Activation('softmax')])\n",
    "model_lstm4.compile(loss=tf.losses.SparseCategoricalCrossentropy(), optimizer=tf.optimizers.Adam(), metrics=['accuracy'])\n",
    "history = model_lstm4.fit(X, labels, epochs=20, validation_split=0.2)"
   ]
  },
  {
   "cell_type": "markdown",
   "metadata": {},
   "source": [
    "Increasing depth may improve performance.\n",
    "## Sqeuence to Sequence"
   ]
  },
  {
   "cell_type": "code",
   "execution_count": 36,
   "metadata": {},
   "outputs": [
    {
     "name": "stdout",
     "output_type": "stream",
     "text": [
      "Train on 2512 samples, validate on 629 samples\n",
      "Epoch 1/20\n",
      "2512/2512 [==============================] - 18s 7ms/sample - loss: 0.2814 - accuracy: 0.6979 - val_loss: 0.2238 - val_accuracy: 0.7336\n",
      "Epoch 2/20\n",
      "2512/2512 [==============================] - 11s 4ms/sample - loss: 0.1840 - accuracy: 0.7912 - val_loss: 0.2065 - val_accuracy: 0.7493\n",
      "Epoch 3/20\n",
      "2512/2512 [==============================] - 11s 4ms/sample - loss: 0.1621 - accuracy: 0.8151 - val_loss: 0.1969 - val_accuracy: 0.7531\n",
      "Epoch 4/20\n",
      "2512/2512 [==============================] - 11s 5ms/sample - loss: 0.1466 - accuracy: 0.8305 - val_loss: 0.1967 - val_accuracy: 0.7575\n",
      "Epoch 5/20\n",
      "2512/2512 [==============================] - 12s 5ms/sample - loss: 0.1371 - accuracy: 0.8430 - val_loss: 0.1972 - val_accuracy: 0.7595\n",
      "Epoch 6/20\n",
      "2512/2512 [==============================] - 12s 5ms/sample - loss: 0.1287 - accuracy: 0.8512 - val_loss: 0.1955 - val_accuracy: 0.7600\n",
      "Epoch 7/20\n",
      "2512/2512 [==============================] - 12s 5ms/sample - loss: 0.1181 - accuracy: 0.8652 - val_loss: 0.1903 - val_accuracy: 0.7648\n",
      "Epoch 8/20\n",
      "2512/2512 [==============================] - 11s 5ms/sample - loss: 0.1120 - accuracy: 0.8720 - val_loss: 0.1923 - val_accuracy: 0.7639\n",
      "Epoch 9/20\n",
      "2512/2512 [==============================] - 11s 4ms/sample - loss: 0.1039 - accuracy: 0.8844 - val_loss: 0.1951 - val_accuracy: 0.7634\n",
      "Epoch 10/20\n",
      "2512/2512 [==============================] - 11s 4ms/sample - loss: 0.0986 - accuracy: 0.8885 - val_loss: 0.1934 - val_accuracy: 0.7662\n",
      "Epoch 11/20\n",
      "2512/2512 [==============================] - 11s 4ms/sample - loss: 0.0941 - accuracy: 0.8967 - val_loss: 0.1971 - val_accuracy: 0.7625\n",
      "Epoch 12/20\n",
      "2512/2512 [==============================] - 11s 4ms/sample - loss: 0.0884 - accuracy: 0.9024 - val_loss: 0.1945 - val_accuracy: 0.7705\n",
      "Epoch 13/20\n",
      "2512/2512 [==============================] - 11s 4ms/sample - loss: 0.0843 - accuracy: 0.9067 - val_loss: 0.1977 - val_accuracy: 0.7664\n",
      "Epoch 14/20\n",
      "2512/2512 [==============================] - 11s 4ms/sample - loss: 0.0802 - accuracy: 0.9131 - val_loss: 0.2067 - val_accuracy: 0.7654\n",
      "Epoch 15/20\n",
      "2512/2512 [==============================] - 12s 5ms/sample - loss: 0.0759 - accuracy: 0.9177 - val_loss: 0.2131 - val_accuracy: 0.7628\n",
      "Epoch 16/20\n",
      "2512/2512 [==============================] - 12s 5ms/sample - loss: 0.0724 - accuracy: 0.9223 - val_loss: 0.2007 - val_accuracy: 0.7716\n",
      "Epoch 17/20\n",
      "2512/2512 [==============================] - 12s 5ms/sample - loss: 0.0699 - accuracy: 0.9237 - val_loss: 0.2113 - val_accuracy: 0.7640\n",
      "Epoch 18/20\n",
      "2512/2512 [==============================] - 12s 5ms/sample - loss: 0.0663 - accuracy: 0.9293 - val_loss: 0.2156 - val_accuracy: 0.7650\n",
      "Epoch 19/20\n",
      "2512/2512 [==============================] - 11s 5ms/sample - loss: 0.0627 - accuracy: 0.9326 - val_loss: 0.2076 - val_accuracy: 0.7699\n",
      "Epoch 20/20\n",
      "2512/2512 [==============================] - 12s 5ms/sample - loss: 0.0605 - accuracy: 0.9355 - val_loss: 0.2127 - val_accuracy: 0.7612\n"
     ]
    }
   ],
   "source": [
    "\n",
    "model_lstm_sequence = tf.keras.Sequential([layers.Masking(), layers.LSTM(128, return_sequences=True), layers.TimeDistributed(layers.Dense(GESTURE_TYPES, activation='softmax'))])\n",
    "model_lstm_sequence.compile(loss=tf.losses.SparseCategoricalCrossentropy(), optimizer=tf.optimizers.Adam(), metrics=['accuracy'])\n",
    "history = model_lstm_sequence.fit(X, sequence_labels, epochs=20, validation_split=0.2)"
   ]
  },
  {
   "cell_type": "code",
   "execution_count": 11,
   "metadata": {},
   "outputs": [
    {
     "name": "stdout",
     "output_type": "stream",
     "text": [
      "Train on 2512 samples, validate on 629 samples\n",
      "Epoch 1/20\n",
      "2512/2512 [==============================] - 29s 11ms/sample - loss: 0.2757 - accuracy: 0.6881 - val_loss: 0.2241 - val_accuracy: 0.7308\n",
      "Epoch 2/20\n",
      "2512/2512 [==============================] - 16s 6ms/sample - loss: 0.1811 - accuracy: 0.7908 - val_loss: 0.2105 - val_accuracy: 0.7432\n",
      "Epoch 3/20\n",
      "2512/2512 [==============================] - 16s 6ms/sample - loss: 0.1591 - accuracy: 0.8154 - val_loss: 0.1974 - val_accuracy: 0.7535\n",
      "Epoch 4/20\n",
      "2512/2512 [==============================] - 16s 6ms/sample - loss: 0.1444 - accuracy: 0.8321 - val_loss: 0.1990 - val_accuracy: 0.7471\n",
      "Epoch 5/20\n",
      "2512/2512 [==============================] - 16s 6ms/sample - loss: 0.1363 - accuracy: 0.8412 - val_loss: 0.1947 - val_accuracy: 0.7597\n",
      "Epoch 6/20\n",
      "2512/2512 [==============================] - 15s 6ms/sample - loss: 0.1219 - accuracy: 0.8596 - val_loss: 0.1951 - val_accuracy: 0.7634\n",
      "Epoch 7/20\n",
      "2512/2512 [==============================] - 16s 6ms/sample - loss: 0.1136 - accuracy: 0.8701 - val_loss: 0.1879 - val_accuracy: 0.7651\n",
      "Epoch 8/20\n",
      "2512/2512 [==============================] - 16s 6ms/sample - loss: 0.1062 - accuracy: 0.8791 - val_loss: 0.1913 - val_accuracy: 0.7617\n",
      "Epoch 9/20\n",
      "2512/2512 [==============================] - 15s 6ms/sample - loss: 0.0990 - accuracy: 0.8892 - val_loss: 0.1958 - val_accuracy: 0.7667\n",
      "Epoch 10/20\n",
      "2512/2512 [==============================] - 15s 6ms/sample - loss: 0.0937 - accuracy: 0.8960 - val_loss: 0.1902 - val_accuracy: 0.7660\n",
      "Epoch 11/20\n",
      "2512/2512 [==============================] - 15s 6ms/sample - loss: 0.0876 - accuracy: 0.9045 - val_loss: 0.1929 - val_accuracy: 0.7786\n",
      "Epoch 12/20\n",
      "2512/2512 [==============================] - 15s 6ms/sample - loss: 0.0851 - accuracy: 0.9060 - val_loss: 0.2069 - val_accuracy: 0.7617\n",
      "Epoch 13/20\n",
      "2512/2512 [==============================] - 15s 6ms/sample - loss: 0.0802 - accuracy: 0.9113 - val_loss: 0.1956 - val_accuracy: 0.7702\n",
      "Epoch 14/20\n",
      "2512/2512 [==============================] - 15s 6ms/sample - loss: 0.0743 - accuracy: 0.9190 - val_loss: 0.2047 - val_accuracy: 0.7645\n",
      "Epoch 15/20\n",
      "2512/2512 [==============================] - 15s 6ms/sample - loss: 0.0712 - accuracy: 0.9230 - val_loss: 0.2072 - val_accuracy: 0.7677\n",
      "Epoch 16/20\n",
      "2512/2512 [==============================] - 15s 6ms/sample - loss: 0.0682 - accuracy: 0.9255 - val_loss: 0.2158 - val_accuracy: 0.7612\n",
      "Epoch 17/20\n",
      "2512/2512 [==============================] - 15s 6ms/sample - loss: 0.0643 - accuracy: 0.9315 - val_loss: 0.2183 - val_accuracy: 0.7606\n",
      "Epoch 18/20\n",
      "2512/2512 [==============================] - 15s 6ms/sample - loss: 0.0621 - accuracy: 0.9334 - val_loss: 0.2153 - val_accuracy: 0.7626\n",
      "Epoch 19/20\n",
      "2512/2512 [==============================] - 15s 6ms/sample - loss: 0.0595 - accuracy: 0.9374 - val_loss: 0.2154 - val_accuracy: 0.7597\n",
      "Epoch 20/20\n",
      "2512/2512 [==============================] - 15s 6ms/sample - loss: 0.0572 - accuracy: 0.9405 - val_loss: 0.2225 - val_accuracy: 0.7597\n"
     ]
    }
   ],
   "source": [
    "model_gru_sequence = tf.keras.Sequential([layers.Masking(), layers.GRU(128, return_sequences=True), layers.TimeDistributed(layers.Dense(GESTURE_TYPES, activation='softmax'))])\n",
    "model_gru_sequence.compile(loss=tf.losses.SparseCategoricalCrossentropy(), optimizer=tf.optimizers.Adam(), metrics=['accuracy'])\n",
    "history = model_gru_sequence.fit(X, sequence_labels, epochs=20, validation_split=0.2)"
   ]
  },
  {
   "cell_type": "markdown",
   "metadata": {},
   "source": [
    "CNN + LSTM"
   ]
  },
  {
   "cell_type": "code",
   "execution_count": 21,
   "metadata": {},
   "outputs": [
    {
     "name": "stdout",
     "output_type": "stream",
     "text": [
      "Train on 2512 samples, validate on 629 samples\n",
      "Epoch 1/20\n",
      "2512/2512 [==============================] - 9s 4ms/sample - loss: 1.2806 - accuracy: 0.5641 - val_loss: 0.7703 - val_accuracy: 0.7552\n",
      "Epoch 2/20\n",
      "2512/2512 [==============================] - 6s 2ms/sample - loss: 0.5473 - accuracy: 0.8288 - val_loss: 0.6470 - val_accuracy: 0.8108\n",
      "Epoch 3/20\n",
      "2512/2512 [==============================] - 5s 2ms/sample - loss: 0.4225 - accuracy: 0.8666 - val_loss: 0.6022 - val_accuracy: 0.8140\n",
      "Epoch 4/20\n",
      "2512/2512 [==============================] - 6s 2ms/sample - loss: 0.4045 - accuracy: 0.8742 - val_loss: 0.5405 - val_accuracy: 0.8378\n",
      "Epoch 5/20\n",
      "2512/2512 [==============================] - 6s 2ms/sample - loss: 0.3325 - accuracy: 0.8993 - val_loss: 0.6007 - val_accuracy: 0.8203\n",
      "Epoch 6/20\n",
      "2512/2512 [==============================] - 6s 2ms/sample - loss: 0.3238 - accuracy: 0.9005 - val_loss: 0.5627 - val_accuracy: 0.8362\n",
      "Epoch 7/20\n",
      "2512/2512 [==============================] - 6s 2ms/sample - loss: 0.3050 - accuracy: 0.9013 - val_loss: 0.5734 - val_accuracy: 0.8362\n",
      "Epoch 8/20\n",
      "2512/2512 [==============================] - 6s 2ms/sample - loss: 0.2734 - accuracy: 0.9176 - val_loss: 0.6149 - val_accuracy: 0.8362\n",
      "Epoch 9/20\n",
      "2512/2512 [==============================] - 6s 2ms/sample - loss: 0.2393 - accuracy: 0.9252 - val_loss: 0.5863 - val_accuracy: 0.8410\n",
      "Epoch 10/20\n",
      "2512/2512 [==============================] - 6s 2ms/sample - loss: 0.2385 - accuracy: 0.9252 - val_loss: 0.5966 - val_accuracy: 0.8506\n",
      "Epoch 11/20\n",
      "2512/2512 [==============================] - 6s 2ms/sample - loss: 0.2235 - accuracy: 0.9236 - val_loss: 0.6802 - val_accuracy: 0.8219\n",
      "Epoch 12/20\n",
      "2512/2512 [==============================] - 6s 2ms/sample - loss: 0.2477 - accuracy: 0.9148 - val_loss: 0.5973 - val_accuracy: 0.8331\n",
      "Epoch 13/20\n",
      "2512/2512 [==============================] - 6s 2ms/sample - loss: 0.2708 - accuracy: 0.9188 - val_loss: 0.5981 - val_accuracy: 0.8378\n",
      "Epoch 14/20\n",
      "2512/2512 [==============================] - 6s 2ms/sample - loss: 0.1805 - accuracy: 0.9399 - val_loss: 0.5737 - val_accuracy: 0.8410\n",
      "Epoch 15/20\n",
      "2512/2512 [==============================] - 6s 2ms/sample - loss: 0.1719 - accuracy: 0.9451 - val_loss: 0.5384 - val_accuracy: 0.8537\n",
      "Epoch 16/20\n",
      "2512/2512 [==============================] - 6s 2ms/sample - loss: 0.1374 - accuracy: 0.9586 - val_loss: 0.5588 - val_accuracy: 0.8601\n",
      "Epoch 17/20\n",
      "2512/2512 [==============================] - 6s 2ms/sample - loss: 0.1501 - accuracy: 0.9486 - val_loss: 0.5666 - val_accuracy: 0.8474\n",
      "Epoch 18/20\n",
      "2512/2512 [==============================] - 6s 2ms/sample - loss: 0.1398 - accuracy: 0.9554 - val_loss: 0.6195 - val_accuracy: 0.8362\n",
      "Epoch 19/20\n",
      "2512/2512 [==============================] - 6s 2ms/sample - loss: 0.1627 - accuracy: 0.9506 - val_loss: 0.6648 - val_accuracy: 0.8331\n",
      "Epoch 20/20\n",
      "2512/2512 [==============================] - 6s 2ms/sample - loss: 0.1536 - accuracy: 0.9526 - val_loss: 0.5963 - val_accuracy: 0.8537\n"
     ]
    }
   ],
   "source": [
    "model_cnnlstm2 = tf.keras.Sequential([layers.Masking(), layers.Conv1D(20,3,activation='relu'), layers.AveragePooling1D(), layers.Conv1D(20,3), layers.LSTM(128), layers.Dense(GESTURE_TYPES, activation='softmax')])\n",
    "model_cnnlstm2.compile(loss=tf.losses.SparseCategoricalCrossentropy(), optimizer=tf.optimizers.Adam(), metrics=['accuracy'])\n",
    "history = model_cnnlstm2.fit(X, labels, epochs=20, validation_split=0.2)"
   ]
  },
  {
   "cell_type": "code",
   "execution_count": null,
   "metadata": {},
   "outputs": [],
   "source": []
  }
 ],
 "metadata": {
  "kernelspec": {
   "display_name": "Python 3",
   "language": "python",
   "name": "python3"
  },
  "language_info": {
   "codemirror_mode": {
    "name": "ipython",
    "version": 3
   },
   "file_extension": ".py",
   "mimetype": "text/x-python",
   "name": "python",
   "nbconvert_exporter": "python",
   "pygments_lexer": "ipython3",
   "version": "3.7.9"
  }
 },
 "nbformat": 4,
 "nbformat_minor": 2
}
